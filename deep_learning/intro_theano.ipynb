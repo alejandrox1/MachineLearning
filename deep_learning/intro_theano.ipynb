{
 "cells": [
  {
   "cell_type": "code",
   "execution_count": 1,
   "metadata": {
    "collapsed": true
   },
   "outputs": [],
   "source": [
    "import numpy as np\n",
    "import pandas as pd\n",
    "import matplotlib.pyplot as plt\n",
    "\n",
    "import theano\n",
    "import theano.tensor as T"
   ]
  },
  {
   "cell_type": "code",
   "execution_count": 2,
   "metadata": {
    "collapsed": true
   },
   "outputs": [],
   "source": [
    "c = T.scalar('c')\n",
    "v = T.vector('v')\n",
    "A = T.matrix('A')"
   ]
  },
  {
   "cell_type": "code",
   "execution_count": 3,
   "metadata": {
    "collapsed": false
   },
   "outputs": [
    {
     "name": "stderr",
     "output_type": "stream",
     "text": [
      "WARNING (theano.tensor.blas): We did not found a dynamic library into the library_dir of the library we use for blas. If you use ATLAS, make sure to compile it with dynamics library.\n",
      "WARNING (theano.tensor.blas): We did not found a dynamic library into the library_dir of the library we use for blas. If you use ATLAS, make sure to compile it with dynamics library.\n"
     ]
    },
    {
     "name": "stdout",
     "output_type": "stream",
     "text": [
      "[array([ 17.,  39.])]\n"
     ]
    }
   ],
   "source": [
    "u = A.dot(v)\n",
    "matrix_times_vector = theano.function(inputs=[A,v], outputs=[u])\n",
    "\n",
    "A_val = np.array([[1,2], [3,4]])\n",
    "v_val = np.array([5,6])\n",
    "u_val = matrix_times_vector(A_val, v_val)\n",
    "print(u_val)"
   ]
  },
  {
   "cell_type": "code",
   "execution_count": 4,
   "metadata": {
    "collapsed": false,
    "scrolled": true
   },
   "outputs": [
    {
     "name": "stdout",
     "output_type": "stream",
     "text": [
      "420.0\n",
      "66.99000000000001\n",
      "10.508400000000005\n",
      "1.471344000000001\n",
      "0.025415040000000264\n",
      "-0.20593359359999994\n",
      "-0.24294937497599997\n",
      "-0.24887189999616\n",
      "-0.2498195039993856\n",
      "-0.2499711206399017\n",
      "-0.24999537930238427\n",
      "-0.2499992606883815\n",
      "-0.24999988171014104\n",
      "-0.24999998107362256\n",
      "-0.2499999969717796\n",
      "-0.24999999951548474\n",
      "-0.24999999992247757\n",
      "-0.24999999998759642\n",
      "-0.24999999999801542\n",
      "-0.24999999999968248\n",
      "-0.2499999999999492\n",
      "-0.24999999999999187\n",
      "-0.2499999999999987\n",
      "-0.2499999999999998\n",
      "-0.24999999999999997\n",
      "<bound method SharedVariable.get_value of x>\n"
     ]
    }
   ],
   "source": [
    "x = theano.shared(20.0, 'x')\n",
    "\n",
    "cost = x*x + x\n",
    "x_update = x - 0.3 * T.grad(cost, x)\n",
    "\n",
    "train = theano.function(inputs=[], outputs=cost, updates=[(x, x_update)])\n",
    "\n",
    "for i in range(25):\n",
    "    cost_val = train()\n",
    "    print(cost_val)\n",
    "    \n",
    "print(x.get_value)"
   ]
  },
  {
   "cell_type": "code",
   "execution_count": 5,
   "metadata": {
    "collapsed": false
   },
   "outputs": [],
   "source": [
    "def y2indicator(y, K):\n",
    "    '''Transfor Y into an indicator matrix\n",
    "    The indicator matrix will be an NxK matrix.\n",
    "    \n",
    "    N : number of samples\n",
    "    K : number of classes in the output\n",
    "    '''\n",
    "    N = len(y)\n",
    "    ind = np.zeros((N, K))\n",
    "    for i in range(N):\n",
    "        j = int(y[i])\n",
    "        ind[i, j] = 1\n",
    "    return ind\n",
    "\n",
    "def get_normalized_data():\n",
    "    df = pd.read_csv('data/train.csv')\n",
    "    data = df.as_matrix().astype(np.float32)\n",
    "    \n",
    "    np.random.shuffle(data)\n",
    "    Y = data[:, 0]\n",
    "    X = data[:, 1:]\n",
    "    mu = X.mean(axis=0)\n",
    "    std  = X.std(axis=0)\n",
    "    # if value equals to 0 replace by 1\n",
    "    np.place(std, std==0, 1) \n",
    "    X = (X - mu)/ std\n",
    "    \n",
    "    return X, Y    \n",
    "\n",
    "def error_rate(p, t):\n",
    "    return np.mean(p != t)"
   ]
  },
  {
   "cell_type": "code",
   "execution_count": 6,
   "metadata": {
    "collapsed": false
   },
   "outputs": [],
   "source": [
    "X, Y = get_normalized_data()\n",
    "max_iter = 10\n",
    "print_period = 50\n",
    "\n",
    "lr = 4e-5\n",
    "reg = 1e-2\n",
    "\n",
    "# D : dimensionality (features), K: classes\n",
    "N, D = X.shape\n",
    "M = 300\n",
    "K = len(np.unique(Y))\n",
    "batch_sz = 500\n",
    "n_batches = int( N / batch_sz )\n",
    "\n",
    "Xtrain = X[:-1000,]\n",
    "Xtest  = X[-1000:,]\n",
    "Ytrain = Y[:-1000]\n",
    "Ytest  = Y[-1000:]\n",
    "Ytrain_ind = y2indicator(Ytrain, K)\n",
    "Ytest_ind = y2indicator(Ytest, K)\n",
    "\n",
    "W1_init = np.random.randn(D, M) / 28\n",
    "b1_init = np.zeros(M)\n",
    "W2_init = np.random.randn(M, K) / np.sqrt(M)\n",
    "b2_init = np.zeros(K)"
   ]
  },
  {
   "cell_type": "code",
   "execution_count": 7,
   "metadata": {
    "collapsed": false
   },
   "outputs": [],
   "source": [
    "# Inputs\n",
    "thX = T.matrix('X')\n",
    "thT = T.matrix('T')\n",
    "\n",
    "# Weights\n",
    "W1 = theano.shared(W1_init, 'W1')\n",
    "b1 = theano.shared(b1_init, 'b1')\n",
    "W2 = theano.shared(W2_init, 'W2')\n",
    "b2 = theano.shared(b2_init, 'b2')\n",
    "\n",
    "# Layers\n",
    "thZ = T.tanh( thX.dot(W1) + b1 )\n",
    "thY = T.nnet.softmax( thZ.dot(W2) + b2 )\n",
    "\n",
    "# cost\n",
    "cost = -(thT * T.log(thY)).sum() + reg*((W1*W1).sum() + (b1*b1).sum() + (W2*W2).sum() + (b2*b2).sum())\n",
    "prediction = T.argmax(thY, axis=1)\n",
    "\n",
    "# Update\n",
    "update_W1 = W1 - lr * T.grad(cost, W1)\n",
    "update_b1 = b1 - lr * T.grad(cost, b1)\n",
    "update_W2 = W2 - lr * T.grad(cost, W2)\n",
    "update_b2 = b2 - lr * T.grad(cost, b2)\n",
    "\n",
    "# train\n",
    "train = theano.function(inputs=[thX, thT],\n",
    "                       updates=[(W1, update_W1), (b1, update_b1), (W2, update_W2), (b2, update_b2)])\n",
    "\n",
    "# prediction function - classification rate\n",
    "get_prediction = theano.function(inputs=[thX, thT],\n",
    "                                outputs=[cost, prediction])"
   ]
  },
  {
   "cell_type": "code",
   "execution_count": 9,
   "metadata": {
    "collapsed": false
   },
   "outputs": [
    {
     "name": "stdout",
     "output_type": "stream",
     "text": [
      "Cost / err at iteration i=0, j=83: 300.70691748156725 / 0.087\n"
     ]
    },
    {
     "data": {
      "image/png": "[encoded data removed]",
      "text/plain": [
       "<matplotlib.figure.Figure at 0x7f8227f64240>"
      ]
     },
     "metadata": {},
     "output_type": "display_data"
    }
   ],
   "source": [
    "LL = []\n",
    "for i in range(max_iter):\n",
    "    for j in range(n_batches):\n",
    "        Xbatch = Xtrain[j*batch_sz: (j*batch_sz + batch_sz), ]\n",
    "        Ybatch = Ytrain_ind[j*batch_sz: (j*batch_sz + batch_sz), ]\n",
    "        \n",
    "        train(Xbatch, Ybatch)\n",
    "    if i % print_period == 0:\n",
    "        cost_val, prediction_val = get_prediction(Xtest, Ytest_ind)\n",
    "        err = error_rate(prediction_val, Ytest)\n",
    "        print('Cost / err at iteration i={}, j={}: {} / {}'.format(i, j, cost_val, err))\n",
    "        LL.append(cost_val)\n",
    "            \n",
    "plt.plot(LL)\n",
    "plt.show()"
   ]
  },
  {
   "cell_type": "code",
   "execution_count": null,
   "metadata": {
    "collapsed": true
   },
   "outputs": [],
   "source": []
  }
 ],
 "metadata": {
  "kernelspec": {
   "display_name": "Python 3",
   "language": "python",
   "name": "python3"
  },
  "language_info": {
   "codemirror_mode": {
    "name": "ipython",
    "version": 3
   },
   "file_extension": ".py",
   "mimetype": "text/x-python",
   "name": "python",
   "nbconvert_exporter": "python",
   "pygments_lexer": "ipython3",
   "version": "3.6.0"
  }
 },
 "nbformat": 4,
 "nbformat_minor": 2
}
