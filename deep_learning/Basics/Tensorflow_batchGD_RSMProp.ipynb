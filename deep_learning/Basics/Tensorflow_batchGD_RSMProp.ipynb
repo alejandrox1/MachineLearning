{
 "cells": [
  {
   "cell_type": "code",
   "execution_count": 13,
   "metadata": {
    "collapsed": true
   },
   "outputs": [],
   "source": [
    "import numpy as np\n",
    "import pandas as pd\n",
    "import matplotlib.pyplot as plt\n",
    "\n",
    "import tensorflow as tf"
   ]
  },
  {
   "cell_type": "code",
   "execution_count": 14,
   "metadata": {
    "collapsed": true
   },
   "outputs": [],
   "source": [
    "def y2indicator(Y, K=10):\n",
    "    # K=10 for MNIST\n",
    "    # Python\n",
    "    N = len(Y)\n",
    "    Y = Y.astype(np.int32)\n",
    "    ind = np.zeros((N, K))\n",
    "    for i in range(N):\n",
    "        ind[i, Y[i]] = 1\n",
    "    return ind\n",
    "    \n",
    "def get_normalized_data():\n",
    "    df = pd.read_csv('../datasets/mnist/train.csv')\n",
    "    data = df.as_matrix().astype(np.float32)\n",
    "    np.random.shuffle(data)\n",
    "    Y = data[:,0]\n",
    "    X = data[:,1:]\n",
    "    mu = X.mean(axis=0)\n",
    "    std = X.std(axis=0)\n",
    "    np.place(std, std==0, 1)\n",
    "    X = (X-mu)/std\n",
    "    return X, Y\n",
    "\n",
    "def error(p, t):\n",
    "    return np.mean(p != t)"
   ]
  },
  {
   "cell_type": "code",
   "execution_count": 15,
   "metadata": {
    "collapsed": true
   },
   "outputs": [],
   "source": [
    "def xavier_init(size):\n",
    "    in_dim = size[0]\n",
    "    xavier_stddev = 1.0 / tf.sqrt(in_dim/2.0)\n",
    "    return tf.random_normal(shape=size, stddev=xavier_stddev)\n",
    "\n",
    "def NN(X, W1, b1, W2, b2, W3, b3):\n",
    "    Z1 = tf.nn.relu( tf.matmul(X,W1)+b1 )\n",
    "    Z2 = tf.nn.relu( tf.matmul(Z1,W2)+b2 )\n",
    "    return tf.matmul(Z2,W3)+b3"
   ]
  },
  {
   "cell_type": "code",
   "execution_count": 16,
   "metadata": {
    "collapsed": true
   },
   "outputs": [],
   "source": [
    "# Input\n",
    "X, Y = get_normalized_data()\n",
    "Xtrain = X[:-1000,]                                                         \n",
    "Ytrain = Y[:-1000]                                                          \n",
    "Xtest  = X[-1000:,]                                                         \n",
    "Ytest  = Y[-1000:]                                                          \n",
    "Ytrain_ind = y2indicator(Ytrain)                                            \n",
    "Ytest_ind = y2indicator(Ytest)\n",
    "\n",
    "# Parameters\n",
    "lr = 1.0e-5\n",
    "reg = 1.0e-2\n",
    "N, D = Xtrain.shape\n",
    "M1 = 300\n",
    "M2 = 100\n",
    "K=10\n",
    "\n",
    "max_iter = 100\n",
    "print_period = 10\n",
    "batch_size = 500\n",
    "n_batches = N//batch_size"
   ]
  },
  {
   "cell_type": "code",
   "execution_count": 17,
   "metadata": {
    "collapsed": false
   },
   "outputs": [],
   "source": [
    "X = tf.placeholder(tf.float32, shape=[None, D], name='X')\n",
    "T = tf.placeholder(tf.float32, shape=[None, K], name='T')\n",
    "\n",
    "W1 = tf.Variable(xavier_init([D, M1]), name='W1')\n",
    "b1 = tf.Variable(tf.zeros(shape=[M1]), name='b1')\n",
    "W2 = tf.Variable(xavier_init([M1, M2]), name='W2')\n",
    "b2 = tf.Variable(tf.zeros(shape=[M2]), name='b2')\n",
    "W3 = tf.Variable(xavier_init([M2, K]), name='W3')\n",
    "b3 = tf.Variable(tf.zeros(shape=[K]), name='b3')\n",
    "\n",
    "logits = NN(X, W1, b1, W2, b2, W3, b3)\n",
    "\n",
    "cost = tf.reduce_mean(\n",
    "    tf.nn.softmax_cross_entropy_with_logits(labels=T, logits=logits))\n",
    "\n",
    "#train_op = tf.train.GradientDescentOptimizer(0.001).minimize(cost)\n",
    "train_op = tf.train.RMSPropOptimizer(lr, decay=0.99, momentum=0.9).minimize(cost)\n",
    "predict_op = tf.argmax(logits, 1)"
   ]
  },
  {
   "cell_type": "code",
   "execution_count": 18,
   "metadata": {
    "collapsed": false
   },
   "outputs": [
    {
     "name": "stdout",
     "output_type": "stream",
     "text": [
      "Cost / err at iteration: 2.8718574047088623 / 0.935\n",
      "Cost / err at iteration: 0.6607075333595276 / 0.177\n",
      "Cost / err at iteration: 0.23873122036457062 / 0.054\n",
      "Cost / err at iteration: 0.20023183524608612 / 0.039\n",
      "Cost / err at iteration: 0.19418542087078094 / 0.033\n",
      "Cost / err at iteration: 0.20481577515602112 / 0.028\n",
      "Cost / err at iteration: 0.22485245764255524 / 0.028\n",
      "Cost / err at iteration: 0.25088614225387573 / 0.029\n",
      "Cost / err at iteration: 0.2757429778575897 / 0.026\n",
      "Cost / err at iteration: 0.2947321832180023 / 0.026\n"
     ]
    }
   ],
   "source": [
    "costs = []\n",
    "init = tf.global_variables_initializer()\n",
    "with tf.Session() as session:\n",
    "    session.run(init)\n",
    "\n",
    "    for i in range(max_iter):\n",
    "        for j in range(n_batches):\n",
    "            batch_range = (j*batch_size, j*batch_size + batch_size)\n",
    "        \n",
    "            Xbatch = Xtrain[batch_range[0]:batch_range[1], ]                \n",
    "            Ybatch = Ytrain_ind[batch_range[0]:batch_range[1], ]\n",
    "\n",
    "            session.run(train_op, feed_dict={X: Xbatch, T: Ybatch})\n",
    "        if i % print_period == 0:\n",
    "            test_cost = session.run(cost, feed_dict={X: Xtest, T: Ytest_ind})\n",
    "            prediction = session.run(predict_op, feed_dict={X: Xtest})\n",
    "            err = error(prediction, Ytest)\n",
    "            print(\"Cost / err at iteration: {} / {}\".format(test_cost, err))\n",
    "            costs.append(test_cost)"
   ]
  },
  {
   "cell_type": "code",
   "execution_count": 19,
   "metadata": {
    "collapsed": false
   },
   "outputs": [
    {
     "data": {
      "image/png": "[encoded data removed]",
      "text/plain": [
       "<matplotlib.figure.Figure at 0x7f531a0e5fd0>"
      ]
     },
     "metadata": {},
     "output_type": "display_data"
    }
   ],
   "source": [
    "plt.plot(costs)\n",
    "plt.show()"
   ]
  },
  {
   "cell_type": "code",
   "execution_count": null,
   "metadata": {
    "collapsed": true
   },
   "outputs": [],
   "source": []
  }
 ],
 "metadata": {
  "kernelspec": {
   "display_name": "Python 3",
   "language": "python",
   "name": "python3"
  },
  "language_info": {
   "codemirror_mode": {
    "name": "ipython",
    "version": 3
   },
   "file_extension": ".py",
   "mimetype": "text/x-python",
   "name": "python",
   "nbconvert_exporter": "python",
   "pygments_lexer": "ipython3",
   "version": "3.6.0"
  }
 },
 "nbformat": 4,
 "nbformat_minor": 2
}
