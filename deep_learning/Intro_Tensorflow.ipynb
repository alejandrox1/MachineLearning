{
 "cells": [
  {
   "cell_type": "code",
   "execution_count": 25,
   "metadata": {
    "collapsed": false
   },
   "outputs": [],
   "source": [
    "import numpy as np\n",
    "import matplotlib.patches as mpatches\n",
    "import matplotlib.pyplot as plt\n",
    "plt.rcParams['figure.figsize'] = (10,6)\n",
    "\n",
    "import tensorflow as tf"
   ]
  },
  {
   "cell_type": "code",
   "execution_count": 4,
   "metadata": {
    "collapsed": false
   },
   "outputs": [
    {
     "name": "stdout",
     "output_type": "stream",
     "text": [
      "[5]\n"
     ]
    }
   ],
   "source": [
    "# source operations\n",
    "a = tf.constant([2])\n",
    "b = tf.constant([3])\n",
    "\n",
    "c = tf.add(a,b)\n",
    "\n",
    "with tf.Session() as session:\n",
    "    result = session.run(c)\n",
    "    print(result)"
   ]
  },
  {
   "cell_type": "code",
   "execution_count": 7,
   "metadata": {
    "collapsed": false
   },
   "outputs": [
    {
     "name": "stdout",
     "output_type": "stream",
     "text": [
      "Scalar: \n",
      "[2]\n",
      "\n",
      "Vector: \n",
      "[5 6 2]\n",
      "\n",
      "Matrix: \n",
      "[[1 2 3]\n",
      " [2 3 4]\n",
      " [3 4 5]]\n",
      "\n",
      "Tensor: \n",
      "[[[1 2 3]\n",
      "  [2 3 4]\n",
      "  [3 4 5]]\n",
      "\n",
      " [[2 3 4]\n",
      "  [3 4 5]\n",
      "  [4 5 6]]\n",
      "\n",
      " [[3 4 5]\n",
      "  [4 5 6]\n",
      "  [5 6 7]]]\n",
      "\n"
     ]
    }
   ],
   "source": [
    "scalar = tf.constant([2])\n",
    "vector = tf.constant([5, 6, 2])\n",
    "matrix = tf.constant([ [1, 2, 3], [2, 3, 4], [3, 4, 5] ])\n",
    "tensor = tf.constant([ [[1,2,3], [2,3,4], [3,4,5]], \n",
    "                      [[2,3,4], [3,4,5], [4,5,6]],\n",
    "                      [[3,4,5], [4,5,6], [5,6,7]] ])\n",
    "with tf.Session() as session:\n",
    "    result = session.run(scalar)\n",
    "    print('Scalar: \\n{}\\n'.format(result))\n",
    "    result = session.run(vector)\n",
    "    print('Vector: \\n{}\\n'.format(result))\n",
    "    result = session.run(matrix)\n",
    "    print('Matrix: \\n{}\\n'.format(result))\n",
    "    result = session.run(tensor)\n",
    "    print('Tensor: \\n{}\\n'.format(result))"
   ]
  },
  {
   "cell_type": "markdown",
   "metadata": {},
   "source": [
    "# Variables"
   ]
  },
  {
   "cell_type": "code",
   "execution_count": 14,
   "metadata": {
    "collapsed": false
   },
   "outputs": [
    {
     "name": "stdout",
     "output_type": "stream",
     "text": [
      "0\n",
      "1\n",
      "2\n",
      "3\n"
     ]
    }
   ],
   "source": [
    "state = tf.Variable(0)\n",
    "one = tf.constant(1)\n",
    "new_value = tf.add(state, one)\n",
    "update = tf.assign(state, new_value)\n",
    "\n",
    "# variables must be initialized after launching the graph\n",
    "# add initialization op to graph\n",
    "init_op = tf.global_variables_initializer()\n",
    "\n",
    "with tf.Session() as session:\n",
    "    session.run(init_op)\n",
    "    print(session.run(state))\n",
    "    for _ in range(3):\n",
    "        session.run(update)\n",
    "        print(session.run(state))"
   ]
  },
  {
   "cell_type": "markdown",
   "metadata": {},
   "source": [
    "# Placeholder"
   ]
  },
  {
   "cell_type": "code",
   "execution_count": 15,
   "metadata": {
    "collapsed": false
   },
   "outputs": [
    {
     "name": "stdout",
     "output_type": "stream",
     "text": [
      "12.25\n"
     ]
    }
   ],
   "source": [
    "a = tf.placeholder(tf.float32)\n",
    "b = a*a\n",
    "\n",
    "with tf.Session() as session:\n",
    "    result = session.run(b, feed_dict={a:3.5})\n",
    "    print(result)"
   ]
  },
  {
   "cell_type": "markdown",
   "metadata": {},
   "source": [
    "# Linear Regression"
   ]
  },
  {
   "cell_type": "code",
   "execution_count": 20,
   "metadata": {
    "collapsed": false
   },
   "outputs": [
    {
     "data": {
      "image/png": "[encoded data removed]",
      "text/plain": [
       "<matplotlib.figure.Figure at 0x7f561961e748>"
      ]
     },
     "metadata": {},
     "output_type": "display_data"
    }
   ],
   "source": [
    "X = np.arange(0, 5, 0.1)\n",
    "a = 1\n",
    "b = 0\n",
    "\n",
    "Y = a*X + b\n",
    "\n",
    "plt.plot(X,Y)\n",
    "plt.ylabel('Dependent Variable')\n",
    "plt.xlabel('Independent Variable')\n",
    "plt.show();"
   ]
  },
  {
   "cell_type": "code",
   "execution_count": 21,
   "metadata": {
    "collapsed": true
   },
   "outputs": [],
   "source": [
    "X_data = np.random.rand(100).astype(np.float32)\n",
    "Y_data = 3*X_data + 2\n",
    "\n",
    "# add Gaussian noise\n",
    "Y_data = np.vectorize(lambda y: y + np.random.normal(loc=0.0, scale=0.1))(Y_data)"
   ]
  },
  {
   "cell_type": "code",
   "execution_count": 47,
   "metadata": {
    "collapsed": false
   },
   "outputs": [
    {
     "name": "stdout",
     "output_type": "stream",
     "text": [
      "0 [1.3191357, 0.76427895]\n",
      "30 [2.4730215, 2.2950373]\n",
      "60 [2.6393461, 2.2051973]\n",
      "90 [2.7495968, 2.1454351]\n",
      "120 [2.8227365, 2.1057887]\n",
      "150 [2.8712573, 2.0794876]\n",
      "180 [2.9034457, 2.0620394]\n",
      "210 [2.9247994, 2.0504646]\n",
      "240 [2.9389656, 2.0427859]\n",
      "270 [2.9483638, 2.0376914]\n",
      "300 [2.9545982, 2.0343118]\n",
      "330 [2.958734, 2.0320699]\n",
      "360 [2.9614778, 2.0305827]\n",
      "390 [2.9632981, 2.0295961]\n",
      "420 [2.964505, 2.0289419]\n",
      "450 [2.9653063, 2.0285075]\n",
      "480 [2.9658375, 2.0282195]\n"
     ]
    }
   ],
   "source": [
    "a = tf.Variable(1.0)\n",
    "b = tf.Variable(0.2)\n",
    "Y = a*X_data + b\n",
    "\n",
    "# In linear regression we minimize the squared error \n",
    "loss = tf.reduce_mean( tf.square(Y-Y_data) )\n",
    "\n",
    "optimizer = tf.train.GradientDescentOptimizer(0.1)\n",
    "train = optimizer.minimize(loss)\n",
    "\n",
    "init_op = tf.global_variables_initializer()\n",
    "with tf.Session() as session:\n",
    "    session.run(init_op)\n",
    "    \n",
    "    train_data = []\n",
    "    for step in range(501):\n",
    "        evals = session.run([train, a, b])[1:]\n",
    "        if step%30==0:\n",
    "            print(step, evals)\n",
    "            train_data.append(evals)"
   ]
  },
  {
   "cell_type": "code",
   "execution_count": 48,
   "metadata": {
    "collapsed": false
   },
   "outputs": [
    {
     "data": {
      "image/png": "[encoded data removed]",
      "text/plain": [
       "<matplotlib.figure.Figure at 0x7f55e01ac1d0>"
      ]
     },
     "metadata": {},
     "output_type": "display_data"
    }
   ],
   "source": [
    "converter = plt.colors\n",
    "cr, cg, cb = 1.0, 1.0, 0.0\n",
    "for f in train_data:\n",
    "    cb += 1.0 / len(train_data)\n",
    "    cg -= 1.0 / len(train_data)\n",
    "    if cb>1.0: cb=1.0\n",
    "    if cg<0.0: cg=0.0\n",
    "    [a, b] = f\n",
    "    f_y = np.vectorize(lambda x: a*x + b)(X_data)\n",
    "    line = plt.plot(X_data, f_y)\n",
    "    plt.setp(line, color=(cr, cg, cb))\n",
    "    \n",
    "plt.plot(X_data, Y_data, 'ro')\n",
    "\n",
    "green_line = mpatches.Patch(color='red', label='Data Points')\n",
    "plt.legend(handles=[green_line])\n",
    "\n",
    "plt.show();"
   ]
  },
  {
   "cell_type": "markdown",
   "metadata": {},
   "source": [
    "# Logistic Regression"
   ]
  },
  {
   "cell_type": "code",
   "execution_count": null,
   "metadata": {
    "collapsed": true
   },
   "outputs": [],
   "source": []
  }
 ],
 "metadata": {
  "kernelspec": {
   "display_name": "Python 3",
   "language": "python",
   "name": "python3"
  },
  "language_info": {
   "codemirror_mode": {
    "name": "ipython",
    "version": 3
   },
   "file_extension": ".py",
   "mimetype": "text/x-python",
   "name": "python",
   "nbconvert_exporter": "python",
   "pygments_lexer": "ipython3",
   "version": "3.6.0"
  }
 },
 "nbformat": 4,
 "nbformat_minor": 2
}
