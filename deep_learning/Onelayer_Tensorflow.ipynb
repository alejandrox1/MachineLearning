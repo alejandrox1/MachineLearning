{
 "cells": [
  {
   "cell_type": "code",
   "execution_count": 1,
   "metadata": {
    "collapsed": true
   },
   "outputs": [],
   "source": [
    "import numpy as np\n",
    "import matplotlib.pyplot as plt\n",
    "\n",
    "import tensorflow as tf"
   ]
  },
  {
   "cell_type": "code",
   "execution_count": 3,
   "metadata": {
    "collapsed": true
   },
   "outputs": [],
   "source": [
    "Nclass = 500 # 500 samples per class\n",
    "D = 2 # dimensions\n",
    "M = 3 # Number of Hidden layers\n",
    "K = 3 # number of classes\n",
    "\n",
    "# 3 gaussian clouds\n",
    "X1 = np.random.randn(Nclass, 2) + np.array([0, -2])\n",
    "X2 = np.random.randn(Nclass, 2) + np.array([2, 2])\n",
    "X3 = np.random.randn(Nclass, 2) + np.array([-2, 2])\n",
    "X = np.vstack([X1, X2, X3])\n",
    "\n",
    "# create labels\n",
    "Y = np.array([0]*Nclass + [1]*Nclass + [2]*Nclass)\n",
    "N = len(Y)\n",
    "# Indicator matrix\n",
    "T = np.zeros((N,K))\n",
    "for i in range(N):\n",
    "    T[i, Y[i]] = 1"
   ]
  },
  {
   "cell_type": "code",
   "execution_count": 4,
   "metadata": {
    "collapsed": true
   },
   "outputs": [],
   "source": [
    "def init_weights(shape):\n",
    "    return tf.Variable(tf.random_normal(shape, stddev=0.01))\n",
    "\n",
    "def forward(X, W1, b1, W2, b2):\n",
    "    Z = tf.nn.sigmoid( tf.matmul(X,W1)+b1 )\n",
    "    return tf.matmul(Z,W2)+b2"
   ]
  },
  {
   "cell_type": "code",
   "execution_count": 16,
   "metadata": {
    "collapsed": false
   },
   "outputs": [],
   "source": [
    "tfX = tf.placeholder(tf.float32, [None, D])\n",
    "tfY = tf.placeholder(tf.float32, [None, K])\n",
    "\n",
    "# Create symbolic variables\n",
    "W1 = init_weights([D, M])\n",
    "b1 = init_weights([M])\n",
    "W2 = init_weights([M, K])\n",
    "b1 = init_weights([K])\n",
    "\n",
    "logits = forward(tfX, W1, b1, W2, b2)\n",
    "\n",
    "cost = tf.reduce_mean(\n",
    "    tf.nn.softmax_cross_entropy_with_logits(labels=tfY, logits=logits))\n",
    "\n",
    "train_op = tf.train.GradientDescentOptimizer(0.001).minimize(cost)\n",
    "predict_op = tf.argmax(logits, 1)"
   ]
  },
  {
   "cell_type": "code",
   "execution_count": 19,
   "metadata": {
    "collapsed": false
   },
   "outputs": [
    {
     "name": "stdout",
     "output_type": "stream",
     "text": [
      "Accuracy: 0.333333333333\n",
      "Accuracy: 0.368\n",
      "Accuracy: 0.956\n",
      "Accuracy: 0.960666666667\n",
      "Accuracy: 0.961333333333\n",
      "Accuracy: 0.959333333333\n",
      "Accuracy: 0.959333333333\n",
      "Accuracy: 0.96\n",
      "Accuracy: 0.959333333333\n",
      "Accuracy: 0.962\n",
      "Accuracy: 0.962666666667\n",
      "Accuracy: 0.964\n",
      "Accuracy: 0.964\n",
      "Accuracy: 0.964\n",
      "Accuracy: 0.964\n",
      "Accuracy: 0.964666666667\n",
      "Accuracy: 0.965333333333\n",
      "Accuracy: 0.965333333333\n",
      "Accuracy: 0.966666666667\n",
      "Accuracy: 0.966666666667\n"
     ]
    },
    {
     "data": {
      "image/png": "[encoded data removed]",
      "text/plain": [
       "<matplotlib.figure.Figure at 0x7f181dd5a160>"
      ]
     },
     "metadata": {},
     "output_type": "display_data"
    }
   ],
   "source": [
    "costs = []\n",
    "\n",
    "init = tf.global_variables_initializer()\n",
    "with tf.Session() as session:\n",
    "    session.run(init)\n",
    "    \n",
    "    for i in range(100000):\n",
    "        session.run(train_op, feed_dict={tfX: X, tfY: T})\n",
    "        \n",
    "        c = session.run(cost, feed_dict={tfX: X, tfY: T})\n",
    "        pred = session.run(predict_op, feed_dict={tfX: X, tfy:T})\n",
    "            \n",
    "        costs.append(c)\n",
    "        if i%5000==0:\n",
    "            print(\"Accuracy:\", np.mean(Y == pred))\n",
    "    \n",
    "    plt.plot(costs)\n",
    "    plt.show();"
   ]
  },
  {
   "cell_type": "code",
   "execution_count": null,
   "metadata": {
    "collapsed": true
   },
   "outputs": [],
   "source": []
  }
 ],
 "metadata": {
  "kernelspec": {
   "display_name": "Python 3",
   "language": "python",
   "name": "python3"
  },
  "language_info": {
   "codemirror_mode": {
    "name": "ipython",
    "version": 3
   },
   "file_extension": ".py",
   "mimetype": "text/x-python",
   "name": "python",
   "nbconvert_exporter": "python",
   "pygments_lexer": "ipython3",
   "version": "3.6.0"
  }
 },
 "nbformat": 4,
 "nbformat_minor": 2
}
