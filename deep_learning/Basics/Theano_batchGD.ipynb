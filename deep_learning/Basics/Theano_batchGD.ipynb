{
 "cells": [
  {
   "cell_type": "code",
   "execution_count": 10,
   "metadata": {
    "collapsed": false
   },
   "outputs": [],
   "source": [
    "import numpy as np\n",
    "import pandas as pd\n",
    "import matplotlib.pyplot as plt\n",
    "import theano\n",
    "import theano.tensor as T"
   ]
  },
  {
   "cell_type": "code",
   "execution_count": 11,
   "metadata": {
    "collapsed": true
   },
   "outputs": [],
   "source": [
    "def y2indicator(Y, K=10):\n",
    "    # K=10 for MNIST\n",
    "    # Python\n",
    "    N = len(Y)\n",
    "    Y = Y.astype(np.int32)\n",
    "    ind = np.zeros((N, K))\n",
    "    for i in range(N):\n",
    "        ind[i, Y[i]] = 1\n",
    "    return ind\n",
    "    \n",
    "def get_normalized_data():\n",
    "    df = pd.read_csv('../datasets/mnist/train.csv')\n",
    "    data = df.as_matrix().astype(np.float32)\n",
    "    np.random.shuffle(data)\n",
    "    Y = data[:,0]\n",
    "    X = data[:,1:]\n",
    "    mu = X.mean(axis=0)\n",
    "    std = X.std(axis=0)\n",
    "    np.place(std, std==0, 1)\n",
    "    X = (X-mu)/std\n",
    "    return X, Y\n",
    "\n",
    "def error(p, t):\n",
    "    return np.mean(p != t)"
   ]
  },
  {
   "cell_type": "code",
   "execution_count": 12,
   "metadata": {
    "collapsed": true
   },
   "outputs": [],
   "source": [
    "def xavier_init(size):\n",
    "    in_dim = size[0]\n",
    "    xavier_stddev = np.sqrt(in_dim/2.0)\n",
    "    return np.random.randn(size[0],size[1]) / xavier_stddev\n",
    "\n",
    "def NN(X, W1, b1, W2, b2):\n",
    "    Z = T.nnet.nnet.relu( X.dot(W1)+b1 )\n",
    "    Y = T.nnet.nnet.softmax( Z.dot(W2)+b2 )\n",
    "    return Y, Z"
   ]
  },
  {
   "cell_type": "code",
   "execution_count": 13,
   "metadata": {
    "collapsed": false
   },
   "outputs": [],
   "source": [
    "# Input\n",
    "X, Y = get_normalized_data()\n",
    "Xtrain = X[:-1000,]                                                         \n",
    "Ytrain = Y[:-1000]                                                          \n",
    "Xtest  = X[-1000:,]                                                         \n",
    "Ytest  = Y[-1000:]                                                          \n",
    "Ytrain_ind = y2indicator(Ytrain)                                            \n",
    "Ytest_ind = y2indicator(Ytest)\n",
    "\n",
    "# Parameters\n",
    "lr = 1.0e-5\n",
    "reg = 1.0e-2\n",
    "N, D = Xtrain.shape\n",
    "M = 300\n",
    "K=10\n",
    "\n",
    "max_iter = 100\n",
    "print_period = 10\n",
    "batch_size = 500\n",
    "n_batches = N//batch_size"
   ]
  },
  {
   "cell_type": "code",
   "execution_count": 16,
   "metadata": {
    "collapsed": false
   },
   "outputs": [],
   "source": [
    "thX = T.matrix('X')\n",
    "thT = T.matrix('T')\n",
    "\n",
    "\n",
    "W1_init = xavier_init([D, M])\n",
    "b1_init = np.zeros(M)\n",
    "W2_init = xavier_init([M, K])\n",
    "b2_init = np.zeros(K)\n",
    "W1 = theano.shared(W1_init, 'W1')\n",
    "b1 = theano.shared(b1_init, 'b1')\n",
    "W2 = theano.shared(W2_init, 'W2')\n",
    "b2 = theano.shared(b2_init, 'b2')\n",
    "\n",
    "\n",
    "\n",
    "thY, thZ = NN(thX, W1, b1, W2, b2)\n",
    "    \n",
    "cost = -(thT * T.log(thY)).sum() + reg*((W1*W1).sum() + (b1*b1).sum() + (W2*W2).sum() + (b2*b2).sum())\n",
    "\n",
    "prediction = T.argmax(thY, axis=1)\n",
    "\n",
    "\n",
    "\n",
    "update_W1 = W1 - lr*T.grad(cost, W1)\n",
    "update_b1 = b1 - lr*T.grad(cost, b1)\n",
    "update_W2 = W2 - lr*T.grad(cost, W2)\n",
    "update_b2 = b2 - lr*T.grad(cost, b2)\n",
    "\n",
    "train = theano.function(\n",
    "    inputs=[thX, thT],\n",
    "    updates=[(W1, update_W1), (b1, update_b1), (W2, update_W2), (b2, update_b2)],\n",
    ")\n",
    "get_prediction = theano.function(\n",
    "    inputs=[thX, thT],\n",
    "    outputs=[cost, prediction],\n",
    ")"
   ]
  },
  {
   "cell_type": "code",
   "execution_count": 17,
   "metadata": {
    "collapsed": false
   },
   "outputs": [
    {
     "name": "stdout",
     "output_type": "stream",
     "text": [
      "Cost/Err: 1239.2636417479657 / 0.35\n",
      "Cost/Err: 412.65112396607253 / 0.106\n",
      "Cost/Err: 338.697387783846 / 0.081\n",
      "Cost/Err: 304.38649945738774 / 0.068\n",
      "Cost/Err: 283.0975381949457 / 0.06\n",
      "Cost/Err: 267.87365399124883 / 0.054\n",
      "Cost/Err: 256.2571643415792 / 0.049\n",
      "Cost/Err: 247.061045387072 / 0.047\n",
      "Cost/Err: 239.56518553375983 / 0.044\n",
      "Cost/Err: 233.318677293513 / 0.045\n"
     ]
    }
   ],
   "source": [
    "costs = []\n",
    "for i in range(max_iter):\n",
    "    for j in range(n_batches):\n",
    "        batch_range = (j*batch_size, j*batch_size + batch_size)\n",
    "        \n",
    "        Xbatch = Xtrain[batch_range[0]:batch_range[1], ]                \n",
    "        Ybatch = Ytrain_ind[batch_range[0]:batch_range[1], ]            \n",
    "        \n",
    "        train(Xbatch, Ybatch)\n",
    "    if i % print_period == 0:\n",
    "        cost_val, prediction_val = get_prediction(Xtest, Ytest_ind)\n",
    "        err = error(prediction_val, Ytest)\n",
    "        print('Cost/Err: {} / {}'.format(cost_val, err))\n",
    "        costs.append( cost_val )"
   ]
  },
  {
   "cell_type": "code",
   "execution_count": 18,
   "metadata": {
    "collapsed": false
   },
   "outputs": [
    {
     "data": {
      "image/png": "[encoded data removed]",
      "text/plain": [
       "<matplotlib.figure.Figure at 0x7f66d7ffa588>"
      ]
     },
     "metadata": {},
     "output_type": "display_data"
    }
   ],
   "source": [
    "plt.plot(costs)\n",
    "plt.show()"
   ]
  },
  {
   "cell_type": "code",
   "execution_count": null,
   "metadata": {
    "collapsed": true
   },
   "outputs": [],
   "source": []
  }
 ],
 "metadata": {
  "kernelspec": {
   "display_name": "Python 3",
   "language": "python",
   "name": "python3"
  },
  "language_info": {
   "codemirror_mode": {
    "name": "ipython",
    "version": 3
   },
   "file_extension": ".py",
   "mimetype": "text/x-python",
   "name": "python",
   "nbconvert_exporter": "python",
   "pygments_lexer": "ipython3",
   "version": "3.6.0"
  }
 },
 "nbformat": 4,
 "nbformat_minor": 2
}
