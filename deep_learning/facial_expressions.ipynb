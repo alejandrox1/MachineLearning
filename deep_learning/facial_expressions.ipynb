{
 "cells": [
  {
   "cell_type": "code",
   "execution_count": 9,
   "metadata": {
    "collapsed": false
   },
   "outputs": [],
   "source": [
    "import numpy as np\n",
    "import matplotlib.pyplot as plt\n",
    "from sklearn.utils import shuffle\n",
    "from util import getBinaryData, sigmoid, sigmoid_cost, error_rate, relu\n",
    "from util import getData\n",
    "\n",
    "label_map = ['Anger', 'Disgust', 'Fear', 'Happy', 'Sad', 'Surprise', 'Neutral']"
   ]
  },
  {
   "cell_type": "code",
   "execution_count": 8,
   "metadata": {
    "collapsed": false
   },
   "outputs": [
    {
     "data": {
      "image/png": "[encoded data removed]",
      "text/plain": [
       "<matplotlib.figure.Figure at 0x7feca2b14978>"
      ]
     },
     "metadata": {},
     "output_type": "display_data"
    }
   ],
   "source": [
    "def main():\n",
    "    X, Y = getData(balanced_ones=False)\n",
    "    \n",
    "    i = 3\n",
    "    X, Y = X[Y==i], Y[Y==i]\n",
    "    N = len(Y)\n",
    "    j = np.random.choice(N)\n",
    "    plt.imshow(X[j].reshape(48,48), cmap='gray')\n",
    "    plt.title(label_map[Y[j]])\n",
    "    plt.show()\n",
    "    \n",
    "main()"
   ]
  },
  {
   "cell_type": "code",
   "execution_count": 15,
   "metadata": {
    "collapsed": true
   },
   "outputs": [],
   "source": [
    "class ANN(object):\n",
    "    def __init__(self, M):\n",
    "        self.M = M # number of hidden units\n",
    "    \n",
    "    def fit(self, X, Y, learning_rate=1.0e-7, reg=1.0, epochs=10000, show_fig=False):\n",
    "        X, Y = shuffle(X, Y)\n",
    "        # training and validation\n",
    "        Xvalid, Yvalid = X[-1000:], Y[-1000:]\n",
    "        X, Y = X[:-1000], Y[:-1000]\n",
    "        \n",
    "        N, D = X.shape\n",
    "        self.W1 = np.random.randn(D, self.M) / np.sqrt(D+self.M)\n",
    "        self.b1 = np.zeros(self.M)\n",
    "        self.W2 = np.random.randn(self.M) / np.sqrt(self.M)\n",
    "        self.b2 = 0\n",
    "        \n",
    "        costs = []\n",
    "        best_validation_error = 1\n",
    "        for i in range(epochs):\n",
    "            # forward propagation and cost\n",
    "            pY, Z = self.forward(X)\n",
    "            \n",
    "            # gradient descent\n",
    "            pY_Y = pY - Y\n",
    "            self.W2 -= learning_rate*( Z.T.dot(pY_Y) + reg*self.W2 )\n",
    "            self.b2 -= learning_rate*( (pY_Y).sum() + reg*self.b2 )\n",
    "            dZ = np.outer(pY_Y,self.W2) * (1-Z*Z)\n",
    "            self.W1 -= learning_rate*( X.T.dot(dZ) + reg*self.W1 )\n",
    "            self.b1 -= learning_rate*( np.sum(dZ, axis=0) + reg*self.b1 )\n",
    "            \n",
    "            if i%500==0:\n",
    "                pYvalid, _ = self.forward(Xvalid)\n",
    "                c = sigmoid_cost(Yvalid, pYvalid)\n",
    "                costs.append(c)\n",
    "                e = error_rate(Yvalid, np.round(pYvalid))\n",
    "                print(\"i: \", i, \"   cost: \", c, \"   error: \", e)\n",
    "                if e < best_validation_error:\n",
    "                    best_validation_error = e\n",
    "        print(\"best_validation_error:\", best_validation_error)\n",
    "\n",
    "        if show_fig:\n",
    "            plt.plot(costs)\n",
    "            plt.show()\n",
    "            \n",
    "    def forward(self, X):\n",
    "        #Z = relu(X.dot(self.W1)+self.b1)\n",
    "        Z = np.tanh( X.dot(self.W1)+self.b1 )\n",
    "        return sigmoid( Z.dot(self.W2)+self.b2 ), Z\n",
    "    \n",
    "    def predict(self, X):\n",
    "        pY = self.forward(X)\n",
    "        return np.round(pY)\n",
    "\n",
    "    def score(self, X, Y):\n",
    "        prediction = self.predict(X)\n",
    "        return 1 - error_rate(Y, prediction)"
   ]
  },
  {
   "cell_type": "code",
   "execution_count": 16,
   "metadata": {
    "collapsed": false
   },
   "outputs": [
    {
     "name": "stdout",
     "output_type": "stream",
     "text": [
      "i:  0    cost:  763.155533548    error:  0.516\n",
      "i:  500    cost:  669.363685919    error:  0.363\n",
      "i:  1000    cost:  655.592841264    error:  0.346\n",
      "i:  1500    cost:  645.43084567    error:  0.323\n",
      "i:  2000    cost:  637.483018309    error:  0.328\n",
      "i:  2500    cost:  631.060194313    error:  0.328\n",
      "i:  3000    cost:  625.706927362    error:  0.332\n",
      "i:  3500    cost:  621.12677671    error:  0.342\n",
      "i:  4000    cost:  617.152638321    error:  0.339\n",
      "i:  4500    cost:  613.668114638    error:  0.338\n",
      "i:  5000    cost:  610.550681892    error:  0.338\n",
      "i:  5500    cost:  607.69983495    error:  0.336\n",
      "i:  6000    cost:  605.047744046    error:  0.326\n",
      "i:  6500    cost:  602.548369511    error:  0.32\n",
      "i:  7000    cost:  600.168501956    error:  0.321\n",
      "i:  7500    cost:  597.883069287    error:  0.322\n",
      "i:  8000    cost:  595.672675273    error:  0.323\n",
      "i:  8500    cost:  593.522140299    error:  0.317\n",
      "i:  9000    cost:  591.419518399    error:  0.317\n",
      "i:  9500    cost:  589.355378654    error:  0.312\n",
      "best_validation_error: 0.312\n"
     ]
    },
    {
     "data": {
      "image/png": "[encoded data removed]",
      "text/plain": [
       "<matplotlib.figure.Figure at 0x7feca2b93e48>"
      ]
     },
     "metadata": {},
     "output_type": "display_data"
    }
   ],
   "source": [
    "X, Y = getBinaryData()\n",
    "\n",
    "X0 = X[Y==0, :]\n",
    "X1 = X[Y==1, :]\n",
    "X1 = np.repeat(X1, 9, axis=0)\n",
    "X = np.vstack([X0, X1])\n",
    "Y = np.array([0]*len(X0) + [1]*len(X1))\n",
    "    \n",
    "model = ANN(100)\n",
    "model.fit(X, Y, show_fig=True)"
   ]
  },
  {
   "cell_type": "code",
   "execution_count": 17,
   "metadata": {
    "collapsed": true
   },
   "outputs": [],
   "source": [
    "from util import getData, softmax, cost, y2indicator, error_rate, \n",
    "\n",
    "\n",
    "class LogisticModel(object):\n",
    "    def __init__(self):\n",
    "        pass\n",
    "\n",
    "    def fit(self, X, Y, learning_rate=10e-8, reg=10e-12, epochs=10000, show_fig=False):\n",
    "        X, Y = shuffle(X, Y)\n",
    "        Xvalid, Yvalid = X[-1000:], Y[-1000:]\n",
    "        Tvalid = y2indicator(Yvalid)\n",
    "        X, Y = X[:-1000], Y[:-1000]\n",
    "\n",
    "        N, D = X.shape\n",
    "        K = len(set(Y))\n",
    "        T = y2indicator(Y)\n",
    "        self.W = np.random.randn(D, K) / np.sqrt(D + K)\n",
    "        self.b = np.zeros(K)\n",
    "\n",
    "        costs = []\n",
    "        best_validation_error = 1\n",
    "        for i in xrange(epochs):\n",
    "            # forward propagation and cost calculation\n",
    "            pY = self.forward(X)\n",
    "\n",
    "            # gradient descent step\n",
    "            self.W -= learning_rate*(X.T.dot(pY - T) + reg*self.W)\n",
    "            self.b -= learning_rate*((pY - T).sum(axis=0) + reg*self.b)\n",
    "\n",
    "            if i % 1000 == 0:\n",
    "                pYvalid = self.forward(Xvalid)\n",
    "                c = cost(Tvalid, pYvalid)\n",
    "                costs.append(c)\n",
    "                e = error_rate(Yvalid, np.argmax(pYvalid, axis=1))\n",
    "                print(\"i: \", i, \"   cost: \", c, \"   error: \", e)\n",
    "                if e < best_validation_error:\n",
    "                    best_validation_error = e\n",
    "        print(\"best_validation_error:\", best_validation_error)\n",
    "\n",
    "        if show_fig:\n",
    "            plt.plot(costs)\n",
    "            plt.show()\n",
    "\n",
    "\n",
    "    def forward(self, X):\n",
    "        return softmax(X.dot(self.W) + self.b)\n",
    "\n",
    "    def predict(self, X):\n",
    "        pY = self.forward(X)\n",
    "        return np.argmax(pY, axis=1)\n",
    "\n",
    "    def score(self, X, Y):\n",
    "        prediction = self.predict(X)\n",
    "        return 1 - error_rate(Y, prediction)\n"
   ]
  },
  {
   "cell_type": "code",
   "execution_count": 18,
   "metadata": {
    "collapsed": false
   },
   "outputs": [
    {
     "ename": "NameError",
     "evalue": "name 'xrange' is not defined",
     "output_type": "error",
     "traceback": [
      "\u001b[0;31m---------------------------------------------------------------------------\u001b[0m",
      "\u001b[0;31mNameError\u001b[0m                                 Traceback (most recent call last)",
      "\u001b[0;32m<ipython-input-18-f7f6f044de9b>\u001b[0m in \u001b[0;36m<module>\u001b[0;34m()\u001b[0m\n\u001b[1;32m      2\u001b[0m \u001b[0;34m\u001b[0m\u001b[0m\n\u001b[1;32m      3\u001b[0m \u001b[0mmodel\u001b[0m \u001b[0;34m=\u001b[0m \u001b[0mLogisticModel\u001b[0m\u001b[0;34m(\u001b[0m\u001b[0;34m)\u001b[0m\u001b[0;34m\u001b[0m\u001b[0m\n\u001b[0;32m----> 4\u001b[0;31m \u001b[0mmodel\u001b[0m\u001b[0;34m.\u001b[0m\u001b[0mfit\u001b[0m\u001b[0;34m(\u001b[0m\u001b[0mX\u001b[0m\u001b[0;34m,\u001b[0m \u001b[0mY\u001b[0m\u001b[0;34m,\u001b[0m \u001b[0mshow_fig\u001b[0m\u001b[0;34m=\u001b[0m\u001b[0;32mTrue\u001b[0m\u001b[0;34m)\u001b[0m\u001b[0;34m\u001b[0m\u001b[0m\n\u001b[0m\u001b[1;32m      5\u001b[0m \u001b[0mprint\u001b[0m\u001b[0;34m(\u001b[0m\u001b[0mmodel\u001b[0m\u001b[0;34m.\u001b[0m\u001b[0mscore\u001b[0m\u001b[0;34m(\u001b[0m\u001b[0mX\u001b[0m\u001b[0;34m,\u001b[0m \u001b[0mY\u001b[0m\u001b[0;34m)\u001b[0m\u001b[0;34m)\u001b[0m\u001b[0;34m\u001b[0m\u001b[0m\n",
      "\u001b[0;32m<ipython-input-17-3a44c5e832ca>\u001b[0m in \u001b[0;36mfit\u001b[0;34m(self, X, Y, learning_rate, reg, epochs, show_fig)\u001b[0m\n\u001b[1;32m     20\u001b[0m         \u001b[0mcosts\u001b[0m \u001b[0;34m=\u001b[0m \u001b[0;34m[\u001b[0m\u001b[0;34m]\u001b[0m\u001b[0;34m\u001b[0m\u001b[0m\n\u001b[1;32m     21\u001b[0m         \u001b[0mbest_validation_error\u001b[0m \u001b[0;34m=\u001b[0m \u001b[0;36m1\u001b[0m\u001b[0;34m\u001b[0m\u001b[0m\n\u001b[0;32m---> 22\u001b[0;31m         \u001b[0;32mfor\u001b[0m \u001b[0mi\u001b[0m \u001b[0;32min\u001b[0m \u001b[0mxrange\u001b[0m\u001b[0;34m(\u001b[0m\u001b[0mepochs\u001b[0m\u001b[0;34m)\u001b[0m\u001b[0;34m:\u001b[0m\u001b[0;34m\u001b[0m\u001b[0m\n\u001b[0m\u001b[1;32m     23\u001b[0m             \u001b[0;31m# forward propagation and cost calculation\u001b[0m\u001b[0;34m\u001b[0m\u001b[0;34m\u001b[0m\u001b[0m\n\u001b[1;32m     24\u001b[0m             \u001b[0mpY\u001b[0m \u001b[0;34m=\u001b[0m \u001b[0mself\u001b[0m\u001b[0;34m.\u001b[0m\u001b[0mforward\u001b[0m\u001b[0;34m(\u001b[0m\u001b[0mX\u001b[0m\u001b[0;34m)\u001b[0m\u001b[0;34m\u001b[0m\u001b[0m\n",
      "\u001b[0;31mNameError\u001b[0m: name 'xrange' is not defined"
     ]
    }
   ],
   "source": [
    "X, Y = getData()\n",
    "    \n",
    "model = LogisticModel()\n",
    "model.fit(X, Y, show_fig=True)\n",
    "print(model.score(X, Y))"
   ]
  },
  {
   "cell_type": "code",
   "execution_count": null,
   "metadata": {
    "collapsed": true
   },
   "outputs": [],
   "source": [
    "from util import getData, softmax, cost2, y2indicator, error_rate, relu\n",
    "from sklearn.utils import shuffle\n",
    "\n",
    "\n",
    "class ANN(object):\n",
    "    def __init__(self, M):\n",
    "        self.M = M\n",
    "\n",
    "    # learning rate 10e-6 is too large\n",
    "    def fit(self, X, Y, learning_rate=10e-7, reg=10e-7, epochs=10000, show_fig=False):\n",
    "        X, Y = shuffle(X, Y)\n",
    "        Xvalid, Yvalid = X[-1000:], Y[-1000:]\n",
    "        # Tvalid = y2indicator(Yvalid)\n",
    "        X, Y = X[:-1000], Y[:-1000]\n",
    "\n",
    "        N, D = X.shape\n",
    "        K = len(set(Y))\n",
    "        T = y2indicator(Y)\n",
    "        self.W1 = np.random.randn(D, self.M) / np.sqrt(D + self.M)\n",
    "        self.b1 = np.zeros(self.M)\n",
    "        self.W2 = np.random.randn(self.M, K) / np.sqrt(self.M + K)\n",
    "        self.b2 = np.zeros(K)\n",
    "\n",
    "        costs = []\n",
    "        best_validation_error = 1\n",
    "        for i in xrange(epochs):\n",
    "            # forward propagation and cost calculation\n",
    "            pY, Z = self.forward(X)\n",
    "\n",
    "            # gradient descent step\n",
    "            pY_T = pY - T\n",
    "            self.W2 -= learning_rate*(Z.T.dot(pY_T) + reg*self.W2)\n",
    "            self.b2 -= learning_rate*(pY_T.sum(axis=0) + reg*self.b2)\n",
    "            # dZ = pY_T.dot(self.W2.T) * (Z > 0) # relu\n",
    "            dZ = pY_T.dot(self.W2.T) * (1 - Z*Z) # tanh\n",
    "            self.W1 -= learning_rate*(X.T.dot(dZ) + reg*self.W1)\n",
    "            self.b1 -= learning_rate*(dZ.sum(axis=0) + reg*self.b1)\n",
    "\n",
    "            if i % 1000 == 0:\n",
    "                pYvalid, _ = self.forward(Xvalid)\n",
    "                c = cost2(Yvalid, pYvalid)\n",
    "                costs.append(c)\n",
    "                e = error_rate(Yvalid, np.argmax(pYvalid, axis=1))\n",
    "                print(\"i :\", i, \"   cost: \", c, \" error:   \", e)\n",
    "                if e < best_validation_error:\n",
    "                    best_validation_error = e\n",
    "        print(\"best_validation_error: \", best_validation_error)\n",
    "\n",
    "        if show_fig:\n",
    "            plt.plot(costs)\n",
    "            plt.show()\n",
    "\n",
    "\n",
    "    def forward(self, X):\n",
    "        # Z = relu(X.dot(self.W1) + self.b1)\n",
    "        Z = np.tanh(X.dot(self.W1) + self.b1)\n",
    "        return softmax(Z.dot(self.W2) + self.b2), Z\n",
    "\n",
    "    def predict(self, X):\n",
    "        pY, _ = self.forward(X)\n",
    "        return np.argmax(pY, axis=1)\n",
    "\n",
    "    def score(self, X, Y):\n",
    "        prediction = self.predict(X)\n",
    "        return 1 - error_rate(Y, prediction)\n",
    "    \n",
    "model = ANN(200)\n",
    "model.fit(X, Y, reg=0, show_fig=True)\n",
    "print(model.score(X, Y))\n",
    "# scores = cross_val_score(model, X, Y, cv=5)\n",
    "# print \"score mean:\", np.mean(scores), \"stdev:\", np.std(scores)\n",
    "    "
   ]
  }
 ],
 "metadata": {
  "kernelspec": {
   "display_name": "Python 3",
   "language": "python",
   "name": "python3"
  },
  "language_info": {
   "codemirror_mode": {
    "name": "ipython",
    "version": 3
   },
   "file_extension": ".py",
   "mimetype": "text/x-python",
   "name": "python",
   "nbconvert_exporter": "python",
   "pygments_lexer": "ipython3",
   "version": "3.6.0"
  }
 },
 "nbformat": 4,
 "nbformat_minor": 2
}
