{
 "cells": [
  {
   "cell_type": "code",
   "execution_count": 1,
   "metadata": {
    "collapsed": true
   },
   "outputs": [],
   "source": [
    "import tensorflow as tf\n",
    "from tensorflow.examples.tutorials.mnist import input_data\n",
    "import numpy as np\n",
    "import matplotlib.pyplot as plt\n",
    "import matplotlib.gridspec as gridspec\n",
    "import os"
   ]
  },
  {
   "cell_type": "code",
   "execution_count": 2,
   "metadata": {
    "collapsed": true
   },
   "outputs": [],
   "source": [
    "def plot(samples):\n",
    "    fig = plt.figure(figsize=(4, 4))\n",
    "    gs = gridspec.GridSpec(4, 4)\n",
    "    gs.update(wspace=0.05, hspace=0.05)\n",
    "    \n",
    "    for i, sample in enumerate(samples):\n",
    "        ax = plt.subplot(gs[i])\n",
    "        plt.axis('off')\n",
    "        ax.set_xticklabels([])\n",
    "        ax.set_yticklabels([])\n",
    "        ax.set_aspect('equal')\n",
    "        plt.imshow(sample.reshape(28, 28), cmap='Greys_r')\n",
    "    return fig\n",
    "\n",
    "def xavier_init(size):\n",
    "    in_dim = size[0]\n",
    "    xavier_stddev = 1.0 / tf.sqrt(in_dim/2.0)\n",
    "    return tf.random_normal(shape=size, stddev=xavier_stddev)"
   ]
  },
  {
   "cell_type": "code",
   "execution_count": 3,
   "metadata": {
    "collapsed": true
   },
   "outputs": [],
   "source": [
    "X = tf.placeholder(tf.float32, shape=[None, 784])\n",
    "\n",
    "D_W1 = tf.Variable(xavier_init([784, 128]), name='D_W1')\n",
    "D_b1 = tf.Variable(tf.zeros(shape=[128]), name='D_b1')\n",
    "\n",
    "D_W2 = tf.Variable(xavier_init([128, 1]), name='D_W2')\n",
    "D_b2 = tf.Variable(tf.zeros(shape=[1]), name='D_b2')\n",
    "\n",
    "theta_D = [D_W1, D_W2, D_b1, D_b2]"
   ]
  },
  {
   "cell_type": "code",
   "execution_count": 4,
   "metadata": {
    "collapsed": true
   },
   "outputs": [],
   "source": [
    "Z = tf.placeholder(tf.float32, shape=[None, 100])\n",
    "\n",
    "G_W1 = tf.Variable(xavier_init([100, 128]), name='G_W1')\n",
    "G_b1 = tf.Variable(tf.zeros(shape=[128]), name='G_b1')\n",
    "\n",
    "G_W2 = tf.Variable(xavier_init([128, 784]), name='G_W2')\n",
    "G_b2 = tf.Variable(tf.zeros(shape=[784]), name='G_b2')\n",
    "\n",
    "theta_G = [G_W1, G_W2, G_b1, G_b2]"
   ]
  },
  {
   "cell_type": "code",
   "execution_count": 6,
   "metadata": {
    "collapsed": true
   },
   "outputs": [],
   "source": [
    "def sample_Z(m, n):                                                             \n",
    "    return np.random.uniform(-1., 1., size=[m, n])\n",
    "\n",
    "def generator(Z):                                                               \n",
    "    G_h1 = tf.nn.relu( tf.matmul(Z, G_W1)+G_b1 )                                \n",
    "    G_log_prob = tf.matmul(G_h1, G_W2)+G_b2                                   \n",
    "    G_prob = tf.nn.sigmoid(G_log_prob)                                                     \n",
    "    return G_prob                                                               \n",
    "                                                                        \n",
    "def discriminator(X):                                                           \n",
    "    D_h1 = tf.nn.relu( tf.matmul(X, D_W1)+D_b1 )         \n",
    "    D_logit = tf.matmul(D_h1, D_W2)+D_b2                                      \n",
    "    D_prob = tf.nn.sigmoid(D_logit)                                             \n",
    "                                                                                \n",
    "    return D_prob, D_logit "
   ]
  },
  {
   "cell_type": "code",
   "execution_count": 7,
   "metadata": {
    "collapsed": true
   },
   "outputs": [],
   "source": [
    "G_sample = generator(Z)                                                         \n",
    "D_real, D_logit_real = discriminator(X)                                         \n",
    "D_fake, D_logit_fake = discriminator(G_sample)"
   ]
  },
  {
   "cell_type": "code",
   "execution_count": 8,
   "metadata": {
    "collapsed": false
   },
   "outputs": [],
   "source": [
    "D_loss_real = tf.reduce_mean(\n",
    "    tf.nn.sigmoid_cross_entropy_with_logits(logits=D_logit_real, labels=tf.ones_like(D_logit_real)))\n",
    "D_loss_fake = tf.reduce_mean(\n",
    "    tf.nn.sigmoid_cross_entropy_with_logits(logits=D_logit_fake, labels=tf.zeros_like(D_logit_fake)))\n",
    "D_loss = D_loss_real + D_loss_fake \n",
    "\n",
    "G_loss = tf.reduce_mean(\n",
    "    tf.nn.sigmoid_cross_entropy_with_logits(logits=D_logit_fake, labels=tf.ones_like(D_logit_fake)))"
   ]
  },
  {
   "cell_type": "code",
   "execution_count": 14,
   "metadata": {
    "collapsed": true
   },
   "outputs": [],
   "source": [
    "D_solver = tf.train.AdamOptimizer().minimize(D_loss, var_list=theta_D)          \n",
    "G_solver = tf.train.AdamOptimizer().minimize(G_loss, var_list=theta_G)"
   ]
  },
  {
   "cell_type": "code",
   "execution_count": 15,
   "metadata": {
    "collapsed": false,
    "scrolled": false
   },
   "outputs": [
    {
     "name": "stdout",
     "output_type": "stream",
     "text": [
      "Extracting MNIST_data/train-images-idx3-ubyte.gz\n",
      "Extracting MNIST_data/train-labels-idx1-ubyte.gz\n",
      "Extracting MNIST_data/t10k-images-idx3-ubyte.gz\n",
      "Extracting MNIST_data/t10k-labels-idx1-ubyte.gz\n",
      "Iter:0 G_loss: 2.2089664936065674\n",
      "Iter:10000 G_loss: 4.761900424957275\n",
      "Iter:20000 G_loss: 2.649146556854248\n",
      "Iter:30000 G_loss: 2.6667377948760986\n",
      "Iter:40000 G_loss: 2.868349313735962\n",
      "Iter:50000 G_loss: 3.03558349609375\n",
      "Iter:60000 G_loss: 3.073139190673828\n",
      "Iter:70000 G_loss: 3.570329427719116\n",
      "Iter:80000 G_loss: 2.701941967010498\n",
      "Iter:90000 G_loss: 2.5218796730041504\n",
      "Iter:100000 G_loss: 3.2024054527282715\n",
      "Iter:110000 G_loss: 2.662503480911255\n",
      "Iter:120000 G_loss: 3.133331298828125\n",
      "Iter:130000 G_loss: 3.053745746612549\n",
      "Iter:140000 G_loss: 3.3171310424804688\n",
      "Iter:150000 G_loss: 3.196390151977539\n",
      "Iter:160000 G_loss: 3.2536442279815674\n",
      "Iter:170000 G_loss: 3.504542827606201\n",
      "Iter:180000 G_loss: 3.3438353538513184\n",
      "Iter:190000 G_loss: 3.1465351581573486\n",
      "Iter:200000 G_loss: 3.4816670417785645\n",
      "Iter:210000 G_loss: 3.5517475605010986\n",
      "Iter:220000 G_loss: 3.652977466583252\n",
      "Iter:230000 G_loss: 4.375487804412842\n",
      "Iter:240000 G_loss: 3.8639779090881348\n",
      "Iter:250000 G_loss: 3.7972588539123535\n",
      "Iter:260000 G_loss: 3.5712928771972656\n",
      "Iter:270000 G_loss: 3.61924147605896\n",
      "Iter:280000 G_loss: 4.23785400390625\n",
      "Iter:290000 G_loss: 4.016030788421631\n",
      "Iter:300000 G_loss: 3.571878433227539\n",
      "Iter:310000 G_loss: 3.575427532196045\n",
      "Iter:320000 G_loss: 3.91756272315979\n",
      "Iter:330000 G_loss: 4.172358512878418\n",
      "Iter:340000 G_loss: 4.25956916809082\n",
      "Iter:350000 G_loss: 3.518691062927246\n",
      "Iter:360000 G_loss: 4.146821022033691\n",
      "Iter:370000 G_loss: 4.362159729003906\n",
      "Iter:380000 G_loss: 4.162553310394287\n",
      "Iter:390000 G_loss: 4.933387756347656\n",
      "Iter:400000 G_loss: 5.006468296051025\n",
      "Iter:410000 G_loss: 4.644428730010986\n",
      "Iter:420000 G_loss: 4.630936622619629\n",
      "Iter:430000 G_loss: 5.002253532409668\n",
      "Iter:440000 G_loss: 4.486642837524414\n",
      "Iter:450000 G_loss: 5.431328773498535\n",
      "Iter:460000 G_loss: 4.2914934158325195\n",
      "Iter:470000 G_loss: 4.210569381713867\n",
      "Iter:480000 G_loss: 4.261239528656006\n",
      "Iter:490000 G_loss: 5.386993408203125\n",
      "Iter:500000 G_loss: 5.135983467102051\n",
      "Iter:510000 G_loss: 4.69680118560791\n",
      "Iter:520000 G_loss: 5.120851516723633\n",
      "Iter:530000 G_loss: 5.538848400115967\n",
      "Iter:540000 G_loss: 5.194281578063965\n",
      "Iter:550000 G_loss: 5.568328380584717\n",
      "Iter:560000 G_loss: 5.4488935470581055\n",
      "Iter:570000 G_loss: 4.822822093963623\n",
      "Iter:580000 G_loss: 4.816188812255859\n",
      "Iter:590000 G_loss: 4.306694984436035\n",
      "Iter:600000 G_loss: 4.6638503074646\n",
      "Iter:610000 G_loss: 4.531159400939941\n",
      "Iter:620000 G_loss: 5.355362892150879\n",
      "Iter:630000 G_loss: 5.037649154663086\n",
      "Iter:640000 G_loss: 4.984794616699219\n",
      "Iter:650000 G_loss: 4.757326126098633\n",
      "Iter:660000 G_loss: 5.381075382232666\n",
      "Iter:670000 G_loss: 4.876745223999023\n",
      "Iter:680000 G_loss: 3.2919840812683105\n",
      "Iter:690000 G_loss: 3.3005614280700684\n",
      "Iter:700000 G_loss: 3.931454658508301\n",
      "Iter:710000 G_loss: 3.442124366760254\n",
      "Iter:720000 G_loss: 3.6490650177001953\n",
      "Iter:730000 G_loss: 3.6662774085998535\n",
      "Iter:740000 G_loss: 4.012195110321045\n",
      "Iter:750000 G_loss: 3.846247673034668\n",
      "Iter:760000 G_loss: 3.499256134033203\n",
      "Iter:770000 G_loss: 3.833892345428467\n",
      "Iter:780000 G_loss: 4.580238342285156\n",
      "Iter:790000 G_loss: 4.930992603302002\n",
      "Iter:800000 G_loss: 3.845717668533325\n",
      "Iter:810000 G_loss: 4.844306468963623\n",
      "Iter:820000 G_loss: 4.398834705352783\n",
      "Iter:830000 G_loss: 4.795402526855469\n",
      "Iter:840000 G_loss: 5.434116363525391\n",
      "Iter:850000 G_loss: 5.06354284286499\n",
      "Iter:860000 G_loss: 4.835237503051758\n",
      "Iter:870000 G_loss: 5.3096513748168945\n",
      "Iter:880000 G_loss: 5.435133934020996\n",
      "Iter:890000 G_loss: 5.435033798217773\n",
      "Iter:900000 G_loss: 5.223750591278076\n",
      "Iter:910000 G_loss: 5.893792152404785\n",
      "Iter:920000 G_loss: 5.3689866065979\n",
      "Iter:930000 G_loss: 6.0590362548828125\n",
      "Iter:940000 G_loss: 5.20387077331543\n",
      "Iter:950000 G_loss: 6.290043354034424\n",
      "Iter:960000 G_loss: 5.339044570922852\n",
      "Iter:970000 G_loss: 5.874585151672363\n",
      "Iter:980000 G_loss: 5.550515651702881\n",
      "Iter:990000 G_loss: 5.683978080749512\n",
      "Model saved in file: model\n"
     ]
    }
   ],
   "source": [
    "np.set_printoptions(precision=3, suppress=True)\n",
    "mnist = input_data.read_data_sets(\"MNIST_data/\", one_hot=True)\n",
    "\n",
    "mb_size = 128                                                                   \n",
    "Z_dim = 100  \n",
    "k = 1\n",
    "\n",
    "if not os.path.exists('out/'):                                                  \n",
    "    os.makedirs('out/')  \n",
    "\n",
    "# Add an op to initialize the variables.\n",
    "init_op = tf.global_variables_initializer()\n",
    "# Add ops to save and restore all the variables.\n",
    "saver = tf.train.Saver()\n",
    "# Later, launch the model, initialize the variables, do some work, save the\n",
    "# variables to disk.\n",
    "with tf.Session() as sess:\n",
    "    sess.run(init_op)\n",
    "    \n",
    "    # Restore variables from disk.\n",
    "    if os.path.isfile('model.meta'):\n",
    "        # Restore variables from disk.\n",
    "        saver.restore(sess, './model')\n",
    "        print('Model restored.')\n",
    "        \n",
    "    # Do some work with the model.                                               \n",
    "    i = 0                                                                                                                                                        \n",
    "    for it in range(1000000):                                                       \n",
    "        if it % 2000 == 0:                                                          \n",
    "            samples = sess.run(G_sample, feed_dict={Z: sample_Z(16, Z_dim)})        \n",
    "\n",
    "            fig = plot(samples)                                                     \n",
    "            plt.savefig('out/{}.png'.format(str(i).zfill(3)), bbox_inches='tight')  \n",
    "            i += 1                                                                  \n",
    "            plt.close(fig)                                                          \n",
    "        \n",
    "        for step in range(k):\n",
    "            X_mb, _ = mnist.train.next_batch(mb_size)                                   \n",
    "            _, D_loss_curr = sess.run([D_solver, D_loss], feed_dict={X: X_mb, Z: sample_Z(mb_size, Z_dim)})\n",
    "        _, G_loss_curr = sess.run([G_solver, G_loss], feed_dict={Z: sample_Z(mb_size, Z_dim)})\n",
    "\n",
    "        if it % 10000 == 0:                                                          \n",
    "            print('Iter:{}'.format(it), end=' ')       \n",
    "            #print('D loss:\\n', D_loss_curr[:4])                             \n",
    "            print('G_loss: {}'.format(G_loss_curr))                              \n",
    "            \n",
    "    # Save the variables to disk.\n",
    "    save_path = saver.save(sess, 'model')\n",
    "    print('Model saved in file: {}'.format(save_path))"
   ]
  },
  {
   "cell_type": "code",
   "execution_count": null,
   "metadata": {
    "collapsed": true
   },
   "outputs": [],
   "source": []
  }
 ],
 "metadata": {
  "kernelspec": {
   "display_name": "Python 3",
   "language": "python",
   "name": "python3"
  },
  "language_info": {
   "codemirror_mode": {
    "name": "ipython",
    "version": 3
   },
   "file_extension": ".py",
   "mimetype": "text/x-python",
   "name": "python",
   "nbconvert_exporter": "python",
   "pygments_lexer": "ipython3",
   "version": "3.6.0"
  }
 },
 "nbformat": 4,
 "nbformat_minor": 2
}
