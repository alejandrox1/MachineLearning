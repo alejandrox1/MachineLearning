{
 "cells": [
  {
   "cell_type": "code",
   "execution_count": 3,
   "metadata": {
    "collapsed": true
   },
   "outputs": [],
   "source": [
    "import numpy as np\n",
    "import theano\n",
    "import theano.tensor as T\n",
    "from theano.tensor.shared_randomstreams import RandomStreams\n",
    "import pandas as pd\n",
    "import matplotlib.pyplot as plt\n",
    "from sklearn.utils import shuffle"
   ]
  },
  {
   "cell_type": "code",
   "execution_count": 4,
   "metadata": {
    "collapsed": true
   },
   "outputs": [],
   "source": [
    "def get_normalized_data():\n",
    "    df = pd.read_csv('../datasets/mnist/train.csv')\n",
    "    data = df.as_matrix().astype(np.float32)\n",
    "    np.random.shuffle(data)\n",
    "    Y = data[:,0]\n",
    "    X = data[:,1:]\n",
    "    mu = X.mean(axis=0)\n",
    "    std = X.std(axis=0)\n",
    "    np.place(std, std==0, 1)\n",
    "    X = (X-mu)/std\n",
    "    return X, Y\n",
    "\n",
    "def error_rate(p, t):\n",
    "    return np.mean(p != t)"
   ]
  },
  {
   "cell_type": "code",
   "execution_count": 5,
   "metadata": {
    "collapsed": true
   },
   "outputs": [],
   "source": [
    "class HiddenLayer(object):\n",
    "    def __init__(self, M1, M2, an_id):\n",
    "        self.id = an_id\n",
    "        self.M1 = M1\n",
    "        self.M2 = M2\n",
    "        W = np.random.randn(M1, M2) / np.sqrt(2.0 / M1)\n",
    "        b = np.zeros(M2)\n",
    "        self.W = theano.shared(W, 'W_%s'%self.id)\n",
    "        self.b = theano.shared(b, 'b_%s'%self.id)\n",
    "        self.params = [self.W, self.b]\n",
    "\n",
    "    def forward(self, X):\n",
    "        return T.nnet.relu(X.dot(self.W) + self.b)"
   ]
  },
  {
   "cell_type": "code",
   "execution_count": 8,
   "metadata": {
    "collapsed": false
   },
   "outputs": [],
   "source": [
    "class ANN(object):\n",
    "    def __init__(self, hidden_layer_sizes, p_keep):\n",
    "        self.hidden_layer_sizes = hidden_layer_sizes\n",
    "        self.dropout_rates = p_keep\n",
    "\n",
    "    def fit(self, X, Y, learning_rate=1e-3, mu=0.9, decay=0.9, epochs=8, batch_sz=100, show_fig=False):\n",
    "        # make a validation set\n",
    "        X, Y = shuffle(X, Y)\n",
    "        X = X.astype(np.float32)\n",
    "        Y = Y.astype(np.int32)\n",
    "        Xvalid, Yvalid = X[-1000:], Y[-1000:]\n",
    "        X, Y = X[:-1000], Y[:-1000]\n",
    "\n",
    "        self.rng = RandomStreams()\n",
    "\n",
    "        # initialize hidden layers\n",
    "        N, D = X.shape\n",
    "        K = len(set(Y))\n",
    "        self.hidden_layers = []\n",
    "        M1 = D\n",
    "        count = 0\n",
    "        for M2 in self.hidden_layer_sizes:\n",
    "            h = HiddenLayer(M1, M2, count)\n",
    "            self.hidden_layers.append(h)\n",
    "            M1 = M2\n",
    "            count += 1\n",
    "        W = np.random.randn(M1, K) / np.sqrt(M1)\n",
    "        b = np.zeros(K)\n",
    "        self.W = theano.shared(W, 'W_logreg')\n",
    "        self.b = theano.shared(b, 'b_logreg')\n",
    "        \n",
    "        # collect params for later use\n",
    "        self.params = [self.W, self.b]\n",
    "        for h in self.hidden_layers:\n",
    "            self.params += h.params\n",
    "\n",
    "        # set up theano functions and variables\n",
    "        thX = T.matrix('X')\n",
    "        thY = T.ivector('Y')\n",
    "        pY_train = self.forward_train(thX)\n",
    "\n",
    "        # this cost is for training\n",
    "        cost = -T.mean(T.log(pY_train[T.arange(thY.shape[0]), thY]))\n",
    "\n",
    "        # gradients wrt each param\n",
    "        grads = T.grad(cost, self.params)\n",
    "\n",
    "        # for momentum\n",
    "        dparams = [theano.shared(np.zeros_like(p.get_value())) for p in self.params]\n",
    "\n",
    "        # for rmsprop\n",
    "        cache = [theano.shared(np.ones_like(p.get_value())) for p in self.params]\n",
    "\n",
    "        new_cache = [decay*c + (1-decay)*g*g for p, c, g in zip(self.params, cache, grads)]\n",
    "        new_dparams = [mu*dp - learning_rate*g/T.sqrt(new_c + 1e-10) for p, new_c, dp, g in zip(self.params, new_cache, dparams, grads)]\n",
    "        updates = [\n",
    "            (c, new_c) for c, new_c in zip(cache, new_cache)\n",
    "        ] + [\n",
    "            (dp, new_dp) for dp, new_dp in zip(dparams, new_dparams)\n",
    "        ] + [\n",
    "            (p, p + new_dp) for p, new_dp in zip(self.params, new_dparams)\n",
    "        ]\n",
    "\n",
    "        # momentum only\n",
    "        # updates = [\n",
    "        #     (p, p + mu*dp - learning_rate*T.grad(cost, p)) for p, dp in zip(self.params, dparams)\n",
    "        # ] + [\n",
    "        #     (dp, mu*dp - learning_rate*T.grad(cost, p)) for p, dp in zip(self.params, dparams)\n",
    "        # ]\n",
    "\n",
    "        train_op = theano.function(\n",
    "            inputs=[thX, thY],\n",
    "            updates=updates\n",
    "        )\n",
    "\n",
    "        # for evaluation and prediction\n",
    "        pY_predict = self.forward_predict(thX)\n",
    "        cost_predict = -T.mean(T.log(pY_predict[T.arange(thY.shape[0]), thY]))\n",
    "        prediction = self.predict(thX)\n",
    "        cost_predict_op = theano.function(inputs=[thX, thY], outputs=[cost_predict, prediction])\n",
    "\n",
    "        n_batches = N // batch_sz\n",
    "        costs = []\n",
    "        for i in range(epochs):\n",
    "            X, Y = shuffle(X, Y)\n",
    "            for j in range(n_batches):\n",
    "                Xbatch = X[j*batch_sz:(j*batch_sz+batch_sz)]\n",
    "                Ybatch = Y[j*batch_sz:(j*batch_sz+batch_sz)]\n",
    "\n",
    "                train_op(Xbatch, Ybatch)\n",
    "\n",
    "                if i % 2 == 0 and j==0:\n",
    "                    c, p = cost_predict_op(Xvalid, Yvalid)\n",
    "                    costs.append(c)\n",
    "                    e = error_rate(Yvalid, p)\n",
    "                    print(\"i:\", i, \"j:\", j, \"nb:\", n_batches, \"cost:\", c, \"error rate:\", e)\n",
    "                    #print(\"i: {},j: {}, nb: {}, cost: {:.5f}, error rate: {.5f}\".format(i,j,n_batches, c, e))\n",
    "        \n",
    "        if show_fig:\n",
    "            plt.plot(costs)\n",
    "            plt.show()\n",
    "\n",
    "    def forward_train(self, X):\n",
    "        Z = X\n",
    "        for h, p in zip(self.hidden_layers, self.dropout_rates[:-1]):\n",
    "            mask = self.rng.binomial(n=1, p=p, size=Z.shape)\n",
    "            Z = mask * Z\n",
    "            Z = h.forward(Z)\n",
    "        mask = self.rng.binomial(n=1, p=self.dropout_rates[-1], size=Z.shape)\n",
    "        Z = mask * Z\n",
    "        return T.nnet.softmax(Z.dot(self.W) + self.b)\n",
    "    \n",
    "    def forward_predict(self, X):\n",
    "        Z = X\n",
    "        for h, p in zip(self.hidden_layers, self.dropout_rates[:-1]):\n",
    "            Z = h.forward(p * Z)\n",
    "        return T.nnet.softmax((self.dropout_rates[-1] * Z).dot(self.W) + self.b)\n",
    "\n",
    "    def predict(self, X):\n",
    "        pY = self.forward_predict(X)\n",
    "        return T.argmax(pY, axis=1)"
   ]
  },
  {
   "cell_type": "code",
   "execution_count": 9,
   "metadata": {
    "collapsed": false
   },
   "outputs": [
    {
     "name": "stdout",
     "output_type": "stream",
     "text": [
      "i: 0 j: 0 nb: 410 cost: 20166.093785054294 error rate: 0.853\n",
      "i: 2 j: 0 nb: 410 cost: 2188.9675979827325 error rate: 0.189\n",
      "i: 4 j: 0 nb: 410 cost: 1174.6548624705415 error rate: 0.158\n",
      "i: 6 j: 0 nb: 410 cost: 786.3970004418782 error rate: 0.147\n"
     ]
    },
    {
     "data": {
      "image/png": "[encoded data removed]",
      "text/plain": [
       "<matplotlib.figure.Figure at 0x7fba8648d6a0>"
      ]
     },
     "metadata": {},
     "output_type": "display_data"
    }
   ],
   "source": [
    "X, Y = get_normalized_data()\n",
    "\n",
    "ann = ANN([500, 300], [0.8, 0.5, 0.5])\n",
    "ann.fit(X, Y, show_fig=True)"
   ]
  },
  {
   "cell_type": "code",
   "execution_count": null,
   "metadata": {
    "collapsed": true
   },
   "outputs": [],
   "source": []
  }
 ],
 "metadata": {
  "kernelspec": {
   "display_name": "Python 3",
   "language": "python",
   "name": "python3"
  },
  "language_info": {
   "codemirror_mode": {
    "name": "ipython",
    "version": 3
   },
   "file_extension": ".py",
   "mimetype": "text/x-python",
   "name": "python",
   "nbconvert_exporter": "python",
   "pygments_lexer": "ipython3",
   "version": "3.6.1"
  }
 },
 "nbformat": 4,
 "nbformat_minor": 2
}
