{
 "cells": [
  {
   "cell_type": "code",
   "execution_count": 117,
   "metadata": {
    "collapsed": true
   },
   "outputs": [],
   "source": [
    "import numpy as np\n",
    "import pandas as pd\n",
    "import matplotlib.pyplot as plt\n",
    "from sklearn.preprocessing import LabelBinarizer\n",
    "from sklearn.utils import shuffle"
   ]
  },
  {
   "cell_type": "code",
   "execution_count": 118,
   "metadata": {
    "collapsed": false
   },
   "outputs": [],
   "source": [
    "def y2indicator(Y, K=10):\n",
    "    # K=10 for MNIST\n",
    "    # Python\n",
    "    N = len(Y)\n",
    "    Y = Y.astype(np.int32)\n",
    "    ind = np.zeros((N, K))\n",
    "    for i in range(N):\n",
    "        ind[i, Y[i]] = 1\n",
    "    return ind\n",
    "\n",
    "def py_y2indicator(Y, K=10):\n",
    "    N = len(Y)\n",
    "    Y = Y.astype(np.int32)\n",
    "    ind = np.zeros((N, K))\n",
    "    ind[np.arange(N), Y] = 1\n",
    "    return ind\n",
    "    \n",
    "def sk_y2indicator(Y, K=10):\n",
    "    lb = LabelBinarizer()\n",
    "    lb.fit(range(Y.max()+1))\n",
    "    return lb.transform(Y)\n",
    "    \n",
    "def get_normalized_data():\n",
    "    df = pd.read_csv('../datasets/mnist/train.csv')\n",
    "    data = df.as_matrix().astype(np.float32)\n",
    "    np.random.shuffle(data)\n",
    "    Y = data[:,0]\n",
    "    X = data[:,1:]\n",
    "    mu = X.mean(axis=0)\n",
    "    std = X.std(axis=0)\n",
    "    np.place(std, std==0, 1)\n",
    "    X = (X-mu)/std\n",
    "    return X, Y\n",
    "\n",
    "def error(p_y, T):\n",
    "    predictions = np.argmax(p_y, axis=1)\n",
    "    return np.mean(predictions != T)\n",
    "\n",
    "def cost(p_y, T):\n",
    "    \"\"\" Cross entropy \"\"\"\n",
    "    if np.any(np.isnan(np.log(p_y))):\n",
    "        print(\"nan in log p_y\")\n",
    "    total = T * np.log(p_y)\n",
    "    return -total.sum()"
   ]
  },
  {
   "cell_type": "code",
   "execution_count": 119,
   "metadata": {
    "collapsed": false
   },
   "outputs": [],
   "source": [
    "def xavier_init(size):\n",
    "    in_dim = size[0]\n",
    "    xavier_stddev = np.sqrt(in_dim/2.0)\n",
    "    return np.random.randn(size[0],size[1]) / xavier_stddev\n",
    "\n",
    "def derivative_W2(Z, T, Y):\n",
    "    return Z.T.dot(Y-T)\n",
    "                   \n",
    "def derivative_b2(T, Y):\n",
    "    return (Y-T).sum(axis=0)\n",
    "\n",
    "def derivative_W1(X, Z, T, Y, W2):\n",
    "    #return X.T.dot( ((Y-T).dot(W2.T) * Z * (1-Z)) )  # for sigmoid\n",
    "    return X.T.dot( ((Y-T).dot(W2.T) * (Z>0)) ) # for relu\n",
    "\n",
    "def derivative_b1(Z, T, Y, W2):\n",
    "    #return ( (Y-T).dot(W2.T) * (Z*(1-Z)) ).sum(axis=0) # for sigmoid      \n",
    "    return ( (Y-Y).dot(W2.T) * (Z>0) ).sum(axis=0) # for relu\n",
    "\n",
    "def relu(a):   \n",
    "    a[a<0] = 0\n",
    "    return a\n",
    "\n",
    "def sigmoid(a):\n",
    "    return 1.0 / (1.0 + np.exp(-a))\n",
    "    \n",
    "def softmax(a):                                                                 \n",
    "    a -= np.max(a) \n",
    "    expA = np.exp(a)\n",
    "    return expA / expA.sum(axis=1, keepdims=True)\n",
    "\n",
    "def forward(X, W1, b1, W2, b2):\n",
    "    Z = relu( X.dot(W1)+b1 )\n",
    "    Y = softmax( Z.dot(W2)+b2 )\n",
    "    return Y, Z"
   ]
  },
  {
   "cell_type": "code",
   "execution_count": 120,
   "metadata": {
    "collapsed": false
   },
   "outputs": [],
   "source": [
    "# Input\n",
    "X, Y = get_normalized_data()\n",
    "Xtrain = X[:-1000,]                                                         \n",
    "Ytrain = Y[:-1000]                                                          \n",
    "Xtest  = X[-1000:,]                                                         \n",
    "Ytest  = Y[-1000:]                                                          \n",
    "Ytrain_ind = y2indicator(Ytrain)                                            \n",
    "Ytest_ind = y2indicator(Ytest)\n",
    "\n",
    "# Parameters\n",
    "lr = 1.0e-5\n",
    "reg = 1.0e-2\n",
    "N, D = Xtrain.shape\n",
    "\n",
    "M = 300\n",
    "K=10"
   ]
  },
  {
   "cell_type": "code",
   "execution_count": 122,
   "metadata": {
    "collapsed": true
   },
   "outputs": [],
   "source": [
    "max_iter = 100\n",
    "print_period = 10\n",
    "batch_size = 500\n",
    "n_batches = N//batch_size"
   ]
  },
  {
   "cell_type": "markdown",
   "metadata": {},
   "source": [
    "# Batch"
   ]
  },
  {
   "cell_type": "code",
   "execution_count": 123,
   "metadata": {
    "collapsed": false,
    "scrolled": true
   },
   "outputs": [
    {
     "name": "stdout",
     "output_type": "stream",
     "text": [
      "Cost: 1298.0272180059194\n",
      "Error:0.369\n",
      "Cost: 402.1506931665958\n",
      "Error:0.117\n",
      "Cost: 319.96426876235165\n",
      "Error:0.098\n",
      "Cost: 281.5956649397404\n",
      "Error:0.083\n",
      "Cost: 258.1456435779899\n",
      "Error:0.076\n",
      "Cost: 241.722063286155\n",
      "Error:0.069\n",
      "Cost: 229.2269221577522\n",
      "Error:0.065\n",
      "Cost: 219.30131257352804\n",
      "Error:0.063\n",
      "Cost: 211.14264593326106\n",
      "Error:0.062\n",
      "Cost: 204.3789778514508\n",
      "Error:0.06\n",
      "Final error: 0.058\n"
     ]
    }
   ],
   "source": [
    "W1 = xavier_init([D, M])\n",
    "b1 = np.zeros(M)\n",
    "W2 = xavier_init([M, K])\n",
    "b2 = np.zeros(K)\n",
    "\n",
    "LL_batch = []\n",
    "ER_batch = []\n",
    "for i in range(max_iter):\n",
    "    for j in range(n_batches):\n",
    "        batch_range = (j*batch_size, j*batch_size + batch_size)\n",
    "        \n",
    "        Xbatch = Xtrain[batch_range[0]:batch_range[1], ]                \n",
    "        Ybatch = Ytrain_ind[batch_range[0]:batch_range[1], ]            \n",
    "        pYbatch, Z = forward(Xbatch, W1, b1, W2, b2)                                         \n",
    "                                                                                \n",
    "        # updates                                                           \n",
    "        W2 -= lr*(derivative_W2(Z, Ybatch, pYbatch) + reg*W2)               \n",
    "        b2 -= lr*(derivative_b2(Ybatch, pYbatch)    + reg*b2)                  \n",
    "        W1 -= lr*(derivative_W1(Xbatch, Z, Ybatch, pYbatch, W2) + reg*W1)   \n",
    "        b1 -= lr*(derivative_b1(Z, Ybatch, pYbatch, W2)         + reg*b1)           \n",
    "                                                                                \n",
    "    if i % print_period==0:                                           \n",
    "        # calculate just for LL                                         \n",
    "        pY, _ = forward(Xtest, W1, b1, W2, b2)                \n",
    "        LL_batch.append( cost(pY, Ytest_ind) )                                 \n",
    "        print(\"Cost: {}\".format(LL_batch[-1]))                                                                         \n",
    "        ER_batch.append( error(pY, Ytest) )                                \n",
    "        print(\"Error:{}\".format(ER_batch[-1]))                                        \n",
    "                                                                                \n",
    "pY, _ = forward(Xtest, W1, b1, W2, b2)                                      \n",
    "print(\"Final error: {}\".format(error(pY, Ytest)))       "
   ]
  },
  {
   "cell_type": "markdown",
   "metadata": {},
   "source": [
    "# Batch with momentum  "
   ]
  },
  {
   "cell_type": "code",
   "execution_count": 128,
   "metadata": {
    "collapsed": false
   },
   "outputs": [
    {
     "name": "stdout",
     "output_type": "stream",
     "text": [
      "Cost: 399.2442143028563\n",
      "Error rate: 0.119\n",
      "Cost: 203.87710357430356\n",
      "Error rate: 0.064\n",
      "Cost: 177.521990288661\n",
      "Error rate: 0.052\n",
      "Cost: 166.34792874237732\n",
      "Error rate: 0.044\n",
      "Cost: 159.9878852231293\n",
      "Error rate: 0.039\n",
      "Cost: 155.984582472181\n",
      "Error rate: 0.039\n",
      "Cost: 153.26956403505557\n",
      "Error rate: 0.041\n",
      "Cost: 151.45185182509192\n",
      "Error rate: 0.039\n",
      "Cost: 150.21712420664022\n",
      "Error rate: 0.036\n",
      "Cost: 149.4969985542839\n",
      "Error rate: 0.035\n",
      "Final error rate: 0.034\n"
     ]
    }
   ],
   "source": [
    "W1 = xavier_init([D, M])\n",
    "b1 = np.zeros(M)\n",
    "W2 = xavier_init([M, K])\n",
    "b2 = np.zeros(K)                                              \n",
    "\n",
    "LL_momentum = []                                                            \n",
    "CR_momentum = []                                                            \n",
    "mu = 0.9                                                                    \n",
    "dW2 = 0                                                                     \n",
    "db2 = 0                                                                     \n",
    "dW1 = 0                                                                     \n",
    "db1 = 0                                                                     \n",
    "for i in range(max_iter):                                                  \n",
    "    for j in range(n_batches):                                             \n",
    "        batch_range = (j*batch_size, j*batch_size + batch_size)\n",
    "        \n",
    "        Xbatch = Xtrain[batch_range[0]:batch_range[1], ]                \n",
    "        Ybatch = Ytrain_ind[batch_range[0]:batch_range[1], ]            \n",
    "        pYbatch, Z = forward(Xbatch, W1, b1, W2, b2)                        \n",
    "                                                                                \n",
    "        # updates                                                           \n",
    "        dW2 = mu*dW2 - lr*(derivative_W2(Z, Ybatch, pYbatch) + reg*W2)      \n",
    "        W2 += dW2                                                           \n",
    "        db2 = mu*db2 - lr*(derivative_b2(Ybatch, pYbatch) + reg*b2)         \n",
    "        b2 += db2                                                           \n",
    "        dW1 = mu*dW1 - lr*(derivative_W1(Xbatch, Z, Ybatch, pYbatch, W2) + reg*W1)\n",
    "        W1 += dW1                                                           \n",
    "        db1 = mu*db1 - lr*(derivative_b1(Z, Ybatch, pYbatch, W2) + reg*b1)  \n",
    "        b1 += db1                                                           \n",
    "                                                                                \n",
    "    if i % print_period == 0:                                           \n",
    "        pY, _ = forward(Xtest, W1, b1, W2, b2)                                                                     \n",
    "        ll = cost(pY, Ytest_ind)                                        \n",
    "        LL_momentum.append(ll)                                          \n",
    "        print(\"Cost: {}\".format(ll))         \n",
    "        err = error(pY, Ytest)                                     \n",
    "        CR_momentum.append(err)                                         \n",
    "        print(\"Error rate: {}\".format(err))                                        \n",
    "pY, _ = forward(Xtest, W1, b1, W2, b2)                                      \n",
    "print(\"Final error rate: {}\".format(error(pY, Ytest)))"
   ]
  },
  {
   "cell_type": "markdown",
   "metadata": {},
   "source": [
    "# Batch with Nesterov momentum "
   ]
  },
  {
   "cell_type": "code",
   "execution_count": 132,
   "metadata": {
    "collapsed": false
   },
   "outputs": [
    {
     "name": "stdout",
     "output_type": "stream",
     "text": [
      "Cost: 149.16566660976946\n",
      "Error rate: 0.034\n",
      "Cost: 149.72172700119665\n",
      "Error rate: 0.032\n",
      "Cost: 150.2736300917801\n",
      "Error rate: 0.032\n",
      "Cost: 150.91110915954675\n",
      "Error rate: 0.031\n",
      "Cost: 151.61664974968343\n",
      "Error rate: 0.031\n",
      "Cost: 152.3423757154085\n",
      "Error rate: 0.031\n",
      "Cost: 153.0846322001767\n",
      "Error rate: 0.03\n",
      "Cost: 153.78555627361075\n",
      "Error rate: 0.03\n",
      "Cost: 154.45732869016592\n",
      "Error rate: 0.03\n",
      "Cost: 155.15256071585225\n",
      "Error rate: 0.03\n",
      "Final error: 0.03\n"
     ]
    }
   ],
   "source": [
    "LL_nest = []                                                                \n",
    "CR_nest = []                                                                \n",
    "mu = 0.9                                                                    \n",
    "# alternate version uses dW                                                 \n",
    "# dW2 = 0                                                                   \n",
    "# db2 = 0                                                                   \n",
    "# dW1 = 0                                                                   \n",
    "# db1 = 0                                                                   \n",
    "vW2 = 0                                                                     \n",
    "vb2 = 0                                                                     \n",
    "vW1 = 0                                                                     \n",
    "vb1 = 0                                                                     \n",
    "for i in range(max_iter):                                                  \n",
    "    for j in range(n_batches):                                             \n",
    "        # because we want g(t) = grad(f(W(t-1) - lr*mu*dW(t-1)))            \n",
    "        # dW(t) = mu*dW(t-1) + g(t)                                         \n",
    "        # W(t) = W(t-1) - mu*dW(t)                                          \n",
    "        W1_tmp = W1 - lr*mu*vW1                                             \n",
    "        b1_tmp = b1 - lr*mu*vb1                                             \n",
    "        W2_tmp = W2 - lr*mu*vW2                                             \n",
    "        b2_tmp = b2 - lr*mu*vb2                                             \n",
    "           \n",
    "        batch_range = (j*batch_size, j*batch_size + batch_size)\n",
    "        \n",
    "        Xbatch = Xtrain[batch_range[0]:batch_range[1], ]                \n",
    "        Ybatch = Ytrain_ind[batch_range[0]:batch_range[1], ]            \n",
    "        pYbatch, Z = forward(Xbatch, W1, b1, W2, b2) \n",
    "        \n",
    "        # pYbatch, Z = forward(Xbatch, W1, b1, W2, b2)                      \n",
    "        pYbatch, Z = forward(Xbatch, W1_tmp, b1_tmp, W2_tmp, b2_tmp)        \n",
    "                                                                                \n",
    "        # updates                                                           \n",
    "        # dW2 = mu*mu*dW2 - (1 + mu)*lr*(derivative_w2(Z, Ybatch, pYbatch) + reg*W2)\n",
    "        # W2 += dW2                                                         \n",
    "        # db2 = mu*mu*db2 - (1 + mu)*lr*(derivative_b2(Ybatch, pYbatch) + reg*b2)\n",
    "        # b2 += db2                                                         \n",
    "        # dW1 = mu*mu*dW1 - (1 + mu)*lr*(derivative_w1(Xbatch, Z, Ybatch, pYbatch, W2) + reg*W1)\n",
    "        # W1 += dW1                                                         \n",
    "        # db1 = mu*mu*db1 - (1 + mu)*lr*(derivative_b1(Z, Ybatch, pYbatch, W2) + reg*b1)\n",
    "        # b1 += db1                                                         \n",
    "        vW2 = mu*vW2 + derivative_W2(Z, Ybatch, pYbatch) + reg*W2_tmp       \n",
    "        W2 -= lr*vW2                                                        \n",
    "        vb2 = mu*vb2 + derivative_b2(Ybatch, pYbatch) + reg*b2_tmp          \n",
    "        b2 -= lr*vb2                                                        \n",
    "        vW1 = mu*vW1 + derivative_W1(Xbatch, Z, Ybatch, pYbatch, W2_tmp) + reg*W1_tmp\n",
    "        W1 -= lr*vW1                                                        \n",
    "        vb1 = mu*vb1 + derivative_b1(Z, Ybatch, pYbatch, W2_tmp) + reg*b1_tmp\n",
    "        b1 -= lr*vb1\n",
    "        \n",
    "    if i % print_period == 0:                                           \n",
    "        # calculate just for LL                                         \n",
    "        pY, _ = forward(Xtest, W1, b1, W2, b2)                          \n",
    "        # print \"pY:\", pY                                               \n",
    "        ll = cost(pY, Ytest_ind)                                        \n",
    "        LL_nest.append(ll)                                              \n",
    "        print(\"Cost: {}\".format(ll))                                                                               \n",
    "        err = error(pY, Ytest)                                     \n",
    "        CR_nest.append(err)                                             \n",
    "        print(\"Error rate: {}\".format(err))                                        \n",
    "pY, _ = forward(Xtest, W1, b1, W2, b2)                                      \n",
    "print(\"Final error: {}\".format(error(pY, Ytest)))"
   ]
  },
  {
   "cell_type": "markdown",
   "metadata": {},
   "source": [
    "# Results"
   ]
  },
  {
   "cell_type": "code",
   "execution_count": 133,
   "metadata": {
    "collapsed": false
   },
   "outputs": [
    {
     "data": {
      "image/png": "[encoded data removed]",
      "text/plain": [
       "<matplotlib.figure.Figure at 0x7facf9402dd8>"
      ]
     },
     "metadata": {},
     "output_type": "display_data"
    }
   ],
   "source": [
    "plt.plot(LL_batch, label=\"batch\")                                           \n",
    "plt.plot(LL_momentum, label=\"momentum\")                                     \n",
    "plt.plot(LL_nest, label=\"nesterov\")                                         \n",
    "plt.legend()                                                                \n",
    "plt.show()"
   ]
  },
  {
   "cell_type": "code",
   "execution_count": null,
   "metadata": {
    "collapsed": true
   },
   "outputs": [],
   "source": []
  }
 ],
 "metadata": {
  "kernelspec": {
   "display_name": "Python 3",
   "language": "python",
   "name": "python3"
  },
  "language_info": {
   "codemirror_mode": {
    "name": "ipython",
    "version": 3
   },
   "file_extension": ".py",
   "mimetype": "text/x-python",
   "name": "python",
   "nbconvert_exporter": "python",
   "pygments_lexer": "ipython3",
   "version": "3.6.0"
  }
 },
 "nbformat": 4,
 "nbformat_minor": 2
}
