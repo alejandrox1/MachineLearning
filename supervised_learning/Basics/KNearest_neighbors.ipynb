{
 "cells": [
  {
   "cell_type": "markdown",
   "metadata": {},
   "source": [
    "The $k$-nearest neighbor fit is defined as follows:\n",
    "$$\n",
    "\\hat{Y} = \\frac{1}{k} \\sum_{x_i \\in N_k (x)} y_i.\n",
    "$$\n",
    "Here, $N_k (x)$ is the nieghborhood of $x$ defined by the $k$ closest points to $x_i$.\n",
    "\n",
    "Closeness implies a metric!\n",
    "\n",
    "If this is your first time playing with KNN see how the **decision boundary** depends on the hyperparameter $k$.\n",
    "For $k=1$, or 1-nearest-neighbor, the classification regions will look like a [Voronoi tessellation](https://en.wikipedia.org/wiki/Voronoi_diagram).\n",
    "\n",
    "**You get $N/k$ neighborhoods.**\n",
    "\n",
    "**Low bias and high variance** decision boundary.\n",
    "This model works best for datasets in which each class comes from a mixture of low-variance Gaussian distributions, with individual means themselves distributed as Gaussians.\n"
   ]
  },
  {
   "cell_type": "markdown",
   "metadata": {},
   "source": [
    "# KNN for Classification"
   ]
  },
  {
   "cell_type": "code",
   "execution_count": 12,
   "metadata": {
    "collapsed": true
   },
   "outputs": [],
   "source": [
    "from math import sqrt\n",
    "\n",
    "def euclidean_distance(row1, row2):\n",
    "    distance = 0.0\n",
    "    # for each feature, assuming last value is a class label\n",
    "    for i in range(len(row1)-1): \n",
    "        distance += (row1[i] - row2[i])**2.0\n",
    "    return sqrt(distance)\n",
    "\n",
    "def get_neighbors(train, test_row, num_neighbors):\n",
    "    distances = []\n",
    "    for train_row in train:\n",
    "        dist = euclidean_distance(train_row, test_row)\n",
    "        distances.append( (train_row, dist) )\n",
    "    distances.sort(key=lambda tup: tup[1])\n",
    "    neighbors = []\n",
    "    for i in range(num_neighbors):\n",
    "        neighbors.append( distances[i][0] )\n",
    "    return neighbors\n",
    "\n",
    "def predict_classification(train, test_row, num_neighbors):\n",
    "    neighbors = get_neighbors(train, test_row, num_neighbors)\n",
    "    class_labels = [row[-1] for row in neighbors]\n",
    "    prediction = max(set(class_labels), key=class_labels.count )\n",
    "    return prediction"
   ]
  },
  {
   "cell_type": "code",
   "execution_count": 15,
   "metadata": {
    "collapsed": false
   },
   "outputs": [
    {
     "name": "stdout",
     "output_type": "stream",
     "text": [
      " Expected 0, Got 0. \n"
     ]
    }
   ],
   "source": [
    "# Test distance function\n",
    "dataset = [[2.7810836,2.550537003,0],\n",
    "[1.465489372,2.362125076,0],\n",
    "[3.396561688,4.400293529,0],\n",
    "[1.38807019,1.850220317,0],\n",
    "[3.06407232,3.005305973,0],\n",
    "[7.627531214,2.759262235,1],\n",
    "[5.332441248,2.088626775,1],\n",
    "[6.922596716,1.77106367,1],\n",
    "[8.675418651,-0.242068655,1],\n",
    "[7.673756466,3.508563011,1]]\n",
    "prediction = predict_classification(dataset, dataset[2], 3)\n",
    "print( ' Expected %d, Got %d. ' % (dataset[2][-1], prediction))"
   ]
  },
  {
   "cell_type": "markdown",
   "metadata": {},
   "source": [
    "# KNN Regression"
   ]
  },
  {
   "cell_type": "code",
   "execution_count": 16,
   "metadata": {
    "collapsed": true
   },
   "outputs": [],
   "source": [
    "def predict_regression(train, test_row, num_neighbors):\n",
    "    neighbors = get_neighbors(train, test_row, num_neighbors)\n",
    "    output_values = [row[-1] for row in neighbors]\n",
    "    prediction = sum(output_values) / float(len(output_values))\n",
    "    return prediction"
   ]
  },
  {
   "cell_type": "markdown",
   "metadata": {},
   "source": [
    "# Generalization"
   ]
  },
  {
   "cell_type": "code",
   "execution_count": 17,
   "metadata": {
    "collapsed": true
   },
   "outputs": [],
   "source": [
    "# kNN Algorithm\n",
    "def k_nearest_neighbors(train, test, num_neighbors, algorithm=predict_classification):\n",
    "    predictions = []\n",
    "    for row in test:\n",
    "        output = algorithm(train, row, num_neighbors)\n",
    "    predictions.append(output)\n",
    "    return predictions"
   ]
  },
  {
   "cell_type": "code",
   "execution_count": null,
   "metadata": {
    "collapsed": true
   },
   "outputs": [],
   "source": []
  }
 ],
 "metadata": {
  "kernelspec": {
   "display_name": "Python 3",
   "language": "python",
   "name": "python3"
  },
  "language_info": {
   "codemirror_mode": {
    "name": "ipython",
    "version": 3
   },
   "file_extension": ".py",
   "mimetype": "text/x-python",
   "name": "python",
   "nbconvert_exporter": "python",
   "pygments_lexer": "ipython3",
   "version": "3.6.0"
  }
 },
 "nbformat": 4,
 "nbformat_minor": 2
}
