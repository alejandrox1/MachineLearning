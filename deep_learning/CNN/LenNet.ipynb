{
 "cells": [
  {
   "cell_type": "markdown",
   "metadata": {},
   "source": [
    "* [Lazyprogrammer: CNN TF](https://github.com/lazyprogrammer/machine_learning_examples/blob/master/cnn_class/cnn_tf.py)\n",
    "\n",
    "* [LeCun 1998](http://yann.lecun.com/exdb/publis/pdf/lecun-01a.pdf)"
   ]
  },
  {
   "cell_type": "markdown",
   "metadata": {},
   "source": [
    "Downsampling -> After we do the convolution, was there a feature present in a certain area of the image?\n",
    "`tf.nn.max_pool`\n",
    "\n",
    "Take image `->` convolution + max_pool: reduce size of features `->` convolution + max_pool `->` flatten features into vector for input into a fully connected NN\n",
    "\n",
    "Input image (N, C, W, H) + Convolution -> (N, C', W, H)\n",
    "Filter (Num of feature maps in, num feature maps out, filter width, filter height)\n",
    " At the beginning the number of feature maps is 3 (3 colors going in).\n",
    "Pooling: split up the original image into a grid of blocks each of size n x n\n",
    "\n",
    "Image batch (15, 3, 32, 32) after a filter (3, 10, 5, 5) -> data (15, 10, 32, 32)\n",
    "After a pooling operation with poolsize (2, 2) -> data (15,10, 16, 16)\n",
    "After a convpool layer (, 8, 3, 3) with poolsize (2, 2) -> data (15, 8, 8, 8)\n",
    "After Flatten -> Data (15, 8*8*8) = (15, 512)\n",
    "With one feedforward layer with 100 hidden units, the size of the weight matrix at this layer has to be (512, 100)\n",
    "\n",
    "* Input: 4-D tensor (N, 3 colors, width, height)\n",
    "* Convolution filter (Kernel): 4-D tensor (feature maps, 3 colors, width, height) <br/>\n",
    " Each kernel extracts a different feature and places it on a feature map\n",
    " \n",
    " Each individual filter has the same dimensionality as the image!"
   ]
  },
  {
   "cell_type": "code",
   "execution_count": 2,
   "metadata": {
    "collapsed": true
   },
   "outputs": [],
   "source": [
    "import numpy as np\n",
    "import matplotlib.pyplot as plt\n",
    "\n",
    "from scipy.io import loadmat\n",
    "from scipy.signal import convolve2d\n",
    "from sklearn.utils import shuffle\n",
    "\n",
    "import tensorflow as tf"
   ]
  },
  {
   "cell_type": "code",
   "execution_count": 3,
   "metadata": {
    "collapsed": true
   },
   "outputs": [],
   "source": [
    "def y2indicator(Y, K=10):\n",
    "    N = len(Y)\n",
    "    indicator = np.zeros((N, K))\n",
    "    for i in range(N):\n",
    "        indicator[i, Y[i]] = 1\n",
    "    return indicator\n",
    "\n",
    "def error(p, t):\n",
    "    return np.mean(p!=t)"
   ]
  },
  {
   "cell_type": "code",
   "execution_count": 9,
   "metadata": {
    "collapsed": true
   },
   "outputs": [],
   "source": [
    "def convpool(X, W, b):\n",
    "    # strides - move with any step size\n",
    "    conv_out = tf.nn.conv2d(X, W, strides=[1, 1, 1, 1], padding='SAME')\n",
    "    conv_out = tf.nn.bias_add(conv_out, b)\n",
    "    pool_out = tf.nn.max_pool(conv_out, ksize=[1, 2, 2, 1], strides=[1, 2, 2, 1], padding='SAME')\n",
    "    return tf.nn.relu(pool_out)\n",
    "\n",
    "def init_filter(shape, poolsz):\n",
    "    # denominator ~ W*H*maps_in + maps_out*W*H/poolsize*poolsize\n",
    "    denominator = np.prod(shape[:-1]) + shape[-1] * np.prod( shape[:-2]/np.prod(poolsz) )\n",
    "    w = np.random.randn(*shape) / np.sqrt( denominator )\n",
    "    return w.astype(np.float32)\n",
    "\n",
    "def rearrange(X):\n",
    "    # input is (32, 32, 3, N)\n",
    "    # output is (N, 32, 32, 3)\n",
    "    N = X.shape[-1]\n",
    "    out = np.zeros((N, 32, 32, 3), dtype=np.float32)\n",
    "    for i in range(N):\n",
    "        for j in range(3):\n",
    "            out[i, :, :, j] = X[:, :, j, i]\n",
    "    return out / 255"
   ]
  },
  {
   "cell_type": "code",
   "execution_count": 13,
   "metadata": {
    "collapsed": true
   },
   "outputs": [],
   "source": [
    "train = loadmat('../datasets/svhn/format2/train_32x32.mat') # N = 73257\n",
    "test = loadmat('../datasets/svhn/format2/test_32x32.mat')   # N = 26032\n",
    "\n",
    "# We need to rearange the matlab files for our purposes\n",
    "# Y will be an N X 1 matrix 1,...,10 (matlab)\n",
    "Xtrain = rearrange(train['X'])\n",
    "Ytrain = train['y'].flatten() - 1\n",
    "del train\n",
    "\n",
    "Xtest = rearrange(test['X'])\n",
    "Ytest = test['y'].flatten() - 1\n",
    "del test"
   ]
  },
  {
   "cell_type": "code",
   "execution_count": 22,
   "metadata": {
    "collapsed": true
   },
   "outputs": [],
   "source": [
    "Xtrain, Ytrain = shuffle(Xtrain, Ytrain)\n",
    "Ytrain_ind = y2indicator(Ytrain)\n",
    "Ytest_ind = y2indicator(Ytest)\n",
    "\n",
    "# limit samples since input will always have to be same size\n",
    "# you could also just do N = N / batch_sz * batch_sz\n",
    "Xtrain = Xtrain[:73000//10,]\n",
    "Ytrain = Ytrain[:73000//10]\n",
    "Xtest = Xtest[:26000//10,]\n",
    "Ytest = Ytest[:26000//10]\n",
    "Ytest_ind = Ytest_ind[:26000//10,]\n",
    "\n",
    "max_iter = 60\n",
    "print_period = 10\n",
    "N = Xtrain.shape[0] \n",
    "batch_size = 500\n",
    "n_bathces = N//batch_size\n",
    "K = len(set(Ytrain))\n",
    "assert K==10\n",
    "M = 500\n",
    "poolsz = (2, 2)\n",
    "\n",
    "# Weights\n",
    "W1_shape = (5, 5, 3, 20) # filter width, filter height, num color channels, num feature maps\n",
    "W1_init = init_filter(W1_shape, poolsz)\n",
    "b1_init = np.zeros(W1_shape[-1], dtype=np.float32) # 1 bias per output feature map\n",
    "\n",
    "W2_shape = (5, 5, 20, 50) # filter width, filter height, old num feature maps, num feature maps\n",
    "W2_init = init_filter(W2_shape, poolsz)\n",
    "b2_init = np.zeros(W2_shape[-1], dtype=np.float32)\n",
    "\n",
    "W3_init = np.random.rand(W2_shape[-1]*8*8, M) / np.sqrt(W2_shape[-1]*8*8+M)\n",
    "b3_init = np.zeros(M, dtype=np.float32)\n",
    "W4_init = np.random.randn(M, K) / np.sqrt(M+K)\n",
    "b4_init = np.zeros(K, dtype=np.float32)\n",
    "\n",
    "# variables and expressions\n",
    "# using None as the first shape element takes up too much RAM \n",
    "X = tf.placeholder(tf.float32, shape=(batch_size, 32, 32, 3), name='X')\n",
    "T = tf.placeholder(tf.float32, shape=(batch_size, K), name='T')\n",
    "W1 = tf.Variable(W1_init.astype(np.float32))\n",
    "b1 = tf.Variable(b1_init.astype(np.float32))\n",
    "W2 = tf.Variable(W2_init.astype(np.float32))\n",
    "b2 = tf.Variable(b2_init.astype(np.float32))\n",
    "W3 = tf.Variable(W3_init.astype(np.float32))\n",
    "b3 = tf.Variable(b3_init.astype(np.float32))\n",
    "W4 = tf.Variable(W4_init.astype(np.float32))\n",
    "b4 = tf.Variable(b4_init.astype(np.float32))\n",
    "\n",
    "Z1 = convpool(X, W1, b1)\n",
    "Z2 = convpool(Z1, W2, b2)\n",
    "Z2_shape = Z2.get_shape().as_list()\n",
    "Z2r = tf.reshape(Z2, [Z2_shape[0], np.prod(Z2_shape[1:])])\n",
    "Z3 = tf.nn.relu( tf.matmul(Z2r, W3)+b3 )\n",
    "Yish = tf.matmul(Z3, W4)+b4\n",
    "\n",
    "cost = tf.reduce_sum(tf.nn.softmax_cross_entropy_with_logits(logits=Yish, labels=T))\n",
    "train_op = tf.train.RMSPropOptimizer(1.0e-4, decay=0.99, momentum=0.9).minimize(cost)\n",
    "predict_op = tf.argmax(Yish, 1)"
   ]
  },
  {
   "cell_type": "code",
   "execution_count": 23,
   "metadata": {
    "collapsed": false
   },
   "outputs": [
    {
     "name": "stdout",
     "output_type": "stream",
     "text": [
      "Cost: 5686.654, error: 0.843\n",
      "Cost: 4803.874, error: 0.660\n",
      "Cost: 2904.971, error: 0.372\n",
      "Cost: 2502.600, error: 0.299\n",
      "Cost: 2415.173, error: 0.291\n",
      "Cost: 2346.598, error: 0.266\n"
     ]
    }
   ],
   "source": [
    "LL = []\n",
    "init = tf.global_variables_initializer()\n",
    "with tf.Session() as session:\n",
    "    session.run(init)\n",
    "    \n",
    "    for i in range(max_iter):\n",
    "        for j in range(n_bathces):\n",
    "            Xbatch = Xtrain[j*batch_size:(j+1)*batch_size, ]\n",
    "            Ybatch = Ytrain_ind[j*batch_size:(j+1)*batch_size, ]\n",
    "            \n",
    "            if len(Xbatch)==batch_size:\n",
    "                session.run(train_op, feed_dict={X: Xbatch, T: Ybatch})\n",
    "                \n",
    "        if i%print_period==0:\n",
    "            # due to RAM limitations we need to have a fixed size input\n",
    "            # so as a result, we have this ugly total cost and prediction computation\n",
    "            test_cost = 0\n",
    "            prediction = np.zeros(len(Xtest))\n",
    "            for k in range(len(Xtest)//batch_size):\n",
    "                Xtestbatch = Xtest[k*batch_size:(k+1)*batch_size, ]\n",
    "                Ytestbatch = Ytest_ind[k*batch_size:(k+1)*batch_size, ]\n",
    "                test_cost += session.run(cost, feed_dict={X: Xtestbatch, T: Ytestbatch})\n",
    "                prediction[k*batch_size:(k+1)*batch_size] = session.run(predict_op, feed_dict={X: Xtestbatch})\n",
    "            err = error(prediction, Ytest)\n",
    "            print('Cost: {:.3f}, error: {:.3f}'.format(test_cost, err))\n",
    "            LL.append(test_cost)"
   ]
  },
  {
   "cell_type": "code",
   "execution_count": 24,
   "metadata": {
    "collapsed": false
   },
   "outputs": [
    {
     "data": {
      "image/png": "[encoded data removed]",
      "text/plain": [
       "<matplotlib.figure.Figure at 0x7f8d2d22d8d0>"
      ]
     },
     "metadata": {},
     "output_type": "display_data"
    }
   ],
   "source": [
    "plt.plot(LL)\n",
    "plt.show()"
   ]
  },
  {
   "cell_type": "code",
   "execution_count": null,
   "metadata": {
    "collapsed": true
   },
   "outputs": [],
   "source": []
  }
 ],
 "metadata": {
  "kernelspec": {
   "display_name": "Python 3",
   "language": "python",
   "name": "python3"
  },
  "language_info": {
   "codemirror_mode": {
    "name": "ipython",
    "version": 3
   },
   "file_extension": ".py",
   "mimetype": "text/x-python",
   "name": "python",
   "nbconvert_exporter": "python",
   "pygments_lexer": "ipython3",
   "version": "3.6.0"
  }
 },
 "nbformat": 4,
 "nbformat_minor": 2
}
