{
 "cells": [
  {
   "cell_type": "code",
   "execution_count": 6,
   "metadata": {
    "collapsed": true
   },
   "outputs": [],
   "source": [
    "import numpy as np\n",
    "import pandas as pd\n",
    "import matplotlib.pyplot as plt"
   ]
  },
  {
   "cell_type": "markdown",
   "metadata": {},
   "source": [
    "X the features can be considered as input from other neurons.\n",
    "\n",
    "A given neuron will then output a signal which is a combination of the inputs, weighted by the strenght of \n",
    "those input neurons to this output neuron.\n",
    "\n",
    "$$ y = sigmoid (w_1 * x_1 + w_2 *x_2 + ... + w_n * x_n) $$\n",
    "\n",
    "We ignore the bias term since it can readily be incoporated by adding an extra dimension, $x_0$, which is always 1.\n",
    "\n",
    "You can interpret the output as a probability, $P(y=1 | x, \\theta) $, which will be used interchangibly with $y$.\n",
    "\n",
    "\n",
    "A very positive weight would be a excitatory connection, a very negative weight an inhibitory conection."
   ]
  },
  {
   "cell_type": "markdown",
   "metadata": {},
   "source": [
    "# Feedforward Action\n",
    "\n",
    "Suppose we have a 1-hidden layer neural net:\n",
    "$x$ is the input, $z$ is the hidden layer, and $y$ is the output layer.\n",
    "\n",
    "$$z_1 = s(w_{11}*x_1 + w_{12}*x_2 )$$\n",
    "$$z_2 = s(w_{21}*x_1 + w_{22}*x_2 )$$\n",
    "\n",
    "Where $s$ is any non-linear function.\n",
    "The three most common choices are:\n",
    "* Sigmoid\n",
    "* Hyperbolic tangent - Scaled version of the sigmoid function as it is centered around 0.\n",
    "* Rectifier linear unit (ReLU)\n",
    " * ```\n",
    "    if x < 0:\n",
    "        return 0\n",
    "    else:\n",
    "        return x\n",
    "    ```"
   ]
  },
  {
   "cell_type": "markdown",
   "metadata": {},
   "source": [
    "$y$ can be computed as\n",
    "\n",
    "$$y = s\\prime (v_1 *z_1 + v_2 *z_2)$$\n",
    "\n",
    "Where $s\\prime$ is either a `sigmoid` or a `softmax`.\n",
    "\n",
    "Note that inside the `sigmoid` functions we simply have the dot product between the input and the weights."
   ]
  },
  {
   "cell_type": "markdown",
   "metadata": {},
   "source": [
    "# Softmax"
   ]
  },
  {
   "cell_type": "code",
   "execution_count": 7,
   "metadata": {
    "collapsed": false
   },
   "outputs": [],
   "source": [
    "# activation at last layer of NN\n",
    "a = np.random.randn(5)\n",
    "expa = np.exp(a)\n",
    "softmax = expa / expa.sum()"
   ]
  },
  {
   "cell_type": "code",
   "execution_count": 8,
   "metadata": {
    "collapsed": false
   },
   "outputs": [
    {
     "data": {
      "text/plain": [
       "1.0000000000000002"
      ]
     },
     "execution_count": 8,
     "metadata": {},
     "output_type": "execute_result"
    }
   ],
   "source": [
    "# probabilities should add up to 1\n",
    "softmax.sum()"
   ]
  },
  {
   "cell_type": "code",
   "execution_count": 9,
   "metadata": {
    "collapsed": false
   },
   "outputs": [
    {
     "name": "stdout",
     "output_type": "stream",
     "text": [
      "[ 1.  1.  1.  1.  1.  1.  1.  1.  1.  1.  1.  1.  1.  1.  1.  1.  1.  1.\n",
      "  1.  1.  1.  1.  1.  1.  1.  1.  1.  1.  1.  1.  1.  1.  1.  1.  1.  1.\n",
      "  1.  1.  1.  1.  1.  1.  1.  1.  1.  1.  1.  1.  1.  1.  1.  1.  1.  1.\n",
      "  1.  1.  1.  1.  1.  1.  1.  1.  1.  1.  1.  1.  1.  1.  1.  1.  1.  1.\n",
      "  1.  1.  1.  1.  1.  1.  1.  1.  1.  1.  1.  1.  1.  1.  1.  1.  1.  1.\n",
      "  1.  1.  1.  1.  1.  1.  1.  1.  1.  1.]\n",
      "(100,)\n",
      "(100, 1)\n"
     ]
    }
   ],
   "source": [
    "# Matrix\n",
    "A = np.random.randn(100, 5) # 100 samples in 5 classes\n",
    "expA = np.exp(A) # all positive\n",
    "# we want each row to sum up to 1\n",
    "# softmax = expA / expA.sum(axis=1) cannot be broadcasted -> div 1-D array by 2-D array\n",
    "softmax = expA / expA.sum(axis=1, keepdims=True) \n",
    "\n",
    "# sanity check\n",
    "print(softmax.sum(axis=1))\n",
    "print(expA.sum(axis=1).shape)\n",
    "print(expA.sum(axis=1, keepdims=True).shape)"
   ]
  },
  {
   "cell_type": "markdown",
   "metadata": {},
   "source": [
    "# Building a Feedforward Neural Network"
   ]
  },
  {
   "cell_type": "code",
   "execution_count": 21,
   "metadata": {
    "collapsed": false
   },
   "outputs": [],
   "source": [
    "def sigmoid(a):\n",
    "    return 1.0 / ( 1.0 + np.exp(-a))\n",
    "\n",
    "def softmax(a):                                                                 \n",
    "    expA = np.exp(a)                                                            \n",
    "    return expA / expA.sum(axis=1, keepdims=True)\n",
    "                  \n",
    "def forward(X, W1, b1, W2, b2):\n",
    "    \"\"\" Sigmoid non-linearity in Hidden layers. \"\"\"\n",
    "    # value at the hidden layer\n",
    "    #Z = sigmoid( X.dot(W1)+b1 )\n",
    "    Z = np.tanh( X.dot(W1)+b1 )\n",
    "    # softmax at the next layer\n",
    "    Y = softmax( Z.dot(W2)+b2 )\n",
    "    return Y\n",
    "\n",
    "def classification_rate(target_labels, predicted_labels):\n",
    "    return np.mean(target_labels==predicted_labels)\n",
    "\n",
    "def scatter(x, y):\n",
    "    plt.scatter(x[:,0], x[:,1], c=y, s=100, alpha=0.5)\n",
    "    plt.show();\n",
    "    \n",
    "def y2indicator(y, K):\n",
    "    '''Transfor Y into an indicator matrix\n",
    "    The indicator matrix will be an NxK matrix.\n",
    "    \n",
    "    N : number of samples\n",
    "    K : number of classes in the output\n",
    "    '''\n",
    "    N = len(y)\n",
    "    ind = np.zeros((N, K))\n",
    "    for i in range(N):\n",
    "        ind[i, int(y[i])] = 1\n",
    "    return ind"
   ]
  },
  {
   "cell_type": "code",
   "execution_count": 22,
   "metadata": {
    "collapsed": true
   },
   "outputs": [],
   "source": [
    "Nclass = 500 # 500 samples per class\n",
    "D = 2 # dimensions\n",
    "M = 3 # Number of Hidden layers\n",
    "K = 3 # number of classes\n",
    "\n",
    "W1 = np.random.randn(D, M)\n",
    "b1 = np.random.randn(M)\n",
    "W2 = np.random.randn(M, K)\n",
    "b2 = np.random.randn(K)\n",
    "\n",
    "# 3 gaussian clouds\n",
    "X1 = np.random.randn(Nclass, 2) + np.array([0, -2])\n",
    "X2 = np.random.randn(Nclass, 2) + np.array([2, 2])\n",
    "X3 = np.random.randn(Nclass, 2) + np.array([-2, 2])\n",
    "X = np.vstack([X1, X2, X3])\n",
    "\n",
    "# create labels\n",
    "Y = np.array([0]*Nclass + [1]*Nclass + [2]*Nclass)"
   ]
  },
  {
   "cell_type": "code",
   "execution_count": 23,
   "metadata": {
    "collapsed": false,
    "scrolled": true
   },
   "outputs": [
    {
     "name": "stdout",
     "output_type": "stream",
     "text": [
      "Classification rate for randomly chosen weights: 0.344666666667\n"
     ]
    },
    {
     "data": {
      "image/png": "[encoded data removed]",
      "text/plain": [
       "<matplotlib.figure.Figure at 0x7f5de5e6ecc0>"
      ]
     },
     "metadata": {},
     "output_type": "display_data"
    }
   ],
   "source": [
    "P_Y_given_X = forward(X, W1, b1, W2, b2)                                        \n",
    "P = np.argmax(P_Y_given_X, axis=1)                                                                                                     \n",
    "    \n",
    "# can you explain why the answer should be close to 1/3?\n",
    "print( \"Classification rate for randomly chosen weights:\", classification_rate(Y, P) )\n",
    "scatter(X,Y)"
   ]
  },
  {
   "cell_type": "markdown",
   "metadata": {},
   "source": [
    "## Example"
   ]
  },
  {
   "cell_type": "code",
   "execution_count": 24,
   "metadata": {
    "collapsed": true
   },
   "outputs": [],
   "source": [
    "def get_data(df):                                                                                                            \n",
    "    data = df.as_matrix()                                                       \n",
    "                                                                                \n",
    "    X = data[:,:-1]                                                             \n",
    "    Y = data[:,-1]                                                              \n",
    "                                                                                \n",
    "    # normalize columns 1 and 2                                                 \n",
    "    X[:,1] = (X[:,1] - X[:,1].mean()) / X[:,1].std()                            \n",
    "    X[:,2] = (X[:,2] - X[:,2].mean()) / X[:,2].std()                            \n",
    "                                                                                \n",
    "    # create a new matrix X2 with the correct number of columns      \n",
    "    # we want to work on the categorical column time_of_day, X[4]\n",
    "    # D+3 because there are 4 diff. categorical values\n",
    "    N, D = X.shape                                                              \n",
    "    X2 = np.zeros((N, D+3))                                                     \n",
    "    X2[:,0:(D-1)] = X[:,0:(D-1)] # non-categorical                              \n",
    "                                                                                \n",
    "    # one-hot encoding for other 4 columns                                                                \n",
    "    for n in range(N):                                                         \n",
    "        t = int(X[n,D-1]) # get time of day                                                       \n",
    "        X2[n,t+D-1] = 1                                                         \n",
    "                                                                                \n",
    "    # method 2                                                                  \n",
    "    # Z = np.zeros((N, 4))                                                      \n",
    "    # Z[np.arange(N), X[:,D-1].astype(np.int32)] = 1                            \n",
    "    # # assign: X2[:,-4:] = Z                                                   \n",
    "    # assert(np.abs(X2[:,-4:] - Z).sum() < 10e-10)                              \n",
    "                                                                                \n",
    "    return X2, Y                                                                \n",
    "                                                                                \n",
    "                                                                                \n",
    "def get_binary_data(df):                                                          \n",
    "    # return only the data from the first 2 classes                             \n",
    "    X, Y = get_data(df)                                                           \n",
    "    X2 = X[Y <= 1]                                                              \n",
    "    Y2 = Y[Y <= 1]                                                              \n",
    "    return X2, Y2    "
   ]
  },
  {
   "cell_type": "code",
   "execution_count": 25,
   "metadata": {
    "collapsed": false
   },
   "outputs": [
    {
     "data": {
      "text/html": [
       "<div>\n",
       "<table border=\"1\" class=\"dataframe\">\n",
       "  <thead>\n",
       "    <tr style=\"text-align: right;\">\n",
       "      <th></th>\n",
       "      <th>is_mobile</th>\n",
       "      <th>n_products_viewed</th>\n",
       "      <th>visit_duration</th>\n",
       "      <th>is_returning_visitor</th>\n",
       "      <th>time_of_day</th>\n",
       "      <th>user_action</th>\n",
       "    </tr>\n",
       "  </thead>\n",
       "  <tbody>\n",
       "    <tr>\n",
       "      <th>0</th>\n",
       "      <td>1</td>\n",
       "      <td>0</td>\n",
       "      <td>0.657510</td>\n",
       "      <td>0</td>\n",
       "      <td>3</td>\n",
       "      <td>0</td>\n",
       "    </tr>\n",
       "    <tr>\n",
       "      <th>1</th>\n",
       "      <td>1</td>\n",
       "      <td>1</td>\n",
       "      <td>0.568571</td>\n",
       "      <td>0</td>\n",
       "      <td>2</td>\n",
       "      <td>1</td>\n",
       "    </tr>\n",
       "    <tr>\n",
       "      <th>2</th>\n",
       "      <td>1</td>\n",
       "      <td>0</td>\n",
       "      <td>0.042246</td>\n",
       "      <td>1</td>\n",
       "      <td>1</td>\n",
       "      <td>0</td>\n",
       "    </tr>\n",
       "  </tbody>\n",
       "</table>\n",
       "</div>"
      ],
      "text/plain": [
       "   is_mobile  n_products_viewed  visit_duration  is_returning_visitor  \\\n",
       "0          1                  0        0.657510                     0   \n",
       "1          1                  1        0.568571                     0   \n",
       "2          1                  0        0.042246                     1   \n",
       "\n",
       "   time_of_day  user_action  \n",
       "0            3            0  \n",
       "1            2            1  \n",
       "2            1            0  "
      ]
     },
     "execution_count": 25,
     "metadata": {},
     "output_type": "execute_result"
    }
   ],
   "source": [
    "filename= 'https://raw.githubusercontent.com/lazyprogrammer/machine_learning_examples/master/ann_logistic_extra/ecommerce_data.csv'\n",
    "\n",
    "df = pd.read_csv(filename)\n",
    "df.head(3)"
   ]
  },
  {
   "cell_type": "code",
   "execution_count": 26,
   "metadata": {
    "collapsed": false
   },
   "outputs": [
    {
     "name": "stdout",
     "output_type": "stream",
     "text": [
      "Classification rate for randomly chosen weights: 0.326\n"
     ]
    }
   ],
   "source": [
    "X, Y = get_data(df)\n",
    "\n",
    "D = X.shape[1] # dimensions\n",
    "M = 50 # Number of Hidden layers\n",
    "K = len(set(Y)) # number of classes\n",
    "\n",
    "W1 = np.random.randn(D, M)\n",
    "b1 = np.random.randn(M)\n",
    "W2 = np.random.randn(M, K)\n",
    "b2 = np.random.randn(K)\n",
    "\n",
    "P_Y_given_X = forward(X, W1, b1, W2, b2)                                        \n",
    "P = np.argmax(P_Y_given_X, axis=1)                                                                                                     \n",
    "    \n",
    "# can you explain why the answer should be close to 1/3?\n",
    "print( \"Classification rate for randomly chosen weights:\", classification_rate(Y, P) )"
   ]
  },
  {
   "cell_type": "markdown",
   "metadata": {
    "collapsed": true
   },
   "source": [
    "## Objective function\n",
    "\n",
    "Optimize it via Gradient Descent.\n",
    "We travel along the graident of our cost function with respect to $W$ and $V$ until we hit a minimum.\n",
    "\n",
    "```\n",
    "J = - sum[n=1,...,N]( sum[k=1,...,K]( T[n,k] * logY[n,k] ) )\n",
    "```\n"
   ]
  },
  {
   "cell_type": "code",
   "execution_count": 27,
   "metadata": {
    "collapsed": true
   },
   "outputs": [],
   "source": [
    "def cost(T, Y):\n",
    "    return (T*np.log(Y)).sum()\n",
    "\n",
    "def derivative_W2(Z, T, Y):\n",
    "    return Z.T.dot(T-Y)\n",
    "\n",
    "def derivative_W1(X, Z, T, Y, W2):\n",
    "    dZ = (T-Y).dot(W2.T) * Z * (1-Z)\n",
    "    return X.T.dot(dZ)\n",
    "\n",
    "def derivative_b2(T, Y):\n",
    "    return (T-Y).sum(axis=0)\n",
    "\n",
    "def derivative_b1(T, Y, W2, Z):\n",
    "    return ((T-Y).dot(W2.T) * Z * (1-Z)).sum(axis=0)\n",
    "\n",
    "def forward(X, W1, b1, W2, b2):\n",
    "    ''' O--W--O--V--O\n",
    "        X    Z      Y\n",
    "    '''\n",
    "    #Z = relu(X.dot(W1) + b1)\n",
    "    Z = sigmoid(X.dot(W1) + b1)\n",
    "    Y = softmax(Z.dot(W2) + b2)\n",
    "    return Y, Z"
   ]
  },
  {
   "cell_type": "code",
   "execution_count": 33,
   "metadata": {
    "collapsed": false
   },
   "outputs": [
    {
     "name": "stdout",
     "output_type": "stream",
     "text": [
      "epoch: 0 cost: -226.31686185319495. classification rate: 0.85\n",
      "epoch: 20000 cost: -156.65550677440837. classification rate: 0.896\n",
      "epoch: 40000 cost: -132.27046481678383. classification rate: 0.912\n",
      "epoch: 60000 cost: -118.44737323966999. classification rate: 0.916\n",
      "epoch: 80000 cost: -109.0292663667261. classification rate: 0.924\n",
      "epoch: 100000 cost: -102.02319372643174. classification rate: 0.928\n",
      "epoch: 120000 cost: -96.32638457501653. classification rate: 0.934\n",
      "epoch: 140000 cost: -91.03247299850361. classification rate: 0.942\n",
      "epoch: 160000 cost: -85.32136989520377. classification rate: 0.944\n",
      "epoch: 180000 cost: -78.9756559977817. classification rate: 0.952\n"
     ]
    },
    {
     "data": {
      "image/png": "[encoded data removed]",
      "text/plain": [
       "<matplotlib.figure.Figure at 0x7f5de5bd3400>"
      ]
     },
     "metadata": {},
     "output_type": "display_data"
    }
   ],
   "source": [
    "T = y2indicator(Y, K)\n",
    "\n",
    "epochs = 200000\n",
    "epoch_rate = 20000\n",
    "learning_rate = 10e-6\n",
    "costs = []\n",
    "for epoch in range(epochs):\n",
    "    output, hidden = forward(X, W1, b1, W2, b2)\n",
    "    if epoch % epoch_rate == 0:\n",
    "        c = cost(T, output)\n",
    "        P = np.argmax(output, axis=1)\n",
    "        r = classification_rate(Y, P)\n",
    "        print('epoch: {} cost: {}. classification rate: {}'.format(epoch, c, r))\n",
    "        costs.append(c)\n",
    "        \n",
    "    W2 += learning_rate * derivative_W2(hidden, T, output)\n",
    "    b2 += learning_rate * derivative_b2(T, output)\n",
    "    W1 += learning_rate * derivative_W1(X, hidden, T, output, W2)\n",
    "    b1 += learning_rate * derivative_b1(T, output, W2, hidden)\n",
    "    \n",
    "plt.plot(costs)\n",
    "plt.show();"
   ]
  },
  {
   "cell_type": "code",
   "execution_count": null,
   "metadata": {
    "collapsed": true
   },
   "outputs": [],
   "source": []
  }
 ],
 "metadata": {
  "kernelspec": {
   "display_name": "Python 3",
   "language": "python",
   "name": "python3"
  },
  "language_info": {
   "codemirror_mode": {
    "name": "ipython",
    "version": 3
   },
   "file_extension": ".py",
   "mimetype": "text/x-python",
   "name": "python",
   "nbconvert_exporter": "python",
   "pygments_lexer": "ipython3",
   "version": "3.6.0"
  }
 },
 "nbformat": 4,
 "nbformat_minor": 2
}
