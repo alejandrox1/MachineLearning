{
 "cells": [
  {
   "cell_type": "markdown",
   "metadata": {},
   "source": [
    "* **Linear decision boundaries:** The dataset comes from a Multivariate (K) Gaussian distribution with uncorrelated components and different means.\n",
    "\n",
    "* Dataset for each class comes from a mixture of low-variance Gaussian distributions, with individual means themselves distributed as Gaussians.\n",
    "\n",
    "\n",
    "LR gives a linear decision boundary (surprise!) -> **potentially high bias and low variance**.\n",
    "\n",
    "This model works best for datasets generated from Multivariate Gaussian distributions with uncorrelated components and different means."
   ]
  },
  {
   "cell_type": "markdown",
   "metadata": {},
   "source": [
    "# Simple Linear Regression"
   ]
  },
  {
   "cell_type": "markdown",
   "metadata": {},
   "source": [
    "* When there i a single input variable the method is referered to as simple linear regression.\n",
    "$$ y = b_0 + b_1 x $$\n",
    "\n",
    "We can estimate the coefficients as follows:\n",
    "$$ \n",
    "b_1 = \\frac{\\sum_{i=1}^{n} (x_i - \\mu_x )(y_i - \\mu_y)}{\\sum^{n}_{i=1} (x_i - \\mu_x )^2} \n",
    "= \\frac{covariance(x, y)}{variance(x)}\n",
    "$$\n",
    "$$\n",
    "b_0 = \\mu_y - b_1 \\mu_x \n",
    "= mean(y) - b_1 * mean(x)\n",
    "$$\n",
    "\n",
    "\n",
    "* Mean       : $$ \\mu_x = \\frac{1}{n} \\sum^{n}_{i=1} x_i $$\n",
    "* Variance   : $$ \\sum_{i=1}^{n} (x_i - \\mu_x)^2 $$\n",
    "* Covariance : Generalization of correlation to describe the relation between two or more values.\n",
    "$$ \\sum^{n}_{i=1} (x_i - \\mu_x)(y_i - \\mu_y) $$"
   ]
  },
  {
   "cell_type": "markdown",
   "metadata": {},
   "source": [
    "## Quantities"
   ]
  },
  {
   "cell_type": "code",
   "execution_count": 1,
   "metadata": {
    "collapsed": true
   },
   "outputs": [],
   "source": [
    "def mean(values):\n",
    "    return sum(values) / float(len(values))\n",
    "\n",
    "def variance(values):\n",
    "    mean_val = mean(values)\n",
    "    variance = [ (val - mean_val)**2.0 for val in values ]\n",
    "    return sum(variance)\n",
    "\n",
    "def covariance(x, y):\n",
    "    mean_x = mean(x)\n",
    "    mean_y = mean(y)\n",
    "    covar = 0.0\n",
    "    for i in range(len(x)):\n",
    "        covar += (x[i]-mean_x) * (y[i]-mean_y)\n",
    "    return covar"
   ]
  },
  {
   "cell_type": "code",
   "execution_count": 2,
   "metadata": {
    "collapsed": false
   },
   "outputs": [
    {
     "name": "stdout",
     "output_type": "stream",
     "text": [
      "x stats: mean=3.000 variance=10.000\n",
      "y stats: mean=2.800 variance=8.800\n",
      "Covariance: 8.000 \n"
     ]
    }
   ],
   "source": [
    "dataset = [[1, 1], [2, 3], [4, 3], [3, 2], [5, 5]]                              \n",
    "x = [row[0] for row in dataset]                                                 \n",
    "y = [row[1] for row in dataset]                                                 \n",
    "mean_x, mean_y = mean(x), mean(y)                                               \n",
    "var_x, var_y = variance(x), variance(y)                         \n",
    "print('x stats: mean=%.3f variance=%.3f' % (mean_x, var_x))                     \n",
    "print('y stats: mean=%.3f variance=%.3f' % (mean_y, var_y))\n",
    "\n",
    "covar = covariance(x, y)\n",
    "print( 'Covariance: %.3f ' % (covar))"
   ]
  },
  {
   "cell_type": "markdown",
   "metadata": {},
   "source": [
    "## Coefficients"
   ]
  },
  {
   "cell_type": "code",
   "execution_count": 3,
   "metadata": {
    "collapsed": true
   },
   "outputs": [],
   "source": [
    "def coefficients(dataset):\n",
    "    x = [row[0] for row in dataset]\n",
    "    y = [row[1] for row in dataset]\n",
    "    x_mean, y_mean = mean(x), mean(y)\n",
    "    b1 = covariance(x, y) / variance(x)\n",
    "    b0 = y_mean - b1*x_mean\n",
    "    return b0, b1"
   ]
  },
  {
   "cell_type": "code",
   "execution_count": 4,
   "metadata": {
    "collapsed": false
   },
   "outputs": [
    {
     "name": "stdout",
     "output_type": "stream",
     "text": [
      " Coefficients: B0=0.400, B1=0.800\n"
     ]
    }
   ],
   "source": [
    "b0, b1 = coefficients(dataset)\n",
    "print( ' Coefficients: B0={:.3f}, B1={:.3f}'.format(b0, b1))"
   ]
  },
  {
   "cell_type": "markdown",
   "metadata": {},
   "source": [
    "## Putting it all together"
   ]
  },
  {
   "cell_type": "code",
   "execution_count": 5,
   "metadata": {
    "collapsed": true
   },
   "outputs": [],
   "source": [
    "def simple_linear_regression(train, test):\n",
    "    predictions = []\n",
    "    b0, b1 = coefficients(train)\n",
    "    for row in test:\n",
    "        yhat = b0 + b1*row[0]\n",
    "        predictions.append( yhat )\n",
    "    return predictions"
   ]
  },
  {
   "cell_type": "code",
   "execution_count": 6,
   "metadata": {
    "collapsed": true
   },
   "outputs": [],
   "source": [
    "from Getting_Started import rmse_metric\n",
    "\n",
    "def evaluate_algorithm(dataset, algorithm):\n",
    "    test_set = []\n",
    "    for row in dataset:\n",
    "        row_copy = list(row)\n",
    "        row_copy[-1] = None\n",
    "        test_set.append(row_copy)\n",
    "    predicted = algorithm(dataset, test_set)\n",
    "    print(predicted)\n",
    "    actual = [row[-1] for row in dataset]\n",
    "    rmse = rmse_metric(actual, predicted)\n",
    "    return rmse"
   ]
  },
  {
   "cell_type": "code",
   "execution_count": 7,
   "metadata": {
    "collapsed": false
   },
   "outputs": [
    {
     "name": "stdout",
     "output_type": "stream",
     "text": [
      "[1.1999999999999995, 1.9999999999999996, 3.5999999999999996, 2.8, 4.3999999999999995]\n",
      " RMSE: 0.693 \n"
     ]
    }
   ],
   "source": [
    "rmse = evaluate_algorithm(dataset, simple_linear_regression)\n",
    "print( ' RMSE: %.3f ' % (rmse))"
   ]
  },
  {
   "cell_type": "markdown",
   "metadata": {},
   "source": [
    "# Multivariate Linear Regression"
   ]
  },
  {
   "cell_type": "markdown",
   "metadata": {},
   "source": [
    "Given a vector of inputs $X^T = (X_1, ..., X_p)$, $X$ being a column vector, one can predict the output of $Y$ by using the following model:\n",
    "$$\n",
    "\\hat{Y} = \\hat{\\beta_0} + \\sum^{p}_{j=1} X_j \\hat{\\beta_j}\n",
    "$$\n",
    "$p$ is the number of features.\n",
    "$\\hat{\\beta_0}$ is the intercept or **bias** term.\n",
    "\n",
    "We can include the constant variable 1 in $X$ in order to include $\\hat{\\beta_0}$ with the vector of coefficients $\\hat{\\beta}$ so that our linear model can be writen as an inner product,\n",
    "$$\n",
    "\\hat{Y} = X^T \\hat{\\beta}\n",
    "$$\n",
    "\n",
    "We can interpret our model as a function over a $p$-dimensional input space, $f(X) = X^T \\hat{\\beta}$ with its gradient $f^{\\prime} (X) = \\hat{\\beta} $.\n",
    "$\\beta$ (we are dropping the hat) is thus a vector in input space that points in the steepest uphill direction.\n",
    "\n",
    "To fit the linear model to a dataset we will use the method of least squares.\n",
    "We pick the coefficients $\\beta$ that **minimize the residual sum of squares**\n",
    "$$\n",
    "RSS(\\beta ) =\\sum^{N}_{i=1} (y_i - x_{i}^{T}\\beta )^2\n",
    "$$\n",
    "\n",
    "In matrix notation,\n",
    "$$\n",
    "RSS(\\beta ) = (\\mathbf{y - X}\\beta)^T (\\mathbf{y - X}\\beta),\n",
    "$$\n",
    "$\\mathbf{X}$ is an $N \\times p$ matrix where each row corresponds to an input vector, and $\\mathbf{y}$ is a $N$-vector of outputs for the training set.\n",
    "Because the RSS is a quadratic function its minimum always exists, although it may not be unique.\n",
    "\n",
    "In order to continue, let's differentiate $RSS(\\beta )$ with respect to $\\beta$. This will give us the set of equations,\n",
    "$$\n",
    "\\mathbf{X}^T (\\mathbf{y-X}\\beta) = 0\n",
    "$$\n",
    "\n",
    "In the case that $\\mathbf{X}^T \\mathbf{X}$ is nonsingular, we then obtain \n",
    "$$\n",
    "\\hat{\\beta} = (\\mathbf{X}^T\\mathbf{X})^{-1}\\mathbf{X}^T\\mathbf{y}\n",
    "$$"
   ]
  },
  {
   "cell_type": "markdown",
   "metadata": {
    "collapsed": true
   },
   "source": [
    "## Stochastic Gradient Descent for Linear Regression"
   ]
  },
  {
   "cell_type": "code",
   "execution_count": 11,
   "metadata": {
    "collapsed": false
   },
   "outputs": [],
   "source": [
    "def predict(row, coefficients):\n",
    "    yhat = coefficients[0]\n",
    "    for i in range(len(row)-1):\n",
    "        yhat += coefficients[i+1] * row[i]\n",
    "    return yhat\n",
    "\n",
    "def coefficients_sgd(train, l_rate, n_epoch):\n",
    "    coef = [0.0 for i in range(len(train[0]))]\n",
    "    for epoch in range(n_epoch):\n",
    "        sum_error = 0.0\n",
    "        for row in train:\n",
    "            yhat = predict(row, coef)\n",
    "            error = yhat - row[-1]\n",
    "            sum_error += error**2.0\n",
    "            # updates \n",
    "            coef[0] = coef[0] - l_rate * error\n",
    "            for i in range(len(row)-1):\n",
    "                coef[i+1] = coef[i+1] - l_rate * error * row[i]\n",
    "    return coef\n",
    "\n",
    "def linear_regression_sgd(train, test, l_rate, n_epoch):                        \n",
    "    predictions = []                                                    \n",
    "    coef = coefficients_sgd(train, l_rate, n_epoch)                         \n",
    "    for row in test:                                                        \n",
    "        yhat = predict(row, coef)                                       \n",
    "        predictions.append(yhat)                                        \n",
    "    return(predictions)"
   ]
  },
  {
   "cell_type": "code",
   "execution_count": 12,
   "metadata": {
    "collapsed": true
   },
   "outputs": [],
   "source": [
    "def evaluate_algorithm(dataset, algorithm, n_folds, *args):                     \n",
    "    folds = cross_validation_split(dataset, n_folds)                        \n",
    "    scores = []                                                         \n",
    "    for fold in folds:                                                      \n",
    "        train_set = list(folds)                                         \n",
    "        train_set.remove(fold)                                          \n",
    "        train_set = sum(train_set, [])                                  \n",
    "        test_set = list()                                               \n",
    "        for row in fold:                                                \n",
    "            row_copy = list(row)                                    \n",
    "            test_set.append(row_copy)                               \n",
    "            row_copy[-1] = None                                     \n",
    "        predicted = algorithm(train_set, test_set, *args)               \n",
    "        actual = [row[-1] for row in fold]                              \n",
    "        rmse = rmse_metric(actual, predicted)                           \n",
    "        scores.append(rmse)                                             \n",
    "    return scores"
   ]
  },
  {
   "cell_type": "code",
   "execution_count": 13,
   "metadata": {
    "collapsed": false
   },
   "outputs": [
    {
     "name": "stdout",
     "output_type": "stream",
     "text": [
      "Scores: [0.12799871928083031, 0.12495030020491166, 0.12225645975212905, 0.12914294667502924, 0.12603189216806354]\n",
      "Mean RMSE: 0.126\n"
     ]
    }
   ],
   "source": [
    "from Getting_Started import load_csv, str_column_to_float, normalize_dataset, cross_validation_split\n",
    "\n",
    "filename = '../datasets/winequality-white.csv'                                              \n",
    "dataset = load_csv(filename)                                                    \n",
    "for i in range(len(dataset[0])):                                                \n",
    "    str_column_to_float(dataset, i)                                         \n",
    "# normalize                                                                                                                     \n",
    "dataset = normalize_dataset(dataset)\n",
    "\n",
    "# evaluate algorithm                                                            \n",
    "n_folds = 5                                                                     \n",
    "l_rate = 0.01                                                                   \n",
    "n_epoch = 50                                                                    \n",
    "scores = evaluate_algorithm(dataset, linear_regression_sgd, n_folds, l_rate, n_epoch)\n",
    "print('Scores: %s' % scores)                                                    \n",
    "print('Mean RMSE: %.3f' % (sum(scores)/float(len(scores)))) "
   ]
  },
  {
   "cell_type": "code",
   "execution_count": null,
   "metadata": {
    "collapsed": true
   },
   "outputs": [],
   "source": []
  }
 ],
 "metadata": {
  "kernelspec": {
   "display_name": "Python 3",
   "language": "python",
   "name": "python3"
  },
  "language_info": {
   "codemirror_mode": {
    "name": "ipython",
    "version": 3
   },
   "file_extension": ".py",
   "mimetype": "text/x-python",
   "name": "python",
   "nbconvert_exporter": "python",
   "pygments_lexer": "ipython3",
   "version": "3.6.0"
  }
 },
 "nbformat": 4,
 "nbformat_minor": 2
}
