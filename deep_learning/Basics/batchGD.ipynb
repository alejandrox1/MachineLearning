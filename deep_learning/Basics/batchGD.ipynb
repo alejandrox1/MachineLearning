{
 "cells": [
  {
   "cell_type": "markdown",
   "metadata": {},
   "source": [
    "* Full Gradient Descent\n",
    " * $O(N)$ \n",
    "\n",
    "* Stochastic Gradient Descent\n",
    " * Takes longer to converge\n",
    " * Depends on all samples being identical and independently distributed\n",
    "\n",
    "* Batch Gradient Descent\n",
    "\n"
   ]
  },
  {
   "cell_type": "markdown",
   "metadata": {},
   "source": [
    "# Logistic Regression"
   ]
  },
  {
   "cell_type": "code",
   "execution_count": 5,
   "metadata": {
    "collapsed": true
   },
   "outputs": [],
   "source": [
    "import numpy as np\n",
    "import pandas as pd\n",
    "import matplotlib.pyplot as plt\n",
    "from sklearn.decomposition import PCA\n",
    "from sklearn.utils import shuffle\n",
    "from datetime import datetime"
   ]
  },
  {
   "cell_type": "code",
   "execution_count": 6,
   "metadata": {
    "collapsed": true
   },
   "outputs": [],
   "source": [
    "def y2indicator(y):\n",
    "    N = len(y)\n",
    "    y = y.astype(np.int32)\n",
    "    ind = np.zeros((N, 10))\n",
    "    for i in range(N):\n",
    "        ind[i, y[i]] = 1\n",
    "    return ind\n",
    "\n",
    "def plot_cumulative_variance(pca):\n",
    "    P = []\n",
    "    for p in pca.explained_variance_ratio_:\n",
    "        if len(P) == 0:\n",
    "            P.append(p)\n",
    "        else:\n",
    "            P.append(p + P[-1])\n",
    "    plt.plot(P)\n",
    "    plt.show()\n",
    "    return P\n",
    "\n",
    "def get_transformed_data():\n",
    "    print(\"Reading in and transforming data...\")\n",
    "\n",
    "    df = pd.read_csv('../datasets/mnist/train.csv')\n",
    "    data = df.as_matrix().astype(np.float32)\n",
    "    np.random.shuffle(data)\n",
    "\n",
    "    X = data[:, 1:]\n",
    "    mu = X.mean(axis=0)\n",
    "    X = X - mu # center the data\n",
    "    pca = PCA()\n",
    "    Z = pca.fit_transform(X)\n",
    "    Y = data[:, 0].astype(np.int32)\n",
    "\n",
    "    plot_cumulative_variance(pca)\n",
    "\n",
    "    return Z, Y, pca, mu\n",
    "\n",
    "def forward(X, W, b):\n",
    "    expa = np.exp(X.dot(W) + b)\n",
    "    y = expa / expa.sum(axis=1, keepdims=True)\n",
    "    return y\n",
    "\n",
    "def error_rate(p_y, t):\n",
    "    prediction = np.argmax(p_y, axis=1)\n",
    "    return np.mean(prediction != t)\n",
    "\n",
    "def cost(p_y, t):\n",
    "    tot = t * np.log(p_y)\n",
    "    return -tot.sum()\n",
    "\n",
    "def gradW(t, y, X):\n",
    "    return X.T.dot(t - y)\n",
    "\n",
    "def gradb(t, y):\n",
    "    return (t - y).sum(axis=0)"
   ]
  },
  {
   "cell_type": "code",
   "execution_count": 7,
   "metadata": {
    "collapsed": false
   },
   "outputs": [
    {
     "name": "stdout",
     "output_type": "stream",
     "text": [
      "Reading in and transforming data...\n"
     ]
    },
    {
     "data": {
      "image/png": "[encoded data removed]",
      "text/plain": [
       "<matplotlib.figure.Figure at 0x7ff1b15366a0>"
      ]
     },
     "metadata": {},
     "output_type": "display_data"
    },
    {
     "name": "stdout",
     "output_type": "stream",
     "text": [
      "Performing logistic regression...\n"
     ]
    }
   ],
   "source": [
    "X, Y, _, _ = get_transformed_data()\n",
    "X = X[:, :300]\n",
    "\n",
    "# normalize X first\n",
    "mu = X.mean(axis=0)\n",
    "std = X.std(axis=0)\n",
    "X = (X - mu) / std\n",
    "\n",
    "print(\"Performing logistic regression...\")\n",
    "Xtrain = X[:-1000,]\n",
    "Ytrain = Y[:-1000]\n",
    "Xtest  = X[-1000:,]\n",
    "Ytest  = Y[-1000:]\n",
    "\n",
    "N, D = Xtrain.shape\n",
    "Ytrain_ind = y2indicator(Ytrain)\n",
    "Ytest_ind = y2indicator(Ytest)"
   ]
  },
  {
   "cell_type": "code",
   "execution_count": 8,
   "metadata": {
    "collapsed": false
   },
   "outputs": [
    {
     "name": "stdout",
     "output_type": "stream",
     "text": [
      "Cost at iteration 0: 896.171054\n",
      "Error rate: 0.183\n",
      "Cost at iteration 20: 355.944290\n",
      "Error rate: 0.089\n",
      "Cost at iteration 40: 332.857572\n",
      "Error rate: 0.087\n",
      "Cost at iteration 60: 323.638876\n",
      "Error rate: 0.083\n",
      "Cost at iteration 80: 318.451802\n",
      "Error rate: 0.084\n",
      "Cost at iteration 100: 315.031541\n",
      "Error rate: 0.083\n",
      "Cost at iteration 120: 312.565020\n",
      "Error rate: 0.084\n",
      "Cost at iteration 140: 310.682691\n",
      "Error rate: 0.084\n",
      "Cost at iteration 160: 309.189620\n",
      "Error rate: 0.085\n",
      "Cost at iteration 180: 307.971810\n",
      "Error rate: 0.084\n",
      "Final error rate: 0.084\n",
      "Elapsted time for full GD: 0:00:23.731755\n"
     ]
    }
   ],
   "source": [
    "# 1. full\n",
    "W = np.random.randn(D, 10) / 28 # propto sqrt dimensionality\n",
    "b = np.zeros(10)\n",
    "LL = []\n",
    "lr = 0.0001\n",
    "reg = 0.01\n",
    "t0 = datetime.now()\n",
    "for i in range(200):\n",
    "    p_y = forward(Xtrain, W, b)\n",
    "\n",
    "    W += lr*(gradW(Ytrain_ind, p_y, Xtrain) - reg*W)\n",
    "    b += lr*(gradb(Ytrain_ind, p_y) - reg*b)\n",
    "        \n",
    "    p_y_test = forward(Xtest, W, b)\n",
    "    ll = cost(p_y_test, Ytest_ind)\n",
    "    LL.append(ll)\n",
    "    if i % 20 == 0:\n",
    "        err = error_rate(p_y_test, Ytest)\n",
    "        print(\"Cost at iteration {}: {:.6f}\".format(i, ll))\n",
    "        print(\"Error rate:\", err)\n",
    "p_y = forward(Xtest, W, b)\n",
    "print(\"Final error rate:\", error_rate(p_y, Ytest))\n",
    "print(\"Elapsted time for full GD:\", datetime.now() - t0)"
   ]
  },
  {
   "cell_type": "code",
   "execution_count": 20,
   "metadata": {
    "collapsed": false
   },
   "outputs": [
    {
     "name": "stdout",
     "output_type": "stream",
     "text": [
      "Final error rate: 0.125\n",
      "Elapsted time for SGD: 0:04:13.804777\n"
     ]
    }
   ],
   "source": [
    "# 2. stochastic\n",
    "W = np.random.randn(D, 10) / 28\n",
    "b = np.zeros(10)\n",
    "LL_stochastic = []\n",
    "lr = 0.0001\n",
    "reg = 0.01\n",
    "\n",
    "t0 = datetime.now()\n",
    "for i in range(3): # takes very long since we're computing cost for 41k samples\n",
    "    tmpX, tmpY = shuffle(Xtrain, Ytrain_ind)\n",
    "    for n in range(N): # shortcut so it won't take so long...\n",
    "        x = tmpX[n,:].reshape(1,D)\n",
    "        y = tmpY[n,:].reshape(1,10)\n",
    "        p_y = forward(x, W, b)\n",
    "        \n",
    "        W += lr*(gradW(y, p_y, x) - reg*W)\n",
    "        b += lr*(gradb(y, p_y) - reg*b)\n",
    "\n",
    "        p_y_test = forward(Xtest, W, b)\n",
    "        ll = cost(p_y_test, Ytest_ind)\n",
    "        LL_stochastic.append(ll)\n",
    "\n",
    "        if i%2==0 and n==N:\n",
    "            err = error_rate(p_y_test, Ytest)\n",
    "            print(\"Cost at iteration {}: {:.6f}\".format(i, ll))\n",
    "            print(\"Error rate:\", err)\n",
    "p_y = forward(Xtest, W, b)\n",
    "print(\"Final error rate:\", error_rate(p_y, Ytest))\n",
    "print(\"Elapsted time for SGD:\", datetime.now() - t0)"
   ]
  },
  {
   "cell_type": "code",
   "execution_count": 16,
   "metadata": {
    "collapsed": false
   },
   "outputs": [
    {
     "name": "stdout",
     "output_type": "stream",
     "text": [
      "Cost at iteration 0: 2441.015998\n",
      "Error rate: 0.875\n",
      "Cost at iteration 10: 406.950025\n",
      "Error rate: 0.096\n",
      "Cost at iteration 20: 360.338411\n",
      "Error rate: 0.089\n",
      "Cost at iteration 30: 343.425575\n",
      "Error rate: 0.087\n",
      "Cost at iteration 40: 334.422790\n",
      "Error rate: 0.085\n",
      "Cost at iteration 50: 328.454865\n",
      "Error rate: 0.086\n",
      "Final error rate: 0.084\n",
      "Elapsted time for batch GD: 0:00:18.241690\n"
     ]
    }
   ],
   "source": [
    "# 3. batch\n",
    "W = np.random.randn(D, 10) / 28\n",
    "b = np.zeros(10)\n",
    "LL_batch = []\n",
    "lr = 0.0001\n",
    "reg = 0.01\n",
    "batch_sz = 500\n",
    "n_batches = N // batch_sz\n",
    "\n",
    "t0 = datetime.now()\n",
    "for i in range(60):\n",
    "    tmpX, tmpY = shuffle(Xtrain, Ytrain_ind)\n",
    "    for j in range(n_batches):\n",
    "        x = tmpX[j*batch_sz:(j*batch_sz + batch_sz),:]\n",
    "        y = tmpY[j*batch_sz:(j*batch_sz + batch_sz),:]\n",
    "        p_y = forward(x, W, b)\n",
    "\n",
    "        W += lr*(gradW(y, p_y, x) - reg*W)\n",
    "        b += lr*(gradb(y, p_y) - reg*b)\n",
    "\n",
    "        p_y_test = forward(Xtest, W, b)\n",
    "        ll = cost(p_y_test, Ytest_ind)\n",
    "        LL_batch.append(ll)\n",
    "        if i % 10 == 0 and j==0:\n",
    "            err = error_rate(p_y_test, Ytest)\n",
    "            print(\"Cost at iteration {}: {:.6f}\".format(i, ll))\n",
    "            print(\"Error rate:\", err)\n",
    "p_y = forward(Xtest, W, b)\n",
    "print(\"Final error rate:\", error_rate(p_y, Ytest))\n",
    "print(\"Elapsted time for batch GD:\", datetime.now() - t0)"
   ]
  },
  {
   "cell_type": "code",
   "execution_count": 21,
   "metadata": {
    "collapsed": false
   },
   "outputs": [
    {
     "data": {
      "image/png": "[encoded data removed]",
      "text/plain": [
       "<matplotlib.figure.Figure at 0x7ff1af8de3c8>"
      ]
     },
     "metadata": {},
     "output_type": "display_data"
    }
   ],
   "source": [
    "x1 = np.linspace(0, 1, len(LL))\n",
    "plt.plot(x1, LL, label=\"full\")\n",
    "\n",
    "x2 = np.linspace(0, 1, len(LL_stochastic))\n",
    "plt.plot(x2, LL_stochastic, label=\"stochastic\")\n",
    "\n",
    "x3 = np.linspace(0, 1, len(LL_batch))\n",
    "plt.plot(x3, LL_batch, label=\"batch\")\n",
    "\n",
    "plt.legend()\n",
    "plt.show()"
   ]
  },
  {
   "cell_type": "code",
   "execution_count": null,
   "metadata": {
    "collapsed": true
   },
   "outputs": [],
   "source": []
  }
 ],
 "metadata": {
  "kernelspec": {
   "display_name": "Python 3",
   "language": "python",
   "name": "python3"
  },
  "language_info": {
   "codemirror_mode": {
    "name": "ipython",
    "version": 3
   },
   "file_extension": ".py",
   "mimetype": "text/x-python",
   "name": "python",
   "nbconvert_exporter": "python",
   "pygments_lexer": "ipython3",
   "version": "3.6.1"
  }
 },
 "nbformat": 4,
 "nbformat_minor": 2
}
