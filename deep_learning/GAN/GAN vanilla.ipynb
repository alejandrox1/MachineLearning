{
 "cells": [
  {
   "cell_type": "code",
   "execution_count": 62,
   "metadata": {
    "collapsed": true
   },
   "outputs": [],
   "source": [
    "import tensorflow as tf\n",
    "from tensorflow.examples.tutorials.mnist import input_data\n",
    "import numpy as np\n",
    "import matplotlib.pyplot as plt\n",
    "import matplotlib.gridspec as gridspec\n",
    "import os"
   ]
  },
  {
   "cell_type": "code",
   "execution_count": 63,
   "metadata": {
    "collapsed": true
   },
   "outputs": [],
   "source": [
    "def plot(samples):\n",
    "    fig = plt.figure(figsize=(4, 4))\n",
    "    gs = gridspec.GridSpec(4, 4)\n",
    "    gs.update(wspace=0.05, hspace=0.05)\n",
    "    \n",
    "    for i, sample in enumerate(samples):\n",
    "        ax = plt.subplot(gs[i])\n",
    "        plt.axis('off')\n",
    "        ax.set_xticklabels([])\n",
    "        ax.set_yticklabels([])\n",
    "        ax.set_aspect('equal')\n",
    "        plt.imshow(sample.reshape(28, 28), cmap='Greys_r')\n",
    "    return fig\n",
    "\n",
    "def xavier_init(size):\n",
    "    in_dim = size[0]\n",
    "    xavier_stddev = 1.0 / tf.sqrt(in_dim/2.0)\n",
    "    return tf.random_normal(shape=size, stddev=xavier_stddev)"
   ]
  },
  {
   "cell_type": "code",
   "execution_count": 64,
   "metadata": {
    "collapsed": true
   },
   "outputs": [],
   "source": [
    "X = tf.placeholder(tf.float32, shape=[None, 784])\n",
    "\n",
    "D_W1 = tf.Variable(xavier_init([784, 128]), name='D_W1')\n",
    "D_b1 = tf.Variable(tf.zeros(shape=[128]), name='D_b1')\n",
    "\n",
    "D_W2 = tf.Variable(xavier_init([128, 1]), name='D_W2')\n",
    "D_b2 = tf.Variable(tf.zeros(shape=[1]), name='D_b2')\n",
    "\n",
    "theta_D = [D_W1, D_W2, D_b1, D_b2]"
   ]
  },
  {
   "cell_type": "code",
   "execution_count": 65,
   "metadata": {
    "collapsed": true
   },
   "outputs": [],
   "source": [
    "Z = tf.placeholder(tf.float32, shape=[None, 100])\n",
    "\n",
    "G_W1 = tf.Variable(xavier_init([100, 128]), name='G_W1')\n",
    "G_b1 = tf.Variable(tf.zeros(shape=[128]), name='G_b1')\n",
    "\n",
    "G_W2 = tf.Variable(xavier_init([128, 784]), name='G_W2')\n",
    "G_b2 = tf.Variable(tf.zeros(shape=[784]), name='G_b2')\n",
    "\n",
    "theta_G = [G_W1, G_W2, G_b1, G_b2]"
   ]
  },
  {
   "cell_type": "code",
   "execution_count": 66,
   "metadata": {
    "collapsed": true
   },
   "outputs": [],
   "source": [
    "def sample_Z(m, n):\n",
    "    return np.random.uniform(-1.0, 1.0, size=[m, n])\n",
    "\n",
    "def generator(Z):\n",
    "    G_h1 = tf.nn.relu(tf.matmul(Z, G_W1)+G_b1)\n",
    "    G_log_prob = tf.matmul(G_h1, G_W2)+G_b2\n",
    "    G_prob = tf.sigmoid(G_log_prob)\n",
    "    return G_prob\n",
    "\n",
    "def discriminator(X):\n",
    "    D_h1 = tf.nn.relu(tf.matmul(X, D_W1)+D_b1)\n",
    "    D_logit = tf.matmul(D_h1, D_W2)+D_b2\n",
    "    D_prob = tf.sigmoid(D_logit)\n",
    "    return D_prob, D_logit"
   ]
  },
  {
   "cell_type": "code",
   "execution_count": 67,
   "metadata": {
    "collapsed": true
   },
   "outputs": [],
   "source": [
    "G_sample = generator(Z)\n",
    "D_real, D_logit_real = discriminator(X)\n",
    "D_fake, D_logit_fake = discriminator(G_sample)"
   ]
  },
  {
   "cell_type": "code",
   "execution_count": 68,
   "metadata": {
    "collapsed": false
   },
   "outputs": [],
   "source": [
    "D_loss_real = tf.reduce_mean(\n",
    "    tf.nn.sigmoid_cross_entropy_with_logits(logits=D_logit_real, \n",
    "                                            targets=tf.ones_like(D_logit_real)))\n",
    "D_loss_fake = tf.reduce_mean(\n",
    "    tf.nn.sigmoid_cross_entropy_with_logits(logits=D_logit_fake, \n",
    "                                            targets=tf.zeros_like(D_logit_fake)))\n",
    "D_loss = D_loss_fake + D_logit_real\n",
    "\n",
    "G_loss = tf.reduce_mean(\n",
    "    tf.nn.sigmoid_cross_entropy_with_logits(logits=D_logit_fake, \n",
    "                                            targets=tf.ones_like(D_logit_fake)))\n"
   ]
  },
  {
   "cell_type": "code",
   "execution_count": 69,
   "metadata": {
    "collapsed": true
   },
   "outputs": [],
   "source": [
    "D_solver = tf.train.AdamOptimizer().minimize(D_loss, var_list=theta_D)          \n",
    "G_solver = tf.train.AdamOptimizer().minimize(G_loss, var_list=theta_G)"
   ]
  },
  {
   "cell_type": "code",
   "execution_count": null,
   "metadata": {
    "collapsed": false,
    "scrolled": false
   },
   "outputs": [
    {
     "name": "stdout",
     "output_type": "stream",
     "text": [
      "Extracting MNIST_data/train-images-idx3-ubyte.gz\n",
      "Extracting MNIST_data/train-labels-idx1-ubyte.gz\n",
      "Extracting MNIST_data/t10k-images-idx3-ubyte.gz\n",
      "Extracting MNIST_data/t10k-labels-idx1-ubyte.gz\n",
      "Model restored.\n",
      "Iter:0 G_loss: 56434.12109375\n",
      "Iter:10000 G_loss: 107275.484375\n",
      "Iter:20000 G_loss: 173719.859375\n",
      "Iter:30000 G_loss: 255676.015625\n",
      "Iter:40000 G_loss: 353069.28125\n",
      "Iter:50000 G_loss: 465944.21875\n",
      "Iter:60000 G_loss: 594337.9375\n",
      "Iter:70000 G_loss: 737870.6875\n",
      "Iter:80000 G_loss: 896598.0\n",
      "Iter:90000 G_loss: 1070692.125\n",
      "Iter:100000 G_loss: 1260147.625\n",
      "Iter:110000 G_loss: 1464955.875\n",
      "Iter:120000 G_loss: 1685129.125\n",
      "Iter:130000 G_loss: 1920668.125\n",
      "Iter:140000 G_loss: 2171563.0\n",
      "Iter:150000 G_loss: 2437807.25\n",
      "Iter:160000 G_loss: 2719399.75\n",
      "Iter:170000 G_loss: 3016319.75\n",
      "Iter:180000 G_loss: 3328600.5\n",
      "Iter:190000 G_loss: 3656202.25\n"
     ]
    }
   ],
   "source": [
    "np.set_printoptions(precision=3, suppress=True)\n",
    "mnist = input_data.read_data_sets(\"MNIST_data/\", one_hot=True)\n",
    "\n",
    "mb_size = 128                                                                   \n",
    "Z_dim = 100  \n",
    "                                                                                                    \n",
    "if not os.path.exists('out/'):                                                  \n",
    "    os.makedirs('out/')  \n",
    "\n",
    "# Add an op to initialize the variables.\n",
    "init_op = tf.global_variables_initializer()\n",
    "# Add ops to save and restore all the variables.\n",
    "saver = tf.train.Saver()\n",
    "# Later, launch the model, initialize the variables, do some work, save the\n",
    "# variables to disk.\n",
    "with tf.Session() as sess:\n",
    "    sess.run(init_op)\n",
    "    \n",
    "    # Restore variables from disk.\n",
    "    if os.path.isfile('model.meta'):\n",
    "        # Restore variables from disk.\n",
    "        saver.restore(sess, './model')\n",
    "        print('Model restored.')\n",
    "        \n",
    "    # Do some work with the model.                                               \n",
    "    i = 0                                                                                                                                                        \n",
    "    for it in range(200000):                                                       \n",
    "        if it % 1000 == 0:                                                          \n",
    "            samples = sess.run(G_sample, feed_dict={Z: sample_Z(16, Z_dim)})        \n",
    "\n",
    "            fig = plot(samples)                                                     \n",
    "            plt.savefig('out/{}.png'.format(str(i).zfill(3)), bbox_inches='tight')  \n",
    "            i += 1                                                                  \n",
    "            plt.close(fig)                                                          \n",
    "\n",
    "        X_mb, _ = mnist.train.next_batch(mb_size)                                   \n",
    "\n",
    "        _, D_loss_curr = sess.run([D_solver, D_loss], feed_dict={X: X_mb, Z: sample_Z(mb_size, Z_dim)})\n",
    "        _, G_loss_curr = sess.run([G_solver, G_loss], feed_dict={Z: sample_Z(mb_size, Z_dim)})\n",
    "\n",
    "        if it % 10000 == 0:                                                          \n",
    "            print('Iter:{}'.format(it), end=' ')       \n",
    "            #print('D loss:\\n', D_loss_curr[:4])                             \n",
    "            print('G_loss: {}'.format(G_loss_curr))                              \n",
    "            \n",
    "    # Save the variables to disk.\n",
    "    save_path = saver.save(sess, 'model')\n",
    "    print('Model saved in file: {}'.format(save_path))"
   ]
  },
  {
   "cell_type": "code",
   "execution_count": null,
   "metadata": {
    "collapsed": true
   },
   "outputs": [],
   "source": []
  }
 ],
 "metadata": {
  "kernelspec": {
   "display_name": "Python 3",
   "language": "python",
   "name": "python3"
  },
  "language_info": {
   "codemirror_mode": {
    "name": "ipython",
    "version": 3
   },
   "file_extension": ".py",
   "mimetype": "text/x-python",
   "name": "python",
   "nbconvert_exporter": "python",
   "pygments_lexer": "ipython3",
   "version": "3.6.0"
  }
 },
 "nbformat": 4,
 "nbformat_minor": 2
}
