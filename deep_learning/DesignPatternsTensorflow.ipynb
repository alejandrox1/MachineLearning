{
 "cells": [
  {
   "cell_type": "code",
   "execution_count": 1,
   "metadata": {
    "collapsed": true
   },
   "outputs": [],
   "source": [
    "import numpy as np\n",
    "import matplotlib.pyplot as plt\n",
    "\n",
    "import tensorflow as tf"
   ]
  },
  {
   "cell_type": "code",
   "execution_count": 2,
   "metadata": {
    "collapsed": true
   },
   "outputs": [],
   "source": [
    "Nclass = 500 # 500 samples per class\n",
    "D = 2 # dimensions\n",
    "M = 3 # Number of Hidden layers\n",
    "K = 3 # number of classes\n",
    "\n",
    "# 3 gaussian clouds\n",
    "X1 = np.random.randn(Nclass, 2) + np.array([0, -2])\n",
    "X2 = np.random.randn(Nclass, 2) + np.array([2, 2])\n",
    "X3 = np.random.randn(Nclass, 2) + np.array([-2, 2])\n",
    "X = np.vstack([X1, X2, X3])\n",
    "\n",
    "# create labels\n",
    "Y = np.array([0]*Nclass + [1]*Nclass + [2]*Nclass)\n",
    "N = len(Y)\n",
    "# Indicator matrix\n",
    "T = np.zeros((N,K))\n",
    "for i in range(N):\n",
    "    T[i, Y[i]] = 1"
   ]
  },
  {
   "cell_type": "code",
   "execution_count": 3,
   "metadata": {
    "collapsed": true
   },
   "outputs": [],
   "source": [
    "def init_weights(shape):\n",
    "    return tf.Variable(tf.random_normal(shape, stddev=0.01))\n",
    "\n",
    "def forward(X, W1, b1, W2, b2):\n",
    "    Z = tf.nn.sigmoid( tf.matmul(X,W1)+b1 )\n",
    "    return tf.matmul(Z,W2)+b2"
   ]
  },
  {
   "cell_type": "code",
   "execution_count": 5,
   "metadata": {
    "collapsed": false
   },
   "outputs": [],
   "source": [
    "tfX = tf.placeholder(tf.float32, [None, D])\n",
    "tfY = tf.placeholder(tf.float32, [None, K])\n",
    "\n",
    "# Create symbolic variables\n",
    "W1 = init_weights([D, M])\n",
    "b1 = init_weights([M])\n",
    "W2 = init_weights([M, K])\n",
    "b2 = init_weights([K])\n",
    "\n",
    "logits = forward(tfX, W1, b1, W2, b2)\n",
    "\n",
    "cost = tf.reduce_mean(\n",
    "    tf.nn.softmax_cross_entropy_with_logits(labels=tfY, logits=logits))\n",
    "\n",
    "train_op = tf.train.GradientDescentOptimizer(0.001).minimize(cost)\n",
    "predict_op = tf.argmax(logits, 1)"
   ]
  },
  {
   "cell_type": "code",
   "execution_count": 7,
   "metadata": {
    "collapsed": false
   },
   "outputs": [
    {
     "name": "stdout",
     "output_type": "stream",
     "text": [
      "Accuracy: 0.333333333333\n",
      "Accuracy: 0.333333333333\n",
      "Accuracy: 0.56\n",
      "Accuracy: 0.644666666667\n",
      "Accuracy: 0.662666666667\n",
      "Accuracy: 0.772\n",
      "Accuracy: 0.879333333333\n",
      "Accuracy: 0.940666666667\n",
      "Accuracy: 0.962\n",
      "Accuracy: 0.966666666667\n",
      "Accuracy: 0.966666666667\n",
      "Accuracy: 0.966\n",
      "Accuracy: 0.966\n",
      "Accuracy: 0.964666666667\n",
      "Accuracy: 0.964666666667\n",
      "Accuracy: 0.965333333333\n",
      "Accuracy: 0.965333333333\n",
      "Accuracy: 0.966666666667\n",
      "Accuracy: 0.966666666667\n",
      "Accuracy: 0.966\n"
     ]
    },
    {
     "data": {
      "image/png": "[encoded data removed]",
      "text/plain": [
       "<matplotlib.figure.Figure at 0x7f9bf4034438>"
      ]
     },
     "metadata": {},
     "output_type": "display_data"
    }
   ],
   "source": [
    "costs = []\n",
    "\n",
    "init = tf.global_variables_initializer()\n",
    "with tf.Session() as session:\n",
    "    session.run(init)\n",
    "    \n",
    "    for i in range(100000):\n",
    "        session.run(train_op, feed_dict={tfX: X, tfY: T})\n",
    "        \n",
    "        c = session.run(cost, feed_dict={tfX: X, tfY: T})\n",
    "        pred = session.run(predict_op, feed_dict={tfX: X, tfY:T})\n",
    "            \n",
    "        costs.append(c)\n",
    "        if i%5000==0:\n",
    "            print(\"Accuracy:\", np.mean(Y == pred))\n",
    "    \n",
    "    plt.plot(costs)\n",
    "    plt.show();"
   ]
  },
  {
   "cell_type": "code",
   "execution_count": 9,
   "metadata": {
    "collapsed": false
   },
   "outputs": [
    {
     "name": "stdout",
     "output_type": "stream",
     "text": [
      "Accuracy: 0.333333333333\n",
      "Accuracy: 0.986\n",
      "Accuracy: 0.986666666667\n",
      "Accuracy: 0.990666666667\n",
      "Accuracy: 0.991333333333\n",
      "Accuracy: 0.988\n",
      "Accuracy: 0.988666666667\n",
      "Accuracy: 0.992666666667\n",
      "Accuracy: 0.990666666667\n",
      "Accuracy: 0.992666666667\n",
      "Accuracy: 0.993333333333\n",
      "Accuracy: 0.988\n",
      "Accuracy: 0.994\n",
      "Accuracy: 0.995333333333\n",
      "Accuracy: 0.995333333333\n",
      "Accuracy: 0.994666666667\n",
      "Accuracy: 0.996666666667\n",
      "Accuracy: 0.995333333333\n",
      "Accuracy: 0.996\n",
      "Accuracy: 0.996\n"
     ]
    },
    {
     "data": {
      "image/png": "[encoded data removed]",
      "text/plain": [
       "<matplotlib.figure.Figure at 0x7f9bedd24710>"
      ]
     },
     "metadata": {},
     "output_type": "display_data"
    }
   ],
   "source": [
    "M1 = 30 # Number of Hidden layers\n",
    "M2 = 10\n",
    "\n",
    "def forward(X, W1, b1, W2, b2, W3, b3):\n",
    "    Z1 = tf.nn.relu( tf.matmul(X, W1) + b1 )                                    \n",
    "    Z2 = tf.nn.relu( tf.matmul(Z1, W2) + b2 )                                   \n",
    "    return tf.matmul(Z2, W3) + b3 \n",
    "\n",
    "\n",
    "tfX = tf.placeholder(tf.float32, [None, D])\n",
    "tfY = tf.placeholder(tf.float32, [None, K])\n",
    "\n",
    "# Create symbolic variables\n",
    "W1 = init_weights([D, M1])\n",
    "b1 = init_weights([M1])\n",
    "W2 = init_weights([M1, M2])\n",
    "b2 = init_weights([M2])\n",
    "W3 = init_weights([M2, K])\n",
    "b3 = init_weights([K])\n",
    "\n",
    "logits = forward(tfX, W1, b1, W2, b2, W3, b3)\n",
    "\n",
    "cost = tf.reduce_mean(tf.nn.softmax_cross_entropy_with_logits(labels=tfY, logits=logits))\n",
    "\n",
    "#train_op = tf.train.GradientDescentOptimizer(0.001).minimize(cost)\n",
    "train_op = tf.train.RMSPropOptimizer(0.001, decay=0.99, momentum=0.9).minimize(cost)\n",
    "\n",
    "predict_op = tf.argmax(logits, 1)\n",
    "\n",
    "costs = []\n",
    "\n",
    "init = tf.global_variables_initializer()\n",
    "with tf.Session() as session:\n",
    "    session.run(init)\n",
    "    \n",
    "    for i in range(100000):\n",
    "        session.run(train_op, feed_dict={tfX: X, tfY: T})\n",
    "        \n",
    "        c = session.run(cost, feed_dict={tfX: X, tfY: T})\n",
    "        pred = session.run(predict_op, feed_dict={tfX: X, tfY:T})\n",
    "            \n",
    "        costs.append(c)\n",
    "        if i%5000==0:\n",
    "            print(\"Accuracy:\", np.mean(Y == pred))\n",
    "    \n",
    "    plt.plot(costs)\n",
    "    plt.show();"
   ]
  },
  {
   "cell_type": "code",
   "execution_count": 13,
   "metadata": {
    "collapsed": false
   },
   "outputs": [
    {
     "data": {
      "text/plain": [
       "array([ 0.99120504,  0.99127829,  0.99119323,  0.99124438,  0.99122041,\n",
       "        0.991247  ,  0.99117744,  0.99123228,  0.99119443,  0.99125248,\n",
       "        0.99117386,  0.99121356,  0.9911508 ,  0.99123704,  0.99113625,\n",
       "        0.99118149,  0.99110299,  0.99118966,  0.99116445,  0.99119866,\n",
       "        0.99116361,  0.99124634,  0.99108773,  0.99110287,  0.99083573,\n",
       "        0.99097854,  0.99066353,  0.99046248,  0.98919147,  0.98923951], dtype=float32)"
      ]
     },
     "execution_count": 13,
     "metadata": {},
     "output_type": "execute_result"
    }
   ],
   "source": [
    "acc = 1 - np.array(costs[-30:])\n",
    "acc"
   ]
  },
  {
   "cell_type": "code",
   "execution_count": null,
   "metadata": {
    "collapsed": true
   },
   "outputs": [],
   "source": []
  }
 ],
 "metadata": {
  "kernelspec": {
   "display_name": "Python 3",
   "language": "python",
   "name": "python3"
  },
  "language_info": {
   "codemirror_mode": {
    "name": "ipython",
    "version": 3
   },
   "file_extension": ".py",
   "mimetype": "text/x-python",
   "name": "python",
   "nbconvert_exporter": "python",
   "pygments_lexer": "ipython3",
   "version": "3.6.0"
  }
 },
 "nbformat": 4,
 "nbformat_minor": 2
}
