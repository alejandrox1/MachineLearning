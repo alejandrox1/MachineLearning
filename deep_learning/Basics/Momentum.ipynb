{
 "cells": [
  {
   "cell_type": "markdown",
   "metadata": {},
   "source": [
    "* Let the velocity be the previous weight change\n",
    "\n",
    "$$v(t-1) = \\Delta w(t-1)$$\n",
    "or\n",
    "$$v(t) = \\mu v(t-1) - \\eta \\nabla J(t)$$\n",
    "\n",
    "* Update weights\n",
    "\n",
    "$$\\Delta w(t) = \\mu v(t-1) - \\eta \\nabla J(t)$$\n",
    "or\n",
    "$$\\Delta w(t) = -\\mu v(t-1) + (1+\\mu)v(t) $$\n",
    "\n",
    "```\n",
    "v = dw\n",
    "dw = momentum * v - learning_rate * gradient_cost\n",
    "w += dw\n",
    "```\n",
    "\n",
    "For Nesterov momentum\n",
    "```\n",
    "w_ahead = w + momentum * v\n",
    "dw = momentum * v - learning_rate * cost_gradient(w_ahead)\n",
    "w += dw\n",
    "```"
   ]
  },
  {
   "cell_type": "markdown",
   "metadata": {},
   "source": [
    "# Classical Momentum\n",
    "\n",
    "* https://en.wikipedia.org/wiki/Stochastic_gradient_descent#Momentum\n",
    "\n",
    "Classical moentum is a technique for accelerating gradient descent that accumulates a velocity vector in the directions of persistent reduction in the objective across iterations.\n",
    "Given an objective function $f(\\theta )$, classical momentum is given by:\n",
    "$$ v_{t+1} = \\mu v_t - \\epsilon \\nabla f(\\theta_t )$$\n",
    "$$ \\theta_{t+1} = \\theta_t + v_{t+1}$$\n",
    "\n",
    "where $\\epsilon > 0$ is the learning rate, $\\mu \\in [0,1]$ is the momentum coeficient, and $\\nabla f(\\theta_t )$ is the gradient at $\\theta_t$. \n",
    "\n",
    "Based on the Heavy ball method (Polyak 1964). The iterations of gradient descent tend to bounce between the walls of narrow valleys - objective surface. \n",
    "To avoid bouncing from wall to wall we add a momentum term to the gradient step. This term nudges the next iteration ($W$) in the direction of the previous steps.\n",
    "\n",
    "$$ x^{n+1} = x^n - \\alpha P(x^n) + \\beta (x^n - x^{n-1})$$\n",
    "\n",
    "modify the velocity of the point in weight space.\n",
    "\n",
    "# Nesterov Momentum\n",
    "\n",
    "* [Nesterov's Accelerated Gradient Descent](https://blogs.princeton.edu/imabandit/2013/04/01/acceleratedgradientdescent/)\n",
    "* [Revisiting Nesterov's Acceleration](https://blogs.princeton.edu/imabandit/2015/06/30/revisiting-nesterovs-acceleration/)\n",
    "\n",
    "$$ v_{t+1} = \\mu v_t - \\epsilon \\nabla f(\\theta_t + \\mu v_t ) $$\n",
    "$$ \\theta_{t+1} = \\theta_t + v_{t+1} $$"
   ]
  },
  {
   "cell_type": "code",
   "execution_count": 13,
   "metadata": {
    "collapsed": true
   },
   "outputs": [],
   "source": [
    "import numpy as np\n",
    "import pandas as pd\n",
    "import matplotlib.pyplot as plt\n",
    "from sklearn.preprocessing import LabelBinarizer\n",
    "from sklearn.utils import shuffle"
   ]
  },
  {
   "cell_type": "code",
   "execution_count": 14,
   "metadata": {
    "collapsed": false
   },
   "outputs": [],
   "source": [
    "def y2indicator(Y, K=10):\n",
    "    # K=10 for MNIST\n",
    "    # Python\n",
    "    N = len(Y)\n",
    "    Y = Y.astype(np.int32)\n",
    "    ind = np.zeros((N, K))\n",
    "    for i in range(N):\n",
    "        ind[i, Y[i]] = 1\n",
    "    return ind\n",
    "\n",
    "def py_y2indicator(Y, K=10):\n",
    "    N = len(Y)\n",
    "    Y = Y.astype(np.int32)\n",
    "    ind = np.zeros((N, K))\n",
    "    ind[np.arange(N), Y] = 1\n",
    "    return ind\n",
    "    \n",
    "def sk_y2indicator(Y, K=10):\n",
    "    lb = LabelBinarizer()\n",
    "    lb.fit(range(Y.max()+1))\n",
    "    return lb.transform(Y)\n",
    "    \n",
    "def get_normalized_data():\n",
    "    df = pd.read_csv('../datasets/mnist/train.csv')\n",
    "    data = df.as_matrix().astype(np.float32)\n",
    "    np.random.shuffle(data)\n",
    "    Y = data[:,0]\n",
    "    X = data[:,1:]\n",
    "    mu = X.mean(axis=0)\n",
    "    std = X.std(axis=0)\n",
    "    np.place(std, std==0, 1)\n",
    "    X = (X-mu)/std\n",
    "    return X, Y\n",
    "\n",
    "def error(p_y, T):\n",
    "    predictions = np.argmax(p_y, axis=1)\n",
    "    return np.mean(predictions != T)\n",
    "\n",
    "def cost(p_y, T):\n",
    "    total = T * np.log(p_y)\n",
    "    return -total.sum()"
   ]
  },
  {
   "cell_type": "code",
   "execution_count": 15,
   "metadata": {
    "collapsed": false
   },
   "outputs": [],
   "source": [
    "def xavier_init(size):\n",
    "    in_dim = size[0]\n",
    "    xavier_stddev = np.sqrt(in_dim/2.0)\n",
    "    return np.random.randn(size[0],size[1]) / xavier_stddev\n",
    "\n",
    "def derivative_W2(Z, T, Y):\n",
    "    return Z.T.dot(Y-T)\n",
    "                   \n",
    "def derivative_b2(T, Y):\n",
    "    return (Y-T).sum(axis=0)\n",
    "\n",
    "def derivative_W1(X, Z, T, Y, W2):\n",
    "    #return X.T.dot( ((Y-T).dot(W2.T) * Z * (1-Z)) )  # for sigmoid\n",
    "    return X.T.dot( ((Y-T).dot(W2.T) * (Z>0)) ) # for relu\n",
    "\n",
    "def derivative_b1(Z, T, Y, W2):\n",
    "    #return ( (Y-T).dot(W2.T) * (Z*(1-Z)) ).sum(axis=0) # for sigmoid      \n",
    "    return ( (Y-Y).dot(W2.T) * (Z>0) ).sum(axis=0) # for relu\n",
    "\n",
    "def relu(a):   \n",
    "    a[a<0] = 0\n",
    "    return a\n",
    "\n",
    "def sigmoid(a):\n",
    "    return 1.0 / (1.0 + np.exp(-a))\n",
    "    \n",
    "def softmax(a):                                                                 \n",
    "    expA = np.exp(a)\n",
    "    return expA / expA.sum(axis=1, keepdims=True)\n",
    "\n",
    "def forward(X, W1, b1, W2, b2):\n",
    "    # Z = 1 / (1 + np.exp(-(X.dot(W1)+b1)))\n",
    "    Z = relu( X.dot(W1)+b1 )\n",
    "    Y = softmax( Z.dot(W2)+b2 )\n",
    "    return Y, Z"
   ]
  },
  {
   "cell_type": "code",
   "execution_count": 16,
   "metadata": {
    "collapsed": false
   },
   "outputs": [],
   "source": [
    "# Input\n",
    "X, Y = get_normalized_data()\n",
    "Xtrain = X[:-1000,]                                                         \n",
    "Ytrain = Y[:-1000]                                                          \n",
    "Xtest  = X[-1000:,]                                                         \n",
    "Ytest  = Y[-1000:]                                                          \n",
    "Ytrain_ind = y2indicator(Ytrain)                                            \n",
    "Ytest_ind = y2indicator(Ytest)\n",
    "\n",
    "# Parameters\n",
    "lr = 1.0e-5\n",
    "reg = 1.0e-2\n",
    "N, D = Xtrain.shape\n",
    "\n",
    "M = 300\n",
    "K=10"
   ]
  },
  {
   "cell_type": "code",
   "execution_count": 17,
   "metadata": {
    "collapsed": true
   },
   "outputs": [],
   "source": [
    "max_iter = 100\n",
    "print_period = 10\n",
    "batch_size = 500\n",
    "n_batches = N//batch_size"
   ]
  },
  {
   "cell_type": "markdown",
   "metadata": {},
   "source": [
    "# Batch"
   ]
  },
  {
   "cell_type": "code",
   "execution_count": 18,
   "metadata": {
    "collapsed": false,
    "scrolled": false
   },
   "outputs": [
    {
     "name": "stdout",
     "output_type": "stream",
     "text": [
      "Cost: 1228.0390494036546\n",
      "Error:0.368\n",
      "Cost: 399.59675066997426\n",
      "Error:0.116\n",
      "Cost: 316.4176767076559\n",
      "Error:0.094\n",
      "Cost: 277.90041155790874\n",
      "Error:0.083\n",
      "Cost: 252.9905093728027\n",
      "Error:0.077\n",
      "Cost: 235.09130905805173\n",
      "Error:0.07\n",
      "Cost: 221.29664099202722\n",
      "Error:0.063\n",
      "Cost: 210.23843997930842\n",
      "Error:0.058\n",
      "Cost: 200.923602949563\n",
      "Error:0.058\n",
      "Cost: 192.86928974887724\n",
      "Error:0.058\n",
      "Final error: 0.056\n"
     ]
    }
   ],
   "source": [
    "W1 = xavier_init([D, M])\n",
    "b1 = np.zeros(M)\n",
    "W2 = xavier_init([M, K])\n",
    "b2 = np.zeros(K)\n",
    "\n",
    "LL_batch = []\n",
    "ER_batch = []\n",
    "for i in range(max_iter):\n",
    "    for j in range(n_batches):\n",
    "        batch_range = (j*batch_size, j*batch_size + batch_size)\n",
    "        \n",
    "        Xbatch = Xtrain[batch_range[0]:batch_range[1], ]                \n",
    "        Ybatch = Ytrain_ind[batch_range[0]:batch_range[1], ]            \n",
    "        pYbatch, Z = forward(Xbatch, W1, b1, W2, b2)                                         \n",
    "                                                                                \n",
    "        # updates                                                           \n",
    "        W2 -= lr*(derivative_W2(Z, Ybatch, pYbatch) + reg*W2)               \n",
    "        b2 -= lr*(derivative_b2(Ybatch, pYbatch)    + reg*b2)                  \n",
    "        W1 -= lr*(derivative_W1(Xbatch, Z, Ybatch, pYbatch, W2) + reg*W1)   \n",
    "        b1 -= lr*(derivative_b1(Z, Ybatch, pYbatch, W2)         + reg*b1)           \n",
    "                                                                                \n",
    "    if i % print_period==0:                                           \n",
    "        # calculate just for LL                                         \n",
    "        pY, _ = forward(Xtest, W1, b1, W2, b2)                \n",
    "        LL_batch.append( cost(pY, Ytest_ind) )                                 \n",
    "        ER_batch.append( error(pY, Ytest) )\n",
    "        print(\"Cost: {}\".format(LL_batch[-1]))                                \n",
    "        print(\"Error:{}\".format(ER_batch[-1]))                                        \n",
    "                                                                                \n",
    "pY, _ = forward(Xtest, W1, b1, W2, b2)                                      \n",
    "print(\"Final error: {}\".format(error(pY, Ytest)))       "
   ]
  },
  {
   "cell_type": "markdown",
   "metadata": {},
   "source": [
    "# Batch with momentum  "
   ]
  },
  {
   "cell_type": "code",
   "execution_count": 19,
   "metadata": {
    "collapsed": false
   },
   "outputs": [
    {
     "name": "stdout",
     "output_type": "stream",
     "text": [
      "Cost: 421.7639542504308\n",
      "Error rate: 0.123\n",
      "Cost: 177.40917302427528\n",
      "Error rate: 0.055\n",
      "Cost: 139.80480845623214\n",
      "Error rate: 0.039\n",
      "Cost: 122.17314637185196\n",
      "Error rate: 0.032\n",
      "Cost: 112.37396819291772\n",
      "Error rate: 0.03\n",
      "Cost: 106.11588400452838\n",
      "Error rate: 0.028\n",
      "Cost: 101.70248513248745\n",
      "Error rate: 0.027\n",
      "Cost: 98.5325190817444\n",
      "Error rate: 0.025\n",
      "Cost: 96.31443683853391\n",
      "Error rate: 0.024\n",
      "Cost: 94.70365294367467\n",
      "Error rate: 0.024\n",
      "Final error rate: 0.023\n"
     ]
    }
   ],
   "source": [
    "W1 = xavier_init([D, M])\n",
    "b1 = np.zeros(M)\n",
    "W2 = xavier_init([M, K])\n",
    "b2 = np.zeros(K)                                              \n",
    "\n",
    "LL_momentum = []                                                            \n",
    "CR_momentum = []                                                            \n",
    "mu = 0.9                                                                    \n",
    "dW2 = 0                                                                     \n",
    "db2 = 0                                                                     \n",
    "dW1 = 0                                                                     \n",
    "db1 = 0                                                                     \n",
    "for i in range(max_iter):                                                  \n",
    "    for j in range(n_batches):                                             \n",
    "        batch_range = (j*batch_size, j*batch_size + batch_size)\n",
    "        \n",
    "        Xbatch = Xtrain[batch_range[0]:batch_range[1], ]                \n",
    "        Ybatch = Ytrain_ind[batch_range[0]:batch_range[1], ]            \n",
    "        pYbatch, Z = forward(Xbatch, W1, b1, W2, b2)                        \n",
    "                                                                                \n",
    "        # updates                                                           \n",
    "        dW2 = mu*dW2 - lr*(derivative_W2(Z, Ybatch, pYbatch) + reg*W2)      \n",
    "        W2 += dW2                                                           \n",
    "        db2 = mu*db2 - lr*(derivative_b2(Ybatch, pYbatch) + reg*b2)         \n",
    "        b2 += db2                                                           \n",
    "        dW1 = mu*dW1 - lr*(derivative_W1(Xbatch, Z, Ybatch, pYbatch, W2) + reg*W1)\n",
    "        W1 += dW1                                                           \n",
    "        db1 = mu*db1 - lr*(derivative_b1(Z, Ybatch, pYbatch, W2) + reg*b1)  \n",
    "        b1 += db1                                                           \n",
    "                                                                                \n",
    "    if i % print_period == 0:                                           \n",
    "        pY, _ = forward(Xtest, W1, b1, W2, b2)           \n",
    "        ll = cost(pY, Ytest_ind)\n",
    "        LL_momentum.append(ll)\n",
    "        err = error(pY, Ytest)\n",
    "        CR_momentum.append(err)\n",
    "        print(\"Cost: {}\".format(ll))\n",
    "        print(\"Error rate: {}\".format(err))\n",
    "pY, _ = forward(Xtest, W1, b1, W2, b2)\n",
    "print(\"Final error rate: {}\".format(error(pY, Ytest)))"
   ]
  },
  {
   "cell_type": "markdown",
   "metadata": {},
   "source": [
    "# Batch with Nesterov momentum "
   ]
  },
  {
   "cell_type": "code",
   "execution_count": 20,
   "metadata": {
    "collapsed": false
   },
   "outputs": [
    {
     "name": "stdout",
     "output_type": "stream",
     "text": [
      "Cost: 93.60682759578333\n",
      "Error rate: 0.024\n",
      "Cost: 92.87573365914639\n",
      "Error rate: 0.022\n",
      "Cost: 92.45457237983254\n",
      "Error rate: 0.022\n",
      "Cost: 92.25178530041181\n",
      "Error rate: 0.022\n",
      "Cost: 92.1808365815572\n",
      "Error rate: 0.022\n",
      "Cost: 92.19702635954651\n",
      "Error rate: 0.022\n",
      "Cost: 92.33979991889042\n",
      "Error rate: 0.022\n",
      "Cost: 92.5093714968576\n",
      "Error rate: 0.022\n",
      "Cost: 92.72574718375051\n",
      "Error rate: 0.022\n",
      "Cost: 92.97895888313325\n",
      "Error rate: 0.022\n",
      "Final error: 0.022\n"
     ]
    }
   ],
   "source": [
    "LL_nest = []                                                                \n",
    "CR_nest = []                                                                \n",
    "mu = 0.9                                                                    \n",
    "# alternate version uses dW                                                 \n",
    "# dW2 = 0                                                                   \n",
    "# db2 = 0                                                                   \n",
    "# dW1 = 0                                                                   \n",
    "# db1 = 0                                                                   \n",
    "vW2 = 0                                                                     \n",
    "vb2 = 0                                                                     \n",
    "vW1 = 0                                                                     \n",
    "vb1 = 0                                                                     \n",
    "for i in range(max_iter):                                                  \n",
    "    for j in range(n_batches):                                             \n",
    "        # because we want g(t) = grad(f(W(t-1) - lr*mu*dW(t-1)))            \n",
    "        # dW(t) = mu*dW(t-1) + g(t)                                         \n",
    "        # W(t) = W(t-1) - mu*dW(t)                                          \n",
    "        W1_tmp = W1 - lr*mu*vW1                                             \n",
    "        b1_tmp = b1 - lr*mu*vb1                                             \n",
    "        W2_tmp = W2 - lr*mu*vW2                                             \n",
    "        b2_tmp = b2 - lr*mu*vb2                                             \n",
    "           \n",
    "        batch_range = (j*batch_size, j*batch_size + batch_size)\n",
    "        \n",
    "        Xbatch = Xtrain[batch_range[0]:batch_range[1], ]                \n",
    "        Ybatch = Ytrain_ind[batch_range[0]:batch_range[1], ]            \n",
    "        pYbatch, Z = forward(Xbatch, W1, b1, W2, b2) \n",
    "        \n",
    "        # pYbatch, Z = forward(Xbatch, W1, b1, W2, b2)                      \n",
    "        pYbatch, Z = forward(Xbatch, W1_tmp, b1_tmp, W2_tmp, b2_tmp)        \n",
    "                                                                                \n",
    "        # updates                                                           \n",
    "        # dW2 = mu*mu*dW2 - (1 + mu)*lr*(derivative_w2(Z, Ybatch, pYbatch) + reg*W2)\n",
    "        # W2 += dW2                                                         \n",
    "        # db2 = mu*mu*db2 - (1 + mu)*lr*(derivative_b2(Ybatch, pYbatch) + reg*b2)\n",
    "        # b2 += db2                                                         \n",
    "        # dW1 = mu*mu*dW1 - (1 + mu)*lr*(derivative_w1(Xbatch, Z, Ybatch, pYbatch, W2) + reg*W1)\n",
    "        # W1 += dW1                                                         \n",
    "        # db1 = mu*mu*db1 - (1 + mu)*lr*(derivative_b1(Z, Ybatch, pYbatch, W2) + reg*b1)\n",
    "        # b1 += db1                                                         \n",
    "        vW2 = mu*vW2 + derivative_W2(Z, Ybatch, pYbatch) + reg*W2_tmp       \n",
    "        W2 -= lr*vW2                                                        \n",
    "        vb2 = mu*vb2 + derivative_b2(Ybatch, pYbatch) + reg*b2_tmp          \n",
    "        b2 -= lr*vb2                                                        \n",
    "        vW1 = mu*vW1 + derivative_W1(Xbatch, Z, Ybatch, pYbatch, W2_tmp) + reg*W1_tmp\n",
    "        W1 -= lr*vW1                                                        \n",
    "        vb1 = mu*vb1 + derivative_b1(Z, Ybatch, pYbatch, W2_tmp) + reg*b1_tmp\n",
    "        b1 -= lr*vb1\n",
    "        \n",
    "    if i % print_period == 0:                                           \n",
    "        # calculate just for LL                                         \n",
    "        pY, _ = forward(Xtest, W1, b1, W2, b2)                          \n",
    "        # print \"pY:\", pY                                               \n",
    "        ll = cost(pY, Ytest_ind)                                        \n",
    "        LL_nest.append(ll)                                              \n",
    "        print(\"Cost: {}\".format(ll))                                                                               \n",
    "        err = error(pY, Ytest)                                     \n",
    "        CR_nest.append(err)                                             \n",
    "        print(\"Error rate: {}\".format(err))                                        \n",
    "pY, _ = forward(Xtest, W1, b1, W2, b2)                                      \n",
    "print(\"Final error: {}\".format(error(pY, Ytest)))"
   ]
  },
  {
   "cell_type": "markdown",
   "metadata": {},
   "source": [
    "# Results"
   ]
  },
  {
   "cell_type": "code",
   "execution_count": 21,
   "metadata": {
    "collapsed": false
   },
   "outputs": [
    {
     "data": {
      "image/png": "[encoded data removed]",
      "text/plain": [
       "<matplotlib.figure.Figure at 0x7f356883bdd8>"
      ]
     },
     "metadata": {},
     "output_type": "display_data"
    }
   ],
   "source": [
    "plt.plot(LL_batch, label=\"batch\")                                           \n",
    "plt.plot(LL_momentum, label=\"momentum\")                                     \n",
    "plt.plot(LL_nest, label=\"nesterov\")                                         \n",
    "plt.legend()                                                                \n",
    "plt.show()"
   ]
  },
  {
   "cell_type": "code",
   "execution_count": null,
   "metadata": {
    "collapsed": true
   },
   "outputs": [],
   "source": []
  }
 ],
 "metadata": {
  "kernelspec": {
   "display_name": "Python 3",
   "language": "python",
   "name": "python3"
  },
  "language_info": {
   "codemirror_mode": {
    "name": "ipython",
    "version": 3
   },
   "file_extension": ".py",
   "mimetype": "text/x-python",
   "name": "python",
   "nbconvert_exporter": "python",
   "pygments_lexer": "ipython3",
   "version": "3.6.1"
  }
 },
 "nbformat": 4,
 "nbformat_minor": 2
}
