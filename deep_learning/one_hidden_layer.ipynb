{
 "cells": [
  {
   "cell_type": "code",
   "execution_count": 52,
   "metadata": {
    "collapsed": false
   },
   "outputs": [],
   "source": [
    "import numpy as np\n",
    "import pandas as pd\n",
    "import matplotlib.pyplot as plt"
   ]
  },
  {
   "cell_type": "markdown",
   "metadata": {},
   "source": [
    "X the features can be considered as input from other neurons.\n",
    "\n",
    "A given neuron will then output a signal which is a combination of the inputs, weighted by the strenght of \n",
    "those input neurons to this output neuron.\n",
    "\n",
    "$$ y = sigmoid (w_1 * x_1 + w_2 *x_2 + ... + w_n * x_n) $$\n",
    "\n",
    "We ignore the bias term since it can readily be incoporated by adding an extra dimension, $x_0$, which is always 1.\n",
    "\n",
    "You can interpret the output as a probability, $P(y=1 | x, \\theta) $, which will be used interchangibly with $y$.\n",
    "\n",
    "\n",
    "A very positive weight would be a excitatory connection, a very negative weight an inhibitory conection."
   ]
  },
  {
   "cell_type": "markdown",
   "metadata": {},
   "source": [
    "# Feedforward Action\n",
    "\n",
    "Suppose we have a 1-hidden layer neural net:\n",
    "$x$ is the input, $z$ is the hidden layer, and $y$ is the output layer.\n",
    "\n",
    "$$z_1 = s(w_{11}*x_1 + w_{12}*x_2 )$$\n",
    "$$z_2 = s(w_{21}*x_1 + w_{22}*x_2 )$$\n",
    "\n",
    "Where $s$ is any non-linear function.\n",
    "The three most common choices are:\n",
    "* Sigmoid\n",
    "* Hyperbolic tangent - Scaled version of the sigmoid function as it is centered around 0.\n",
    "* Rectifier linear unit (ReLU)\n",
    " * ```\n",
    "    if x < 0:\n",
    "        return 0\n",
    "    else:\n",
    "        return x\n",
    "    ```"
   ]
  },
  {
   "cell_type": "markdown",
   "metadata": {},
   "source": [
    "$y$ can be computed as\n",
    "\n",
    "$$y = s\\prime (v_1 *z_1 + v_2 *z_2)$$\n",
    "\n",
    "Where $s\\prime$ is either a `sigmoid` or a `softmax`.\n",
    "\n",
    "Note that inside the `sigmoid` functions we simply have the dot product between the input and the weights. "
   ]
  },
  {
   "cell_type": "markdown",
   "metadata": {},
   "source": [
    "# Dataset"
   ]
  },
  {
   "cell_type": "code",
   "execution_count": 53,
   "metadata": {
    "collapsed": true
   },
   "outputs": [],
   "source": [
    "def y2indicator(y, K):\n",
    "    '''Transfor Y into an indicator matrix\n",
    "    The indicator matrix will be an NxK matrix.\n",
    "    \n",
    "    N : number of samples\n",
    "    K : number of classes in the output\n",
    "    '''\n",
    "    N = len(y)\n",
    "    ind = np.zeros((N, K))\n",
    "    for i in range(N):\n",
    "        ind[i, y[i]] = 1\n",
    "    return ind"
   ]
  },
  {
   "cell_type": "code",
   "execution_count": 71,
   "metadata": {
    "collapsed": false,
    "scrolled": false
   },
   "outputs": [],
   "source": [
    "X = pd.read_csv('data/train.csv')\n",
    "Y = X['label'].values\n",
    "T = X['label'].values\n",
    "X = X.drop('label', axis=1)\n",
    "X = X.values\n",
    "\n",
    "# Number of Features (dimensionality of each input)\n",
    "D = X.shape[1]\n",
    "# Number of classes\n",
    "K = len(np.unique(T))\n",
    "# Number of hiden units\n",
    "M = 300\n",
    "\n",
    "T = y2indicator(Y, K)"
   ]
  },
  {
   "cell_type": "markdown",
   "metadata": {},
   "source": [
    "# Activation Functions and Feedforward"
   ]
  },
  {
   "cell_type": "code",
   "execution_count": 72,
   "metadata": {
    "collapsed": true
   },
   "outputs": [],
   "source": [
    "def classification_rate(Y, P):\n",
    "    n_correct = 0\n",
    "    n_total = 0\n",
    "    for i in range(len(Y)):\n",
    "        n_total += 1\n",
    "        if Y[i]==P[i]:\n",
    "            n_correct += 1\n",
    "    return float(n_correct)/n_total\n",
    "\n",
    "def relu(x):\n",
    "    '''Rectified Linear Unit'''\n",
    "    return x * (x>0)\n",
    "\n",
    "def sigmoid(x):\n",
    "    return 1.0/(1 + np.exp(-x))\n",
    "\n",
    "def softmax(X):\n",
    "    ''' exp(x[k]) / [exp(x[1]) +...+ exp(x[K])]'''\n",
    "    expX = np.exp(X)\n",
    "    return expX / np.sum(expX, axis=1,keepdims=True)\n",
    "\n",
    "def forward(X, W1, W2, b1, b2):\n",
    "    ''' O--W--O--V--O\n",
    "        X    Z      Y\n",
    "    '''\n",
    "    #Z = relu(X.dot(W1) + b1)\n",
    "    Z = sigmoid(X.dot(W1) + b1)\n",
    "    Y = softmax(Z.dot(W2) + b2)\n",
    "    return Y"
   ]
  },
  {
   "cell_type": "markdown",
   "metadata": {},
   "source": [
    "# Parameters"
   ]
  },
  {
   "cell_type": "code",
   "execution_count": 73,
   "metadata": {
    "collapsed": false
   },
   "outputs": [],
   "source": [
    "np.random.seed(1)\n",
    "\n",
    "# Weights\n",
    "W1 = np.random.randn(D,M)\n",
    "# bias for first layer\n",
    "b1 = np.random.randn(M)\n",
    "W2 = np.random.randn(M, K)\n",
    "# bias for second layer\n",
    "b2 = np.random.randn(K)"
   ]
  },
  {
   "cell_type": "markdown",
   "metadata": {},
   "source": [
    "# Learning"
   ]
  },
  {
   "cell_type": "code",
   "execution_count": 74,
   "metadata": {
    "collapsed": false,
    "scrolled": true
   },
   "outputs": [
    {
     "name": "stdout",
     "output_type": "stream",
     "text": [
      "Classification rate for randomly chosen weights: 0.10757142857142857\n"
     ]
    },
    {
     "name": "stderr",
     "output_type": "stream",
     "text": [
      "/home/alarcj/anaconda3/lib/python3.6/site-packages/ipykernel/__main__.py:15: RuntimeWarning: overflow encountered in exp\n"
     ]
    }
   ],
   "source": [
    "# Fit\n",
    "P_Y_given_X = forward(X, W1, W2, b1, b2)\n",
    "\n",
    "# Predict\n",
    "P = np.argmax(P_Y_given_X, axis=1)\n",
    "assert(len(Y) == len(T))\n",
    "print(\"Classification rate for randomly chosen weights:\", classification_rate(Y, P))"
   ]
  },
  {
   "cell_type": "markdown",
   "metadata": {},
   "source": [
    "## Objective function\n",
    "\n",
    "Optimize it via Gradient Descent.\n",
    "We travel along the graident of our cost function with respect to $W$ and $V$ until we hit a minimum.\n",
    "\n",
    "```\n",
    "J = - sum[n=1,...,N]( sum[k=1,...,K]( T[n,k] * logY[n,k] ) )\n",
    "```\n",
    "\n"
   ]
  },
  {
   "cell_type": "code",
   "execution_count": 75,
   "metadata": {
    "collapsed": true
   },
   "outputs": [],
   "source": [
    "def cost(T, Y):\n",
    "    return (T*np.log(Y)).sum()\n",
    "\n",
    "def derivative_W2(Z, T, Y):\n",
    "    return Z.T.dot(T-Y)\n",
    "\n",
    "def derivative_W1(X, Z, T, Y, W2):\n",
    "    dZ = (T-Y).dot(W2.T) * Z * (1-Z)\n",
    "    return X.T.dot(dZ)\n",
    "\n",
    "def derivative_b2(T, Y):\n",
    "    return (T-Y).sum(axis=0)\n",
    "\n",
    "def derivative_b1(T, Y, W2, Z):\n",
    "    return ((T-Y).dot(W2.T) * Z * (1-Z)).sum(axis=0)\n",
    "\n",
    "def forward(X, W1, b1, W2, b2):\n",
    "    ''' O--W--O--V--O\n",
    "        X    Z      Y\n",
    "    '''\n",
    "    #Z = relu(X.dot(W1) + b1)\n",
    "    Z = sigmoid(X.dot(W1) + b1)\n",
    "    Y = softmax(Z.dot(W2) + b2)\n",
    "    return Y, Z"
   ]
  },
  {
   "cell_type": "code",
   "execution_count": 76,
   "metadata": {
    "collapsed": false
   },
   "outputs": [
    {
     "name": "stderr",
     "output_type": "stream",
     "text": [
      "/home/alarcj/anaconda3/lib/python3.6/site-packages/ipykernel/__main__.py:15: RuntimeWarning: overflow encountered in exp\n"
     ]
    },
    {
     "name": "stdout",
     "output_type": "stream",
     "text": [
      "epoch: 0 cost: -713226.1771666248. classification rate: 0.10757142857142857\n",
      "\n",
      "epoch: 100 cost: -301205.13705253135. classification rate: 0.2399047619047619\n",
      "\n",
      "epoch: 200 cost: -218712.00976892738. classification rate: 0.35264285714285715\n",
      "\n",
      "epoch: 300 cost: -176711.77176909734. classification rate: 0.43033333333333335\n",
      "\n",
      "epoch: 400 cost: -151251.24687362034. classification rate: 0.48892857142857143\n",
      "\n",
      "epoch: 500 cost: -134371.1428855521. classification rate: 0.531\n",
      "\n",
      "epoch: 600 cost: -122113.92323055952. classification rate: 0.5624047619047619\n",
      "\n",
      "epoch: 700 cost: -112737.05279013839. classification rate: 0.5874761904761905\n",
      "\n",
      "epoch: 800 cost: -105207.41868502738. classification rate: 0.6095238095238096\n",
      "\n",
      "epoch: 900 cost: -99057.68623203434. classification rate: 0.6269285714285714\n",
      "\n"
     ]
    },
    {
     "data": {
      "image/png": "[encoded data removed]",
      "text/plain": [
       "<matplotlib.figure.Figure at 0x7f3e12c24a90>"
      ]
     },
     "metadata": {},
     "output_type": "display_data"
    }
   ],
   "source": [
    "epochs = 1000\n",
    "epoch_rate = 100\n",
    "learning_rate = 10e-7\n",
    "costs = []\n",
    "for epoch in range(epochs):\n",
    "    output, hidden = forward(X, W1, b1, W2, b2)\n",
    "    if epoch % epoch_rate == 0:\n",
    "        c = cost(T, output)\n",
    "        P = np.argmax(output, axis=1)\n",
    "        r = classification_rate(Y, P)\n",
    "        print('epoch: {} cost: {}. classification rate: {}\\n'.format(epoch, c, r))\n",
    "        costs.append(c)\n",
    "        \n",
    "    W2 += learning_rate * derivative_W2(hidden, T, output)\n",
    "    b2 += learning_rate * derivative_b2(T, output)\n",
    "    W1 += learning_rate * derivative_W1(X, hidden, T, output, W2)\n",
    "    b1 += learning_rate * derivative_b1(T, output, W2, hidden)\n",
    "    \n",
    "plt.plot(costs)\n",
    "plt.show();"
   ]
  },
  {
   "cell_type": "code",
   "execution_count": null,
   "metadata": {
    "collapsed": true
   },
   "outputs": [],
   "source": []
  }
 ],
 "metadata": {
  "kernelspec": {
   "display_name": "Python 3",
   "language": "python",
   "name": "python3"
  },
  "language_info": {
   "codemirror_mode": {
    "name": "ipython",
    "version": 3
   },
   "file_extension": ".py",
   "mimetype": "text/x-python",
   "name": "python",
   "nbconvert_exporter": "python",
   "pygments_lexer": "ipython3",
   "version": "3.6.0"
  }
 },
 "nbformat": 4,
 "nbformat_minor": 2
}
