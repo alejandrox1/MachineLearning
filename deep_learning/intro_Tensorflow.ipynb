{
 "cells": [
  {
   "cell_type": "code",
   "execution_count": 16,
   "metadata": {
    "collapsed": true
   },
   "outputs": [],
   "source": [
    "import numpy as np\n",
    "import pandas as pd\n",
    "import matplotlib.pyplot as plt\n",
    "import tensorflow as tf"
   ]
  },
  {
   "cell_type": "code",
   "execution_count": 17,
   "metadata": {
    "collapsed": false
   },
   "outputs": [
    {
     "name": "stdout",
     "output_type": "stream",
     "text": [
      "[[ 0.53334683]\n",
      " [-1.25067043]\n",
      " [-0.31465977]\n",
      " [-0.20693171]\n",
      " [-2.2446475 ]] <class 'numpy.ndarray'>\n"
     ]
    }
   ],
   "source": [
    "A = tf.placeholder(tf.float32, shape=(5,5), name='A')\n",
    "v = tf.placeholder(tf.float32)\n",
    "\n",
    "u = tf.matmul(A, v)\n",
    "\n",
    "with tf.Session() as session:\n",
    "    output = session.run(u, feed_dict={A: np.random.randn(5,5), v: np.random.randn(5,1)})\n",
    "    print( output, type(output) )\n",
    "    "
   ]
  },
  {
   "cell_type": "code",
   "execution_count": 18,
   "metadata": {
    "collapsed": false
   },
   "outputs": [
    {
     "name": "stdout",
     "output_type": "stream",
     "text": [
      "i = 0, cost = 67.98999786376953, u = 7.699999809265137\n",
      "i = 1, cost = 11.508398056030273, u = 2.7799997329711914\n",
      "i = 2, cost = 2.471343517303467, u = 0.8119997978210449\n",
      "i = 3, cost = 1.0254149436950684, u = 0.024799883365631104\n",
      "i = 4, cost = 0.7940664291381836, u = -0.2900800108909607\n",
      "i = 5, cost = 0.757050633430481, u = -0.41603201627731323\n",
      "i = 6, cost = 0.751128077507019, u = -0.46641281247138977\n",
      "i = 7, cost = 0.7501804828643799, u = -0.48656514286994934\n",
      "i = 8, cost = 0.7500288486480713, u = -0.49462607502937317\n",
      "i = 9, cost = 0.7500046491622925, u = -0.4978504478931427\n",
      "i = 10, cost = 0.7500007152557373, u = -0.499140202999115\n",
      "i = 11, cost = 0.7500001192092896, u = -0.499656081199646\n",
      "i = 12, cost = 0.75, u = -0.4998624324798584\n",
      "i = 13, cost = 0.75, u = -0.4999449849128723\n",
      "i = 14, cost = 0.75, u = -0.4999780058860779\n",
      "i = 15, cost = 0.75, u = -0.49999120831489563\n",
      "i = 16, cost = 0.75, u = -0.49999648332595825\n",
      "i = 17, cost = 0.75, u = -0.4999985992908478\n",
      "i = 18, cost = 0.75, u = -0.499999463558197\n",
      "i = 19, cost = 0.75, u = -0.4999997913837433\n"
     ]
    }
   ],
   "source": [
    "u = tf.Variable(20.0)\n",
    "cost = u*u + u + 1.0\n",
    "\n",
    "train_op = tf.train.GradientDescentOptimizer(0.3).minimize(cost)\n",
    "\n",
    "init = tf.global_variables_initializer()\n",
    "with tf.Session() as session:\n",
    "    session.run(init)\n",
    "    for i in range(20):\n",
    "        session.run(train_op)\n",
    "        print(\"i = {}, cost = {}, u = {}\".format(i, cost.eval(), u.eval()))"
   ]
  },
  {
   "cell_type": "code",
   "execution_count": 19,
   "metadata": {
    "collapsed": true
   },
   "outputs": [],
   "source": [
    "def y2indicator(y, K):\n",
    "    '''Transfor Y into an indicator matrix\n",
    "    The indicator matrix will be an NxK matrix.\n",
    "    \n",
    "    N : number of samples\n",
    "    K : number of classes in the output\n",
    "    '''\n",
    "    N = len(y)\n",
    "    ind = np.zeros((N, K))\n",
    "    for i in range(N):\n",
    "        j = int(y[i])\n",
    "        ind[i, j] = 1\n",
    "    return ind\n",
    "\n",
    "def get_normalized_data():\n",
    "    df = pd.read_csv('data/train.csv')\n",
    "    data = df.as_matrix().astype(np.float32)\n",
    "    \n",
    "    np.random.shuffle(data)\n",
    "    Y = data[:, 0]\n",
    "    X = data[:, 1:]\n",
    "    mu = X.mean(axis=0)\n",
    "    std  = X.std(axis=0)\n",
    "    # if value equals to 0 replace by 1\n",
    "    np.place(std, std==0, 1) \n",
    "    X = (X - mu)/ std\n",
    "    \n",
    "    return X, Y    \n",
    "\n",
    "def error_rate(p, t):\n",
    "    return np.mean(p != t)"
   ]
  },
  {
   "cell_type": "code",
   "execution_count": 21,
   "metadata": {
    "collapsed": false
   },
   "outputs": [],
   "source": [
    "X, Y = get_normalized_data()\n",
    "max_iter = 15\n",
    "print_period = 50\n",
    "\n",
    "lr = 4e-5\n",
    "reg = 1e-2\n",
    "\n",
    "Xtrain = X[:-1000,]\n",
    "Xtest  = X[-1000:,]\n",
    "Ytrain = Y[:-1000]\n",
    "Ytest  = Y[-1000:]\n",
    "K = len(np.unique(Y))\n",
    "Ytrain_ind = y2indicator(Ytrain, K)\n",
    "Ytest_ind = y2indicator(Ytest, K)\n",
    "\n",
    "N, D = Xtrain.shape\n",
    "batch_sz = 500\n",
    "n_batches = int( N / batch_sz )\n",
    "M1 = 300\n",
    "M2 = 100\n",
    "\n",
    "W1_init = np.random.randn(D, M1) / 28\n",
    "b1_init = np.zeros(M1)\n",
    "W2_init = np.random.randn(M1, M2) / np.sqrt(M1)\n",
    "b2_init = np.zeros(M2)\n",
    "W3_init = np.random.randn(M2, K) / np.sqrt(M2)\n",
    "b3_init = np.zeros(K)"
   ]
  },
  {
   "cell_type": "code",
   "execution_count": 22,
   "metadata": {
    "collapsed": true
   },
   "outputs": [],
   "source": [
    "X = tf.placeholder(tf.float32, shape=(None, D), name='X')\n",
    "T = tf.placeholder(tf.float32, shape=(None, K), name='T')\n",
    "W1 = tf.Variable(W1_init.astype(np.float32))\n",
    "b1 = tf.Variable(b1_init.astype(np.float32))\n",
    "W2 = tf.Variable(W2_init.astype(np.float32))\n",
    "b2 = tf.Variable(b2_init.astype(np.float32))\n",
    "W3 = tf.Variable(W3_init.astype(np.float32))\n",
    "b3 = tf.Variable(b3_init.astype(np.float32))"
   ]
  },
  {
   "cell_type": "code",
   "execution_count": 23,
   "metadata": {
    "collapsed": true
   },
   "outputs": [],
   "source": [
    "Z1 = tf.nn.relu( tf.matmul(X, W1) + b1 )\n",
    "Z2 = tf.nn.relu( tf.matmul(Z1, W2) + b2 )\n",
    "Yish = tf.matmul(Z2, W3) + b3\n",
    "\n",
    "cost = tf.reduce_sum(tf.nn.softmax_cross_entropy_with_logits(Yish, T))\n",
    "\n",
    "train_op = tf.train.RMSPropOptimizer(lr, decay=0.99, momentum=0.9).minimize(cost)\n",
    "\n",
    "predict_op = tf.arg_max(Yish, 1)"
   ]
  },
  {
   "cell_type": "code",
   "execution_count": 24,
   "metadata": {
    "collapsed": false
   },
   "outputs": [
    {
     "name": "stdout",
     "output_type": "stream",
     "text": [
      "Cost / err at iteration i=0, j=0: 2380.166015625 / 0.922\n",
      "Cost / err at iteration i=0, j=50: 375.2212219238281 / 0.112\n",
      "Cost / err at iteration i=1, j=0: 285.5705871582031 / 0.092\n",
      "Cost / err at iteration i=1, j=50: 236.3982696533203 / 0.07\n",
      "Cost / err at iteration i=2, j=0: 201.9309844970703 / 0.064\n",
      "Cost / err at iteration i=2, j=50: 181.1438751220703 / 0.048\n",
      "Cost / err at iteration i=3, j=0: 160.424560546875 / 0.049\n",
      "Cost / err at iteration i=3, j=50: 151.72610473632812 / 0.042\n",
      "Cost / err at iteration i=4, j=0: 136.48953247070312 / 0.042\n",
      "Cost / err at iteration i=4, j=50: 135.06500244140625 / 0.035\n",
      "Cost / err at iteration i=5, j=0: 122.59333801269531 / 0.039\n",
      "Cost / err at iteration i=5, j=50: 127.55461120605469 / 0.032\n",
      "Cost / err at iteration i=6, j=0: 114.55489349365234 / 0.034\n",
      "Cost / err at iteration i=6, j=50: 122.54220581054688 / 0.03\n",
      "Cost / err at iteration i=7, j=0: 112.03424072265625 / 0.031\n",
      "Cost / err at iteration i=7, j=50: 118.84175109863281 / 0.029\n",
      "Cost / err at iteration i=8, j=0: 112.7554931640625 / 0.03\n",
      "Cost / err at iteration i=8, j=50: 117.81046295166016 / 0.028\n",
      "Cost / err at iteration i=9, j=0: 113.44062042236328 / 0.031\n",
      "Cost / err at iteration i=9, j=50: 115.7392578125 / 0.024\n",
      "Cost / err at iteration i=10, j=0: 117.44981384277344 / 0.031\n",
      "Cost / err at iteration i=10, j=50: 115.94953155517578 / 0.025\n",
      "Cost / err at iteration i=11, j=0: 121.6772232055664 / 0.03\n",
      "Cost / err at iteration i=11, j=50: 117.92405700683594 / 0.024\n",
      "Cost / err at iteration i=12, j=0: 128.3629150390625 / 0.031\n",
      "Cost / err at iteration i=12, j=50: 119.61672973632812 / 0.024\n",
      "Cost / err at iteration i=13, j=0: 135.23973083496094 / 0.032\n",
      "Cost / err at iteration i=13, j=50: 123.69255065917969 / 0.023\n",
      "Cost / err at iteration i=14, j=0: 140.64797973632812 / 0.032\n",
      "Cost / err at iteration i=14, j=50: 125.68869018554688 / 0.022\n"
     ]
    },
    {
     "data": {
      "image/png": "[encoded data removed]",
      "text/plain": [
       "<matplotlib.figure.Figure at 0x7f45180d64a8>"
      ]
     },
     "metadata": {},
     "output_type": "display_data"
    }
   ],
   "source": [
    "LL = []\n",
    "init = tf.global_variables_initializer()\n",
    "with tf.Session() as session:\n",
    "    session.run(init)\n",
    "    \n",
    "    for i in range(max_iter):\n",
    "        for j in range(n_batches):\n",
    "            Xbatch = Xtrain[j*batch_sz: (j*batch_sz+batch_sz),]\n",
    "            Ybatch = Ytrain_ind[j*batch_sz: (j*batch_sz+batch_sz),]\n",
    "            \n",
    "            session.run(train_op, feed_dict={X: Xbatch, T: Ybatch})\n",
    "            if j % print_period == 0 :\n",
    "                test_cost = session.run(cost, feed_dict={X: Xtest, T: Ytest_ind})\n",
    "                prediction = session.run(predict_op, feed_dict={X: Xtest})\n",
    "                err = error_rate(prediction, Ytest)\n",
    "                print(\"Cost / err at iteration i={}, j={}: {} / {}\".format(i, j, test_cost, err))\n",
    "                LL.append(test_cost)\n",
    "\n",
    "    plt.plot(LL)\n",
    "    plt.show()"
   ]
  },
  {
   "cell_type": "code",
   "execution_count": null,
   "metadata": {
    "collapsed": true
   },
   "outputs": [],
   "source": []
  }
 ],
 "metadata": {
  "kernelspec": {
   "display_name": "Python 3",
   "language": "python",
   "name": "python3"
  },
  "language_info": {
   "codemirror_mode": {
    "name": "ipython",
    "version": 3
   },
   "file_extension": ".py",
   "mimetype": "text/x-python",
   "name": "python",
   "nbconvert_exporter": "python",
   "pygments_lexer": "ipython3",
   "version": "3.6.0"
  }
 },
 "nbformat": 4,
 "nbformat_minor": 2
}
