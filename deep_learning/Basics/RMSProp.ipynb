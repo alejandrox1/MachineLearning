{
 "cells": [
  {
   "cell_type": "markdown",
   "metadata": {},
   "source": [
    "* [An overview of gradient descent optimization algorithms](http://sebastianruder.com/optimizing-gradient-descent/)"
   ]
  },
  {
   "cell_type": "code",
   "execution_count": 1,
   "metadata": {
    "collapsed": true
   },
   "outputs": [],
   "source": [
    "import numpy as np\n",
    "import pandas as pd\n",
    "import matplotlib.pyplot as plt\n",
    "from sklearn.utils import shuffle"
   ]
  },
  {
   "cell_type": "code",
   "execution_count": 11,
   "metadata": {
    "collapsed": true
   },
   "outputs": [],
   "source": [
    "def y2indicator(Y, K=10):\n",
    "    # K=10 for MNIST\n",
    "    # Python\n",
    "    N = len(Y)\n",
    "    Y = Y.astype(np.int32)\n",
    "    ind = np.zeros((N, K))\n",
    "    for i in range(N):\n",
    "        ind[i, Y[i]] = 1\n",
    "    return ind\n",
    "    \n",
    "def get_normalized_data():\n",
    "    df = pd.read_csv('../datasets/mnist/train.csv')\n",
    "    data = df.as_matrix().astype(np.float32)\n",
    "    np.random.shuffle(data)\n",
    "    Y = data[:,0]\n",
    "    X = data[:,1:]\n",
    "    mu = X.mean(axis=0)\n",
    "    std = X.std(axis=0)\n",
    "    np.place(std, std==0, 1)\n",
    "    X = (X-mu)/std\n",
    "    return X, Y\n",
    "\n",
    "def error(p_y, T):\n",
    "    predictions = np.argmax(p_y, axis=1)\n",
    "    return np.mean(predictions != T)\n",
    "\n",
    "def cost(p_y, T):\n",
    "    \"\"\" Cross entropy \"\"\"\n",
    "    if np.any(np.isnan(np.log(p_y))):\n",
    "        print(\"nan in log p_y\")\n",
    "    total = T * np.log(p_y)\n",
    "    return -total.sum()"
   ]
  },
  {
   "cell_type": "code",
   "execution_count": 12,
   "metadata": {
    "collapsed": true
   },
   "outputs": [],
   "source": [
    "def xavier_init(size):\n",
    "    in_dim = size[0]\n",
    "    xavier_stddev = np.sqrt(in_dim/2.0)\n",
    "    return np.random.randn(size[0],size[1]) / xavier_stddev\n",
    "\n",
    "def derivative_W2(Z, T, Y):\n",
    "    return Z.T.dot(Y-T)\n",
    "                   \n",
    "def derivative_b2(T, Y):\n",
    "    return (Y-T).sum(axis=0)\n",
    "\n",
    "def derivative_W1(X, Z, T, Y, W2):\n",
    "    #return X.T.dot( ((Y-T).dot(W2.T) * Z * (1-Z)) )  # for sigmoid\n",
    "    return X.T.dot( ((Y-T).dot(W2.T) * (Z>0)) ) # for relu\n",
    "\n",
    "def derivative_b1(Z, T, Y, W2):\n",
    "    #return ( (Y-T).dot(W2.T) * (Z*(1-Z)) ).sum(axis=0) # for sigmoid      \n",
    "    return ( (Y-Y).dot(W2.T) * (Z>0) ).sum(axis=0) # for relu\n",
    "\n",
    "def relu(a):   \n",
    "    a[a<0] = 0\n",
    "    return a\n",
    "\n",
    "def sigmoid(a):\n",
    "    return 1.0 / (1.0 + np.exp(-a))\n",
    "    \n",
    "def softmax(a):                                                                 \n",
    "    a -= np.max(a) \n",
    "    expA = np.exp(a)\n",
    "    return expA / expA.sum(axis=1, keepdims=True)\n",
    "\n",
    "def forward(X, W1, b1, W2, b2):\n",
    "    Z = relu( X.dot(W1)+b1 )\n",
    "    Y = softmax( Z.dot(W2)+b2 )\n",
    "    return Y, Z"
   ]
  },
  {
   "cell_type": "code",
   "execution_count": 13,
   "metadata": {
    "collapsed": true
   },
   "outputs": [],
   "source": [
    "# Input\n",
    "X, Y = get_normalized_data()\n",
    "Xtrain = X[:-1000,]                                                         \n",
    "Ytrain = Y[:-1000]                                                          \n",
    "Xtest  = X[-1000:,]                                                         \n",
    "Ytest  = Y[-1000:]                                                          \n",
    "Ytrain_ind = y2indicator(Ytrain)                                            \n",
    "Ytest_ind = y2indicator(Ytest)\n",
    "\n",
    "# Parameters\n",
    "lr = 1.0e-5\n",
    "reg = 1.0e-2\n",
    "N, D = Xtrain.shape\n",
    "\n",
    "M = 300\n",
    "K=10"
   ]
  },
  {
   "cell_type": "code",
   "execution_count": 14,
   "metadata": {
    "collapsed": true
   },
   "outputs": [],
   "source": [
    "max_iter = 100\n",
    "print_period = 10\n",
    "batch_size = 500\n",
    "n_batches = N//batch_size"
   ]
  },
  {
   "cell_type": "markdown",
   "metadata": {},
   "source": [
    "# Constant Learning Rate"
   ]
  },
  {
   "cell_type": "code",
   "execution_count": 18,
   "metadata": {
    "collapsed": false
   },
   "outputs": [
    {
     "name": "stdout",
     "output_type": "stream",
     "text": [
      "Cost: 1251.5092537781877\n",
      "Error:0.354\n",
      "Cost: 353.2929555052721\n",
      "Error:0.091\n",
      "Cost: 273.6605302537232\n",
      "Error:0.067\n",
      "Cost: 238.81248954880232\n",
      "Error:0.063\n",
      "Cost: 217.82945132492006\n",
      "Error:0.06\n",
      "Cost: 203.4146429875939\n",
      "Error:0.052\n",
      "Cost: 192.71178816633713\n",
      "Error:0.05\n",
      "Cost: 184.25251757298074\n",
      "Error:0.044\n",
      "Cost: 177.2812519220934\n",
      "Error:0.042\n",
      "Cost: 171.33741834512142\n",
      "Error:0.043\n",
      "Final error: 0.044\n"
     ]
    }
   ],
   "source": [
    "W1 = xavier_init([D, M])\n",
    "b1 = np.zeros(M)\n",
    "W2 = xavier_init([M, K])\n",
    "b2 = np.zeros(K)\n",
    "\n",
    "LL_batch = []\n",
    "ER_batch = []\n",
    "for i in range(max_iter):\n",
    "    for j in range(n_batches):\n",
    "        batch_range = (j*batch_size, j*batch_size + batch_size)\n",
    "        \n",
    "        Xbatch = Xtrain[batch_range[0]:batch_range[1], ]                \n",
    "        Ybatch = Ytrain_ind[batch_range[0]:batch_range[1], ]            \n",
    "        pYbatch, Z = forward(Xbatch, W1, b1, W2, b2)                                         \n",
    "                                                                                \n",
    "        # updates                                                           \n",
    "        W2 -= lr*(derivative_W2(Z, Ybatch, pYbatch) + reg*W2)               \n",
    "        b2 -= lr*(derivative_b2(Ybatch, pYbatch)    + reg*b2)                  \n",
    "        W1 -= lr*(derivative_W1(Xbatch, Z, Ybatch, pYbatch, W2) + reg*W1)   \n",
    "        b1 -= lr*(derivative_b1(Z, Ybatch, pYbatch, W2)         + reg*b1)           \n",
    "                                                                                \n",
    "    if i % print_period==0:                                           \n",
    "        # calculate just for LL                                         \n",
    "        pY, _ = forward(Xtest, W1, b1, W2, b2)                \n",
    "        LL_batch.append( cost(pY, Ytest_ind) )                                 \n",
    "        print(\"Cost: {}\".format(LL_batch[-1]))                                                                         \n",
    "        ER_batch.append( error(pY, Ytest) )                                \n",
    "        print(\"Error:{}\".format(ER_batch[-1]))                                        \n",
    "                                                                                \n",
    "pY, _ = forward(Xtest, W1, b1, W2, b2)                                      \n",
    "print(\"Final error: {}\".format(error(pY, Ytest)))       "
   ]
  },
  {
   "cell_type": "markdown",
   "metadata": {},
   "source": [
    "# RMSProp"
   ]
  },
  {
   "cell_type": "code",
   "execution_count": 20,
   "metadata": {
    "collapsed": false
   },
   "outputs": [
    {
     "name": "stdout",
     "output_type": "stream",
     "text": [
      "Cost: 191.38319237422394\n",
      "Error rate: 0.043\n",
      "Cost: 126.51929012849945\n",
      "Error rate: 0.03\n",
      "Cost: 120.28097729313193\n",
      "Error rate: 0.029\n",
      "Cost: 115.40454733763545\n",
      "Error rate: 0.026\n",
      "Cost: 108.12910941535625\n",
      "Error rate: 0.025\n",
      "Cost: 100.253955532296\n",
      "Error rate: 0.023\n",
      "Cost: 92.08782818508942\n",
      "Error rate: 0.018\n",
      "Cost: 167.07439349586022\n",
      "Error rate: 0.02\n",
      "Cost: 158.74111063117334\n",
      "Error rate: 0.02\n",
      "Cost: 149.00987262636588\n",
      "Error rate: 0.021\n",
      "Final error rate: 0.019\n"
     ]
    }
   ],
   "source": [
    "W1 = xavier_init([D, M])\n",
    "b1 = np.zeros(M)\n",
    "W2 = xavier_init([M, K])\n",
    "b2 = np.zeros(K)\n",
    "\n",
    "LL_rms = []\n",
    "CR_rms = []\n",
    "lr0 = 0.001 # if you set this too high you'll get NaN!\n",
    "cache_W2 = 0\n",
    "cache_b2 = 0\n",
    "cache_W1 = 0\n",
    "cache_b1 = 0\n",
    "decay_rate = 0.999\n",
    "eps = 0.0000000001\n",
    "for i in range(max_iter):\n",
    "    for j in range(n_batches):\n",
    "        batch_range = (j*batch_size, j*batch_size + batch_size)\n",
    "        \n",
    "        Xbatch = Xtrain[batch_range[0]:batch_range[1], ]                \n",
    "        Ybatch = Ytrain_ind[batch_range[0]:batch_range[1], ]            \n",
    "        pYbatch, Z = forward(Xbatch, W1, b1, W2, b2)\n",
    "            \n",
    "        # updates\n",
    "        gW2 = derivative_W2(Z, Ybatch, pYbatch) + reg*W2\n",
    "        cache_W2 = decay_rate*cache_W2 + (1 - decay_rate)*gW2*gW2\n",
    "        W2 -= lr0 * gW2 / (np.sqrt(cache_W2) + eps)\n",
    "\n",
    "        gb2 = derivative_b2(Ybatch, pYbatch) + reg*b2\n",
    "        cache_b2 = decay_rate*cache_b2 + (1 - decay_rate)*gb2*gb2\n",
    "        b2 -= lr0 * gb2 / (np.sqrt(cache_b2) + eps)\n",
    "\n",
    "        gW1 = derivative_W1(Xbatch, Z, Ybatch, pYbatch, W2) + reg*W1\n",
    "        cache_W1 = decay_rate*cache_W1 + (1 - decay_rate)*gW1*gW1\n",
    "        W1 -= lr0 * gW1 / (np.sqrt(cache_W1) + eps)\n",
    "\n",
    "        gb1 = derivative_b1(Z, Ybatch, pYbatch, W2) + reg*b1\n",
    "        cache_b1 = decay_rate*cache_b1 + (1 - decay_rate)*gb1*gb1\n",
    "        b1 -= lr0 * gb1 / (np.sqrt(cache_b1) + eps)\n",
    "\n",
    "    if i % print_period == 0:\n",
    "        # calculate just for LL\n",
    "        pY, _ = forward(Xtest, W1, b1, W2, b2)\n",
    "        ll = cost(pY, Ytest_ind)\n",
    "        LL_rms.append(ll)\n",
    "        print(\"Cost: {}\".format(ll))\n",
    "\n",
    "        err = error(pY, Ytest)\n",
    "        CR_rms.append(err)\n",
    "        print(\"Error rate: {}\".format(err))\n",
    "\n",
    "pY, _ = forward(Xtest, W1, b1, W2, b2)\n",
    "print(\"Final error rate: {}\".format(error(pY, Ytest)))"
   ]
  },
  {
   "cell_type": "code",
   "execution_count": 21,
   "metadata": {
    "collapsed": false
   },
   "outputs": [
    {
     "data": {
      "image/png": "[encoded data removed]",
      "text/plain": [
       "<matplotlib.figure.Figure at 0x7fc0afe8f518>"
      ]
     },
     "metadata": {},
     "output_type": "display_data"
    }
   ],
   "source": [
    "plt.plot(LL_batch, label='const')\n",
    "plt.plot(LL_rms, label='rms')\n",
    "plt.legend()\n",
    "plt.show()"
   ]
  },
  {
   "cell_type": "code",
   "execution_count": null,
   "metadata": {
    "collapsed": true
   },
   "outputs": [],
   "source": []
  }
 ],
 "metadata": {
  "kernelspec": {
   "display_name": "Python 3",
   "language": "python",
   "name": "python3"
  },
  "language_info": {
   "codemirror_mode": {
    "name": "ipython",
    "version": 3
   },
   "file_extension": ".py",
   "mimetype": "text/x-python",
   "name": "python",
   "nbconvert_exporter": "python",
   "pygments_lexer": "ipython3",
   "version": "3.6.0"
  }
 },
 "nbformat": 4,
 "nbformat_minor": 2
}
