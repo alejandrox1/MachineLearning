{
 "cells": [
  {
   "cell_type": "markdown",
   "metadata": {},
   "source": [
    "$X$ is a matrix in $\\mathbb{R}^{N \\times D}$.\n",
    "\n",
    "$Y$ is  a matrix in $\\mathbb{R}^{N \\times 1}$.\n",
    "\n",
    "$W$ is a matrix in $\\mathbb{R}^{D \\times M}$, the bias $b$ is a vector $\\mathbb{R}^{M \\times 1}$.\n",
    "\n",
    "$V$ is a matrix $\\mathbb{R}^{M \\times 1}$, and the bias $c$ is $\\mathbb{R}^{K \\times 1}$"
   ]
  },
  {
   "cell_type": "markdown",
   "metadata": {},
   "source": [
    "$$\n",
    "z_j = \\sigma\\left( \\Sigma_i w_{i,j} x_i + b_j \\right) =\n",
    " \\sigma\\left( W_{j}^{T}x + b\\right) \n",
    "$$\n",
    "$$\n",
    "z = \\sigma\\left( W^Tx + b\\right)\n",
    "$$\n",
    "and\n",
    "\n",
    "$$\n",
    "p(y|x) = \\sigma\\left( \\Sigma_j v_jz_j + c \\right) = \n",
    "\\sigma\\left( v^Tz + c \\right) \n",
    "$$\n",
    "\n",
    "So that $x$ is a NxD matrix (D being the number of features).\n",
    "\n",
    "$z$ is an NxM matrix (number of samples by hidden units per layer).\n",
    "\n",
    "$Y = p(y|x)$ is an Nx1 matrix or NxK (K is the number of classes).\n",
    "\n",
    "$W$ is DxM, $b$ is Mx1.\n",
    "$v$ is Mx1, and $c$ is a scalar - 1x1.\n",
    "\n",
    "$$\n",
    "Z = \\sigma\\left( XW + b \\right)\n",
    "$$\n",
    "$$\n",
    "Y = \\sigma\\left( Zv + c \\right)\n",
    "$$"
   ]
  },
  {
   "cell_type": "markdown",
   "metadata": {},
   "source": [
    "# Nonlinearities\n",
    "\n",
    "* **Sigmoid:** $\\sigma(x) = 1 / (1+e^{-x})$\n",
    "* **Tanh:** $(e^x - e^{-x}) / (e^x + e^{-x})$\n",
    "* **Rectifier Linear Unit:** $relu(x) = max(0,x)$\n",
    "\n",
    "Any relationship between the Hyperbolic tangent and the Sigmoid functions?"
   ]
  },
  {
   "cell_type": "markdown",
   "metadata": {},
   "source": [
    "# Logistic  Regression - Feedforward\n",
    "\n",
    "$x_1$ and $x_2$ with wieghts $w_1$ and $w_2$.\n",
    "\n",
    "$$\n",
    "a = x_1 w_1 + x_2 w_2 + b\n",
    "$$\n",
    "\n",
    "$$\n",
    "p(y|x) = \\sigma(w^T x) = 1/ (1+ e^{-a})\n",
    "$$\n",
    "\n",
    "So, prediction $\\hat{y} = round[ p(y|x) ]$"
   ]
  },
  {
   "cell_type": "markdown",
   "metadata": {},
   "source": [
    "# Neural Network - Feedforward\n",
    "\n",
    "$w(i,j)$ goes from $x(i)$ to $z(j)$.\n",
    "\n",
    "$$\n",
    "z_j = \\sigma\\left( \\Sigma_i W_{ij} x_i + b \\right)\n",
    "$$\n",
    "\n",
    "$v_j$ goes from $z_j$ to $y$,\n",
    "$$\n",
    "p(y|x) = \\sigma\\left( \\Sigma_j v_j z_j + c \\right)\n",
    "$$"
   ]
  },
  {
   "cell_type": "markdown",
   "metadata": {},
   "source": [
    "## Example\n",
    "\n",
    "$$\n",
    "x = [0,1]\n",
    "$$\n",
    "$$\n",
    "w(1,1) = w(1,2) = w(2,1) = w(2,2) = 1\n",
    "$$\n",
    "$$\n",
    "v(1) = v(2) = 1\n",
    "$$\n",
    "$$\n",
    "b = c = 0\n",
    "$$\n",
    "\n",
    "\n",
    "$$z(1) = \\sigma\\left( 0*1 + 1*1 \\right) = 0.731$$\n",
    "$$z(2) = \\sigma\\left( 0*1 + 1*1 \\right) = 0.731$$\n",
    "$$ p(y|x) = \\sigma\\left( 0.731*1 + 0.731*1 \\right) = 0.812$$"
   ]
  },
  {
   "cell_type": "markdown",
   "metadata": {},
   "source": [
    "* Cost/Error is usually something to minimize.\n",
    "\n",
    "* Objective function can be minimized/maximized\n",
    "\n",
    "* Minimizing the negative log-likelihood (gradient descent) is the same as maximizing the log-likelihood (and likelihood) (gradient ascent).\n",
    "\n",
    "\n",
    "$t_n$ is the target while $y_n$ is the probability.\n",
    "$$\n",
    "J = - \\Sigma_{n=1}^{N} t_n \\log (y_n) + (1-t_n) \\log (1-y_n)\n",
    "$$\n",
    "\n",
    "Likelihood\n",
    "$$\n",
    "L = P(T|X,W)= \\prod_{n=1}^{N} \\prod_{k=1}^{K} y_{n,k}^{t_{n,k}}\n",
    "$$"
   ]
  },
  {
   "cell_type": "markdown",
   "metadata": {},
   "source": [
    "* Gradient descent $w = w - \\eta \\partial_{w} J$\n",
    "\n",
    "* Gradient ascent $w = w + \\eta \\partial_{w} J$"
   ]
  },
  {
   "cell_type": "markdown",
   "metadata": {
    "collapsed": true
   },
   "source": [
    "# Feedforward in SlowMo"
   ]
  },
  {
   "cell_type": "markdown",
   "metadata": {},
   "source": [
    "# Utility Functions"
   ]
  },
  {
   "cell_type": "markdown",
   "metadata": {},
   "source": [
    "## Indicator Matrix (One hot encoding)\n",
    "\n",
    "**Indicator(n,k) = 1 if Y(n)==k else 0**"
   ]
  },
  {
   "cell_type": "code",
   "execution_count": 1,
   "metadata": {
    "collapsed": true
   },
   "outputs": [],
   "source": [
    "def y2indicator(Y, K=10):  # K=10 for MNIST\n",
    "    N = len(Y)\n",
    "    Y = Y.astype(np.int32)\n",
    "    ind = np.zeros((N, K))\n",
    "    for i in range(N):\n",
    "        ind[i, Y[i]] = 1\n",
    "    return ind\n",
    "\n",
    "def py_y2indicator(Y, K=10):\n",
    "    N = len(Y)\n",
    "    Y = Y.astype(np.int32)\n",
    "    ind = np.zeros((N, K))\n",
    "    ind[np.arange(N), Y] = 1\n",
    "    return ind\n",
    "    \n",
    "def sk_y2indicator(Y, K=10):\n",
    "    from sklearn.preprocessing import LabelBinarizer\n",
    "    lb = LabelBinarizer()\n",
    "    lb.fit(range(Y.max()+1))\n",
    "    return lb.transform(Y)"
   ]
  },
  {
   "cell_type": "code",
   "execution_count": 2,
   "metadata": {
    "collapsed": false
   },
   "outputs": [],
   "source": [
    "# prediction_labels = np.argmax(softmax_outputs, axis=1)\n",
    "# target_labels = np.argmax(indicator_matrix, axis=1)\n",
    "# accuracy = sum(prediction_labels == target_labels)\n",
    "\n",
    "# Y = np.argmax(y2indicator(Y), axis=1)"
   ]
  },
  {
   "cell_type": "code",
   "execution_count": 3,
   "metadata": {
    "collapsed": true
   },
   "outputs": [],
   "source": [
    "# determine the classification rate\n",
    "# num correct / num total\n",
    "def classification_rate(Y, P):\n",
    "    return np.mean(predictions != T)\n",
    "\n",
    "def classification_rate(Y, P):\n",
    "    n_correct = 0\n",
    "    n_total = 0\n",
    "    for i in range(len(Y)):\n",
    "        n_total += 1\n",
    "        if Y[i] == P[i]:\n",
    "            n_correct += 1\n",
    "    return float(n_correct) / n_total"
   ]
  },
  {
   "cell_type": "markdown",
   "metadata": {},
   "source": [
    "# Feedforward - Making predictions"
   ]
  },
  {
   "cell_type": "code",
   "execution_count": 4,
   "metadata": {
    "collapsed": false
   },
   "outputs": [
    {
     "name": "stdout",
     "output_type": "stream",
     "text": [
      "(500, 2) (1500, 2)\n"
     ]
    },
    {
     "data": {
      "image/png": "[encoded data removed]",
      "text/plain": [
       "<matplotlib.figure.Figure at 0x7f665bfe6160>"
      ]
     },
     "metadata": {},
     "output_type": "display_data"
    }
   ],
   "source": [
    "import numpy as np\n",
    "import matplotlib.pyplot as plt\n",
    "\n",
    "Nclass = 500\n",
    "\n",
    "X1 = np.random.randn(Nclass, 2) + np.array([0, -2])\n",
    "X2 = np.random.randn(Nclass, 2) + np.array([2, 2])\n",
    "X3 = np.random.randn(Nclass, 2) + np.array([-2, 2])\n",
    "X = np.vstack([X1, X2, X3])\n",
    "\n",
    "Y = np.array([0]*Nclass + [1]*Nclass + [2]*Nclass)\n",
    "\n",
    "print(X1.shape, X.shape)\n",
    "plt.scatter(X[:,0], X[:,1], c=Y, s=100, alpha=0.5)\n",
    "plt.show()"
   ]
  },
  {
   "cell_type": "code",
   "execution_count": 5,
   "metadata": {
    "collapsed": true
   },
   "outputs": [],
   "source": [
    "# randomly initialize weights\n",
    "D = 2 # dimensionality of input\n",
    "M = 3 # hidden layer size\n",
    "K = 3 # number of classes\n",
    "\n",
    "W1 = np.random.randn(D, M)\n",
    "b1 = np.random.randn(M)\n",
    "W2 = np.random.randn(M, K)\n",
    "b2 = np.random.randn(K)"
   ]
  },
  {
   "cell_type": "code",
   "execution_count": 6,
   "metadata": {
    "collapsed": true
   },
   "outputs": [],
   "source": [
    "def sigmoid(a):\n",
    "    return 1 / (1 + np.exp(-a))\n",
    "\n",
    "def forward(X, W1, b1, W2, b2):\n",
    "    Z = sigmoid(X.dot(W1) + b1)\n",
    "    A = Z.dot(W2) + b2\n",
    "    expA = np.exp(A)\n",
    "    Y = expA / expA.sum(axis=1, keepdims=True) # sum along the rows\n",
    "    return Y # indicator like shape"
   ]
  },
  {
   "cell_type": "code",
   "execution_count": 7,
   "metadata": {
    "collapsed": false
   },
   "outputs": [
    {
     "name": "stdout",
     "output_type": "stream",
     "text": [
      "(1500, 3)\n",
      "Classification rate for randomly chosen weights: 0.6366666666666667\n"
     ]
    }
   ],
   "source": [
    "P_Y_given_X = forward(X, W1, b1, W2, b2)\n",
    "P = np.argmax(P_Y_given_X, axis=1) # predictions\n",
    "\n",
    "# verify we chose the correct axis\n",
    "assert(len(P) == len(Y))\n",
    "\n",
    "print(P_Y_given_X.shape)\n",
    "print(\"Classification rate for randomly chosen weights:\", classification_rate(Y, P))"
   ]
  },
  {
   "cell_type": "markdown",
   "metadata": {},
   "source": [
    "# Backpropagation - Training"
   ]
  },
  {
   "cell_type": "code",
   "execution_count": 8,
   "metadata": {
    "collapsed": true
   },
   "outputs": [],
   "source": [
    "def derivative_w2(Z, T, Y):\n",
    "    N, K = T.shape\n",
    "    M = Z.shape[1] # H is (N, M)\n",
    "\n",
    "    # # slow\n",
    "    # ret1 = np.zeros((M, K))\n",
    "    # for n in xrange(N):\n",
    "    #     for m in xrange(M):\n",
    "    #         for k in xrange(K):\n",
    "    #             ret1[m,k] += (T[n,k] - Y[n,k])*Z[n,m]\n",
    "\n",
    "    # # a bit faster - let's not loop over m\n",
    "    # ret2 = np.zeros((M, K))\n",
    "    # for n in xrange(N):\n",
    "    #     for k in xrange(K):\n",
    "    #         ret2[:,k] += (T[n,k]* - Y[n,k])*Z[n,:]\n",
    "\n",
    "    # assert(np.abs(ret1 - ret2).sum() < 0.00001)\n",
    "\n",
    "    # # even faster  - let's not loop over k either\n",
    "    # ret3 = np.zeros((M, K))\n",
    "    # for n in xrange(N): # slow way first\n",
    "    #     ret3 += np.outer( Z[n], T[n] - Y[n] )\n",
    "\n",
    "    # assert(np.abs(ret1 - ret3).sum() < 0.00001)\n",
    "\n",
    "    # fastest - let's not loop over anything\n",
    "    ret4 = Z.T.dot(T - Y)\n",
    "    # assert(np.abs(ret1 - ret4).sum() < 0.00001)\n",
    "\n",
    "    return ret4\n",
    "\n",
    "def derivative_w1(X, Z, T, Y, W2):\n",
    "    N, D = X.shape\n",
    "    M, K = W2.shape\n",
    "\n",
    "    # slow way first\n",
    "    # ret1 = np.zeros((X.shape[1], M))\n",
    "    # for n in xrange(N):\n",
    "    #     for k in xrange(K):\n",
    "    #         for m in xrange(M):\n",
    "    #             for d in xrange(D):\n",
    "    #                 ret1[d,m] += (T[n,k] - Y[n,k])*W2[m,k]*Z[n,m]*(1 - Z[n,m])*X[n,d]\n",
    "\n",
    "    # fastest\n",
    "    dZ = (T - Y).dot(W2.T) * Z * (1 - Z)\n",
    "    ret2 = X.T.dot(dZ)\n",
    "\n",
    "    # assert(np.abs(ret1 - ret2).sum() < 0.00001)\n",
    "\n",
    "    return ret2\n",
    "\n",
    "def derivative_b2(T, Y):\n",
    "    return (T - Y).sum(axis=0)\n",
    "\n",
    "\n",
    "def derivative_b1(T, Y, W2, Z):\n",
    "    return ((T - Y).dot(W2.T) * Z * (1 - Z)).sum(axis=0)\n"
   ]
  },
  {
   "cell_type": "code",
   "execution_count": 9,
   "metadata": {
    "collapsed": true
   },
   "outputs": [],
   "source": [
    "np.random.seed(1)\n",
    "\n",
    "def forward(X, W1, b1, W2, b2):\n",
    "    Z = 1 / (1 + np.exp(-X.dot(W1) - b1))\n",
    "    A = Z.dot(W2) + b2\n",
    "    expA = np.exp(A)\n",
    "    Y = expA / expA.sum(axis=1, keepdims=True) # sum along the rows\n",
    "    return Y, Z\n",
    "\n",
    "def cost(T, Y):\n",
    "    tot = T * np.log(Y)\n",
    "    return tot.sum()"
   ]
  },
  {
   "cell_type": "code",
   "execution_count": 10,
   "metadata": {
    "collapsed": false
   },
   "outputs": [
    {
     "name": "stdout",
     "output_type": "stream",
     "text": [
      "cost:-3147.181, classification_rate: 0.269\n",
      "cost:-870.712, classification_rate: 0.787\n",
      "cost:-688.900, classification_rate: 0.955\n",
      "cost:-420.975, classification_rate: 0.971\n",
      "cost:-287.407, classification_rate: 0.972\n",
      "cost:-226.968, classification_rate: 0.973\n",
      "cost:-194.475, classification_rate: 0.971\n",
      "cost:-174.813, classification_rate: 0.971\n",
      "cost:-161.884, classification_rate: 0.971\n",
      "cost:-152.856, classification_rate: 0.971\n"
     ]
    },
    {
     "data": {
      "image/png": "[encoded data removed]",
      "text/plain": [
       "<matplotlib.figure.Figure at 0x7f66472ff358>"
      ]
     },
     "metadata": {},
     "output_type": "display_data"
    }
   ],
   "source": [
    "Nclass = 500\n",
    "D = 2 # dimensionality of input\n",
    "M = 3 # hidden layer size\n",
    "K = 3 # number of classes\n",
    "\n",
    "X1 = np.random.randn(Nclass, D) + np.array([0, -2])\n",
    "X2 = np.random.randn(Nclass, D) + np.array([2, 2])\n",
    "X3 = np.random.randn(Nclass, D) + np.array([-2, 2])\n",
    "X = np.vstack([X1, X2, X3])\n",
    "\n",
    "Y = np.array([0]*Nclass + [1]*Nclass + [2]*Nclass)\n",
    "T = y2indicator(Y, K=K)\n",
    "\n",
    "\n",
    "# randomly initialize weights\n",
    "W1 = np.random.randn(D, M)\n",
    "b1 = np.random.randn(M)\n",
    "W2 = np.random.randn(M, K)\n",
    "b2 = np.random.randn(K)\n",
    "\n",
    "\n",
    "learning_rate = 10e-7\n",
    "costs = []\n",
    "for epoch in range(100000):\n",
    "    output, hidden = forward(X, W1, b1, W2, b2)\n",
    "    if epoch % 10000 == 0:\n",
    "        c = cost(T, output)\n",
    "        P = np.argmax(output, axis=1)\n",
    "        r = classification_rate(Y, P)\n",
    "        print(\"cost:{:.3f}, classification_rate: {:.3f}\".format(c,r))\n",
    "        costs.append(c)\n",
    "\n",
    "    # this is gradient ASCENT, not DESCENT\n",
    "    # be comfortable with both!\n",
    "    # oldW2 = W2.copy()\n",
    "    W2 += learning_rate * derivative_w2(hidden, T, output)\n",
    "    b2 += learning_rate * derivative_b2(T, output)\n",
    "    W1 += learning_rate * derivative_w1(X, hidden, T, output, W2)\n",
    "    b1 += learning_rate * derivative_b1(T, output, W2, hidden)\n",
    "\n",
    "plt.plot(costs)\n",
    "plt.show()"
   ]
  },
  {
   "cell_type": "markdown",
   "metadata": {},
   "source": [
    "# Tensorflow"
   ]
  },
  {
   "cell_type": "code",
   "execution_count": 11,
   "metadata": {
    "collapsed": false
   },
   "outputs": [],
   "source": [
    "import tensorflow as tf"
   ]
  },
  {
   "cell_type": "code",
   "execution_count": 12,
   "metadata": {
    "collapsed": true
   },
   "outputs": [],
   "source": [
    "Nclass = 500\n",
    "D = 2 # dimensionality of input\n",
    "M = 3 # hidden layer size\n",
    "K = 3 # number of classes\n",
    "\n",
    "X1 = np.random.randn(Nclass, D) + np.array([0, -2])\n",
    "X2 = np.random.randn(Nclass, D) + np.array([2, 2])\n",
    "X3 = np.random.randn(Nclass, D) + np.array([-2, 2])\n",
    "X = np.vstack([X1, X2, X3]).astype(np.float32)\n",
    "\n",
    "Y = np.array([0]*Nclass + [1]*Nclass + [2]*Nclass)\n",
    "T = y2indicator(Y, K=K)"
   ]
  },
  {
   "cell_type": "code",
   "execution_count": 13,
   "metadata": {
    "collapsed": false
   },
   "outputs": [
    {
     "name": "stdout",
     "output_type": "stream",
     "text": [
      "Accuracy: 0.333333333333\n",
      "Accuracy: 0.971333333333\n",
      "Accuracy: 0.971333333333\n",
      "Accuracy: 0.971333333333\n",
      "Accuracy: 0.971333333333\n",
      "Accuracy: 0.971333333333\n",
      "Accuracy: 0.971333333333\n",
      "Accuracy: 0.971333333333\n",
      "Accuracy: 0.971333333333\n",
      "Accuracy: 0.971333333333\n"
     ]
    }
   ],
   "source": [
    "# tensor flow variables are not the same as regular Python variables\n",
    "def init_weights(shape):\n",
    "    return tf.Variable(tf.random_normal(shape, stddev=0.01))\n",
    "\n",
    "\n",
    "def forward(X, W1, b1, W2, b2):\n",
    "    Z = tf.nn.sigmoid(tf.matmul(X, W1) + b1)\n",
    "    return tf.matmul(Z, W2) + b2\n",
    "\n",
    "\n",
    "tfX = tf.placeholder(tf.float32, [None, D])\n",
    "tfY = tf.placeholder(tf.float32, [None, K])\n",
    "\n",
    "W1 = init_weights([D, M]) # create symbolic variables\n",
    "b1 = init_weights([M])\n",
    "W2 = init_weights([M, K])\n",
    "b2 = init_weights([K])\n",
    "\n",
    "logits = forward(tfX, W1, b1, W2, b2)\n",
    "\n",
    "cost = tf.reduce_mean(\n",
    "  tf.nn.softmax_cross_entropy_with_logits(\n",
    "    labels=tfY,\n",
    "    logits=logits\n",
    "  )\n",
    ") # compute costs\n",
    "# WARNING: This op expects unscaled logits,\n",
    "# since it performs a softmax on logits\n",
    "# internally for efficiency.\n",
    "# Do not call this op with the output of softmax,\n",
    "# as it will produce incorrect results.\n",
    "\n",
    "train_op = tf.train.GradientDescentOptimizer(0.05).minimize(cost) # construct an optimizer\n",
    "# input parameter is the learning rate\n",
    "\n",
    "predict_op = tf.argmax(logits, 1)\n",
    "# input parameter is the axis on which to choose the max\n",
    "\n",
    "# just stuff that has to be done\n",
    "sess = tf.Session()\n",
    "init = tf.global_variables_initializer()\n",
    "sess.run(init)\n",
    "\n",
    "for i in range(100000):\n",
    "    sess.run(train_op, feed_dict={tfX: X, tfY: T})\n",
    "    pred = sess.run(predict_op, feed_dict={tfX: X, tfY: T})\n",
    "    if i % 10000 == 0:\n",
    "        print(\"Accuracy:\", np.mean(Y == pred))\n"
   ]
  },
  {
   "cell_type": "markdown",
   "metadata": {
    "collapsed": true
   },
   "source": [
    "# Sklearn"
   ]
  },
  {
   "cell_type": "code",
   "execution_count": 14,
   "metadata": {
    "collapsed": true
   },
   "outputs": [],
   "source": [
    "from sklearn.neural_network import MLPClassifier\n",
    "from sklearn.utils import shuffle"
   ]
  },
  {
   "cell_type": "code",
   "execution_count": 16,
   "metadata": {
    "collapsed": true
   },
   "outputs": [],
   "source": [
    "Nclass = 500\n",
    "D = 2 # dimensionality of input\n",
    "M = 3 # hidden layer size\n",
    "K = 3 # number of classes\n",
    "\n",
    "X1 = np.random.randn(Nclass, D) + np.array([0, -2])\n",
    "X2 = np.random.randn(Nclass, D) + np.array([2, 2])\n",
    "X3 = np.random.randn(Nclass, D) + np.array([-2, 2])\n",
    "X = np.vstack([X1, X2, X3])\n",
    "\n",
    "Y = np.array([0]*Nclass + [1]*Nclass + [2]*Nclass)\n",
    "T = y2indicator(Y, K=K)\n",
    "\n",
    "X, Y = shuffle(X, Y)\n",
    "Ntrain = int(0.7*len(X))\n",
    "Xtrain, Ytrain = X[:Ntrain], Y[:Ntrain]\n",
    "Xtest, Ytest = X[Ntrain:], Y[Ntrain:]"
   ]
  },
  {
   "cell_type": "code",
   "execution_count": 21,
   "metadata": {
    "collapsed": false
   },
   "outputs": [
    {
     "name": "stdout",
     "output_type": "stream",
     "text": [
      "train accuracy: 0.966666666667 test accuracy: 0.977777777778\n"
     ]
    }
   ],
   "source": [
    "# create the neural network\n",
    "model = MLPClassifier(hidden_layer_sizes=(100, 50, 30), max_iter=10000)\n",
    "\n",
    "# train the neural network\n",
    "model.fit(Xtrain, Ytrain)\n",
    "\n",
    "# print the train and test accuracy\n",
    "train_accuracy = model.score(Xtrain, Ytrain)\n",
    "test_accuracy = model.score(Xtest, Ytest)\n",
    "print(\"train accuracy:\", train_accuracy, \"test accuracy:\", test_accuracy)"
   ]
  },
  {
   "cell_type": "code",
   "execution_count": null,
   "metadata": {
    "collapsed": true
   },
   "outputs": [],
   "source": []
  }
 ],
 "metadata": {
  "kernelspec": {
   "display_name": "Python 3",
   "language": "python",
   "name": "python3"
  },
  "language_info": {
   "codemirror_mode": {
    "name": "ipython",
    "version": 3
   },
   "file_extension": ".py",
   "mimetype": "text/x-python",
   "name": "python",
   "nbconvert_exporter": "python",
   "pygments_lexer": "ipython3",
   "version": "3.6.1"
  }
 },
 "nbformat": 4,
 "nbformat_minor": 2
}
