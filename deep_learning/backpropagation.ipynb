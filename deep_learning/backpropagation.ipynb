{
 "cells": [
  {
   "cell_type": "code",
   "execution_count": 1,
   "metadata": {
    "collapsed": true
   },
   "outputs": [],
   "source": [
    "import numpy as np\n",
    "import pandas as pd\n",
    "import matplotlib.pyplot as plt"
   ]
  },
  {
   "cell_type": "code",
   "execution_count": 4,
   "metadata": {
    "collapsed": true
   },
   "outputs": [],
   "source": [
    "def derivative_w2(Z, T, Y):\n",
    "    N, K = T.shape\n",
    "    M = Z.shape[1]\n",
    "    \n",
    "    # very slow\n",
    "    ret1 = np.zeros((M, K))\n",
    "    for n in range(N):\n",
    "        for m in range(M):\n",
    "            for k in range(K):\n",
    "                ret1[m,k] += (T[n,k] -Y[n,k])*Z[n,m]\n",
    "    # slow\n",
    "    ret2 = np.zeros((M, K))\n",
    "    for n in range(N):\n",
    "        for k in range(k):\n",
    "            ret2[:,k] += (T[n,k] -Y[n,k])*Z[n,:]\n",
    "    # still slow\n",
    "    ret3 = np.zeros((M, K))\n",
    "    for n in range(N):\n",
    "        ret3[:,k] += np.outer(Z[n], T[n] -Y[n] )\n",
    "    return ret3\n",
    "        \n",
    "def derivative_w1(X, Z, T, Y, W2):                                              \n",
    "    N, D = X.shape                                                              \n",
    "    M, K = W2.shape                                                             \n",
    "                                                                                \n",
    "    # slow way first                                                            \n",
    "    ret1 = np.zeros((X.shape[1], M))                                          \n",
    "    for n in range(N):                                                       \n",
    "        for k in range(K):                                                   \n",
    "            for m in range(M):                                               \n",
    "                for d in range(D):                                           \n",
    "                    ret1[d,m] += (T[n,k] - Y[n,k])*W2[m,k]*Z[n,m]*(1 - Z[n,m])*X[n,d]                            \n",
    "                                                                                \n",
    "    return ret1"
   ]
  },
  {
   "cell_type": "code",
   "execution_count": 3,
   "metadata": {
    "collapsed": true
   },
   "outputs": [],
   "source": [
    "def derivative_w2(Z, T, Y):                                                     \n",
    "    return Z.T.dot(T - Y)\n",
    "\n",
    "def derivative_w1(X, W2, Z, T, Y):\n",
    "    dZ = (T - Y).dot(W2.T) * Z * (1 - Z)                                        \n",
    "    return X.T.dot(dZ)\n",
    "\n",
    "def derivative_b2(T, Y):                                                        \n",
    "    return (T - Y).sum(axis=0)                                                  \n",
    "                                                                                                                                                          \n",
    "def derivative_b1(W2, Z, T, Y):                                                 \n",
    "    return ((T - Y).dot(W2.T) * Z * (1 - Z)).sum(axis=0)                        \n",
    "                                                                                                                                                          \n",
    "def cost(T, Y):\n",
    "    return (T*np.log(Y)).sum()"
   ]
  },
  {
   "cell_type": "code",
   "execution_count": 13,
   "metadata": {
    "collapsed": true
   },
   "outputs": [],
   "source": [
    "def sigmoid(a):\n",
    "    return 1.0 / ( 1.0 + np.exp(-a))\n",
    "\n",
    "def softmax(a):                                                                 \n",
    "    expA = np.exp(a)                                                            \n",
    "    return expA / expA.sum(axis=1, keepdims=True)\n",
    "                  \n",
    "def forward(X, W1, b1, W2, b2):\n",
    "    \"\"\" Sigmoid non-linearity in Hidden layers. \"\"\"\n",
    "    # value at the hidden layer\n",
    "    #Z = sigmoid( X.dot(W1)+b1 )\n",
    "    Z = np.tanh( X.dot(W1)+b1 )\n",
    "    # softmax at the next layer\n",
    "    Y = softmax( Z.dot(W2)+b2 )\n",
    "    return Y, Z\n",
    "\n",
    "def classification_rate(target_labels, predicted_labels):\n",
    "    return np.mean(target_labels==predicted_labels)\n",
    "\n",
    "def scatter(x, y):\n",
    "    plt.scatter(x[:,0], x[:,1], c=y, s=100, alpha=0.5)\n",
    "    plt.show();"
   ]
  },
  {
   "cell_type": "code",
   "execution_count": 19,
   "metadata": {
    "collapsed": false
   },
   "outputs": [],
   "source": [
    "Nclass = 500 # 500 samples per class\n",
    "D = 2 # dimensions\n",
    "M = 3 # Number of Hidden layers\n",
    "K = 3 # number of classes\n",
    "\n",
    "W1 = np.random.randn(D, M)\n",
    "b1 = np.random.randn(M)\n",
    "W2 = np.random.randn(M, K)\n",
    "b2 = np.random.randn(K)\n",
    "\n",
    "# 3 gaussian clouds\n",
    "X1 = np.random.randn(Nclass, 2) + np.array([0, -2])\n",
    "X2 = np.random.randn(Nclass, 2) + np.array([2, 2])\n",
    "X3 = np.random.randn(Nclass, 2) + np.array([-2, 2])\n",
    "X = np.vstack([X1, X2, X3])\n",
    "\n",
    "# create labels\n",
    "Y = np.array([0]*Nclass + [1]*Nclass + [2]*Nclass)\n",
    "N = len(Y)\n",
    "# Indicator matrix\n",
    "T = np.zeros((N,K))\n",
    "for i in range(N):\n",
    "    T[i, Y[i]] = 1"
   ]
  },
  {
   "cell_type": "code",
   "execution_count": 20,
   "metadata": {
    "collapsed": false
   },
   "outputs": [
    {
     "name": "stdout",
     "output_type": "stream",
     "text": [
      "cost: -1614.9483644689942,\tclassification_rate:0.6206666666666667\n",
      "cost: -1140.640131054808,\tclassification_rate:0.6026666666666667\n",
      "cost: -1003.8957817877549,\tclassification_rate:0.726\n",
      "cost: -1016.1959260874412,\tclassification_rate:0.8053333333333333\n",
      "cost: -1043.5589543339365,\tclassification_rate:0.7173333333333334\n",
      "cost: -1024.392205669114,\tclassification_rate:0.712\n",
      "cost: -960.4276693947314,\tclassification_rate:0.7873333333333333\n",
      "cost: -1028.3413810804964,\tclassification_rate:0.716\n",
      "cost: -902.6125948177154,\tclassification_rate:0.8926666666666667\n",
      "cost: -792.4302706326428,\tclassification_rate:0.892\n"
     ]
    },
    {
     "data": {
      "image/png": "[encoded data removed]",
      "text/plain": [
       "<matplotlib.figure.Figure at 0x7ffa271a33c8>"
      ]
     },
     "metadata": {},
     "output_type": "display_data"
    }
   ],
   "source": [
    "costs = []\n",
    "epochs = 100000\n",
    "learning_rate = 1.0e-7\n",
    "for epoch in range(epochs):\n",
    "    output, hidden = forward(X, W1, b1, W2, b2)\n",
    "    if epoch%10000==0:\n",
    "        c = cost(T, output)\n",
    "        P = np.argmax(output, axis=1)\n",
    "        r = classification_rate(Y, P)\n",
    "        print( \"cost: {},\\tclassification_rate:{}\".format(c, r))\n",
    "        costs.append(c)\n",
    "    # this is gradient ASCENT, not DESCENT                                  \n",
    "    # be comfortable with both!                                             \n",
    "    # oldW2 = W2.copy()                                                     \n",
    "    W2 += learning_rate * derivative_w2(hidden, T, output)                  \n",
    "    b2 += learning_rate * derivative_b2(T, output)                          \n",
    "    W1 += learning_rate * derivative_w1(X, W2, hidden, T, output)           \n",
    "    b1 += learning_rate * derivative_b1(W2, hidden, T, output)\n",
    "plt.plot(costs)                                                             \n",
    "plt.show();"
   ]
  },
  {
   "cell_type": "code",
   "execution_count": null,
   "metadata": {
    "collapsed": true
   },
   "outputs": [],
   "source": []
  }
 ],
 "metadata": {
  "kernelspec": {
   "display_name": "Python 3",
   "language": "python",
   "name": "python3"
  },
  "language_info": {
   "codemirror_mode": {
    "name": "ipython",
    "version": 3
   },
   "file_extension": ".py",
   "mimetype": "text/x-python",
   "name": "python",
   "nbconvert_exporter": "python",
   "pygments_lexer": "ipython3",
   "version": "3.6.0"
  }
 },
 "nbformat": 4,
 "nbformat_minor": 2
}
