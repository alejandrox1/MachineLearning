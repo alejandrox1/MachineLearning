{
 "cells": [
  {
   "cell_type": "markdown",
   "metadata": {},
   "source": [
    "* [parity pairs](https://github.com/lazyprogrammer/machine_learning_examples/blob/master/rnn_class/util.py)\n",
    "* [MLP](https://github.com/lazyprogrammer/machine_learning_examples/blob/master/rnn_class/mlp_parity.py)\n",
    "* [RNN](https://github.com/lazyprogrammer/machine_learning_examples/blob/master/rnn_class/srn_parity.py)\n",
    "\n",
    "**Parity problem**\n",
    "\n",
    "Data transmission in communication systems.\n",
    "Suppose a bit gets reversed - how can we detect this?\n",
    "Add a parity bit t the end of each message.\n",
    "\n",
    "Require that each message has an even number of 1s.\n",
    "If the message has odd number of 1s, add a parity bit to make total even.\n",
    "If message has an even number os 1s, add a parity bit to 0.\n",
    "\n",
    "* If 0 and see 1, switch to 1.\n",
    "* If 1 and see 1, switch to 0.\n",
    "* If see 0, keep the same state.\n",
    "\n"
   ]
  },
  {
   "cell_type": "code",
   "execution_count": 158,
   "metadata": {
    "collapsed": true
   },
   "outputs": [],
   "source": [
    "import numpy as np\n",
    "import matplotlib.pyplot as plt\n",
    "from sklearn.utils import shuffle\n",
    "import theano\n",
    "import theano.tensor as T"
   ]
  },
  {
   "cell_type": "code",
   "execution_count": 159,
   "metadata": {
    "collapsed": true
   },
   "outputs": [],
   "source": [
    "def init_weight(Mi, Mo):\n",
    "    return np.random.randn(Mi, Mo) / np.sqrt(Mi+Mo)    \n",
    "\n",
    "def all_parity_pairs(nbit):\n",
    "    # total number of samples (Ntotal) will be a multiple of 100\n",
    "    N = 2**nbit\n",
    "    remainder = 100 - (N % 100)\n",
    "    Ntotal = N + remainder\n",
    "    X = np.zeros((Ntotal, nbit))\n",
    "    Y = np.zeros(Ntotal)\n",
    "    for i in range(Ntotal):\n",
    "        ii = i % N\n",
    "        # now generate the ith sample\n",
    "        for j in range(nbit):\n",
    "            if ii % (2**(j+1)) != 0:\n",
    "                ii -= 2**j\n",
    "                X[i,j] = 1\n",
    "        Y[i] = X[i].sum() % 2\n",
    "    return X, Y\n",
    "\n",
    "def all_parity_pairs_with_sequence_labels(nbit):\n",
    "    X, Y = all_parity_pairs(nbit)\n",
    "    N, t = X.shape\n",
    "    # we want every time step to have a label\n",
    "    Y_t = np.zeros(X.shape, dtype=np.int32)\n",
    "    for n in range(N):\n",
    "        ones_count = 0\n",
    "        for i in range(t):\n",
    "            if X[n,i] == 1:\n",
    "                ones_count += 1\n",
    "            if ones_count % 2 == 1:\n",
    "                Y_t[n,i] = 1\n",
    "\n",
    "    X = X.reshape(N, t, 1).astype(np.float32)\n",
    "    return X, Y_t"
   ]
  },
  {
   "cell_type": "markdown",
   "metadata": {},
   "source": [
    "# MLP"
   ]
  },
  {
   "cell_type": "code",
   "execution_count": 160,
   "metadata": {
    "collapsed": true
   },
   "outputs": [],
   "source": [
    "class HiddenLayer(object):\n",
    "    def __init__(self, M1, M2, an_id):\n",
    "        self.id = an_id\n",
    "        self.M1 = M1\n",
    "        self.M2 = M2\n",
    "        W = init_weight(M1, M2)\n",
    "        b = np.zeros(M2)\n",
    "        self.W = theano.shared(W, 'W_{}'.format(self.id))\n",
    "        self.b = theano.shared(b, 'b_{}'.format(self.id))\n",
    "        self.params = [self.W, self.b]\n",
    "\n",
    "    def forward(self, X):\n",
    "        return T.nnet.relu(X.dot(self.W)+self.b)"
   ]
  },
  {
   "cell_type": "code",
   "execution_count": 161,
   "metadata": {
    "collapsed": true
   },
   "outputs": [],
   "source": [
    "class ANN:\n",
    "    def __init__(self, hidden_layer_sizes):\n",
    "        self.hidden_layer_sizes = hidden_layer_sizes\n",
    "\n",
    "    def fit(self, X, Y, learning_rate=10e-3, mu=0.99, reg=1.0e-11, \n",
    "            epochs=400, batch_size=20, print_period=1, show_fig=False):\n",
    "\n",
    "        X = X.astype(np.float32)\n",
    "        Y = Y.astype(np.int32)\n",
    "        \n",
    "        # Initialize hidden layers\n",
    "        N, D = X.shape\n",
    "        K = len(set(Y))\n",
    "        self.hidden_layers = []\n",
    "        M1 = D\n",
    "        count = 0\n",
    "        for M2 in self.hidden_layer_sizes:\n",
    "            h = HiddenLayer(M1, M2, count)\n",
    "            self.hidden_layers.append(h)\n",
    "            M1 = M2\n",
    "            count += 1\n",
    "        W = init_weight(M1, K)\n",
    "        b = np.zeros(K)\n",
    "        self.W = theano.shared(W, 'W_logreg')\n",
    "        self.b = theano.shared(b, 'b_logreg')\n",
    "        \n",
    "        self.params = [self.W, self.b]\n",
    "        for h in self.hidden_layers:\n",
    "            self.params += h.params\n",
    "            \n",
    "        # Momentum\n",
    "        dparams = [ theano.shared(np.zeros(p.get_value().shape)) for p in self.params ]\n",
    "        \n",
    "        # RMSProp\n",
    "        cache = [ theano.shared(np.zeros(p.get_value().shape)) for p in self.params ]\n",
    "        \n",
    "        # Theano funcions and variables\n",
    "        thX = T.matrix('X')\n",
    "        thY = T.ivector('Y')\n",
    "        pY = self.forward(thX)\n",
    "        \n",
    "        rcost = reg * T.sum([(p*p).sum() for p in self.params])\n",
    "        cost = -T.mean( T.log(pY[T.arange(thY.shape[0]), thY]) ) + rcost\n",
    "        prediction = self.predict(thX)\n",
    "        grads = T.grad(cost, self.params)\n",
    "        \n",
    "        # momentum only\n",
    "        updates = [\n",
    "            (p, p + mu*dp - learning_rate*g) for p, dp, g in zip(self.params, dparams, grads)\n",
    "        ] + [\n",
    "            (dp, mu*dp - learning_rate*g) for dp, g in zip(dparams, grads)\n",
    "        ]\n",
    "        \n",
    "        train_op = theano.function(\n",
    "            inputs=[thX, thY],\n",
    "            outputs=[cost, prediction],\n",
    "            updates=updates,\n",
    "        )\n",
    "        \n",
    "        n_batches = N//batch_size\n",
    "        costs = []\n",
    "        for i in range(epochs):\n",
    "            X, Y = shuffle(X, Y)\n",
    "            for j in range(n_batches):\n",
    "                Xbatch = X[j*batch_size:(j+1)*batch_size]\n",
    "                Ybatch = Y[j*batch_size:(j+1)*batch_size]\n",
    "                \n",
    "                c, p = train_op(Xbatch, Ybatch)\n",
    "            if i%print_period==0:\n",
    "                c = float(np.array_str(c))\n",
    "                costs.append(c)\n",
    "                e = np.mean(Ybatch!=p)\n",
    "                \n",
    "                print('cost: {:.3f}, error: {:.3f}'.format(c,e))\n",
    "        if show_fig:\n",
    "            plt.plot(costs)\n",
    "            plt.show()\n",
    "            \n",
    "    def forward(self, X):\n",
    "        Z = X\n",
    "        for h in self.hidden_layers:\n",
    "            Z = h.forward(Z)\n",
    "        return T.nnet.softmax( Z.dot(self.W)+self.b )\n",
    "    \n",
    "    def predict(self, X):\n",
    "        pY = self.forward(X)\n",
    "        return T.argmax(pY, axis=1)"
   ]
  },
  {
   "cell_type": "code",
   "execution_count": 162,
   "metadata": {
    "collapsed": false
   },
   "outputs": [
    {
     "name": "stdout",
     "output_type": "stream",
     "text": [
      "cost: 0.695, error: 0.400\n",
      "cost: 0.688, error: 0.200\n",
      "cost: 0.647, error: 0.150\n",
      "cost: 0.505, error: 0.050\n",
      "cost: 0.299, error: 0.000\n",
      "cost: 0.131, error: 0.000\n"
     ]
    },
    {
     "data": {
      "image/png": "[encoded data removed]",
      "text/plain": [
       "<matplotlib.figure.Figure at 0x7f57924e0e48>"
      ]
     },
     "metadata": {},
     "output_type": "display_data"
    }
   ],
   "source": [
    "X, Y = all_parity_pairs(12)\n",
    "model = ANN([2048])\n",
    "model.fit(X, Y, learning_rate=10e-5, print_period=50, epochs=300, show_fig=True)"
   ]
  },
  {
   "cell_type": "code",
   "execution_count": 163,
   "metadata": {
    "collapsed": false,
    "scrolled": true
   },
   "outputs": [
    {
     "name": "stdout",
     "output_type": "stream",
     "text": [
      "cost: 0.710, error: 0.700\n",
      "cost: 0.675, error: 0.400\n",
      "cost: 0.027, error: 0.000\n",
      "cost: 0.001, error: 0.000\n",
      "cost: 0.000, error: 0.000\n"
     ]
    },
    {
     "data": {
      "image/png": "[encoded data removed]",
      "text/plain": [
       "<matplotlib.figure.Figure at 0x7f5778f70710>"
      ]
     },
     "metadata": {},
     "output_type": "display_data"
    }
   ],
   "source": [
    "X, Y = all_parity_pairs(12)\n",
    "model = ANN([1024]*2)\n",
    "model.fit(X, Y, learning_rate=10e-4, print_period=20, epochs=100, show_fig=True)"
   ]
  },
  {
   "cell_type": "markdown",
   "metadata": {},
   "source": [
    "# RNN - simple Recurrent Unit"
   ]
  },
  {
   "cell_type": "code",
   "execution_count": 165,
   "metadata": {
    "collapsed": false
   },
   "outputs": [],
   "source": [
    "class SimpleRNN:\n",
    "    def __init__(self, M):\n",
    "        self.M = M\n",
    "        \n",
    "    def fit(self, X, Y, learning_rate=10e-1, mu=0.99, reg=1.0, print_period=20,\n",
    "            activation=T.tanh, epochs=100, show_fig=False):\n",
    "        D = X[0].shape[1] # X is of size N x T(n) x D\n",
    "        K = len(set(Y.flatten())) # sequence of targets\n",
    "        N = len(Y)\n",
    "        M = self.M\n",
    "        self.f = activation\n",
    "        \n",
    "        # Intial weights\n",
    "        Wx = init_weight(D, M)\n",
    "        Wh = init_weight(M, M)\n",
    "        bh = np.zeros(M)\n",
    "        h0 = np.zeros(M)\n",
    "        Wo = init_weight(M, K)\n",
    "        bo = np.zeros(K)\n",
    "        \n",
    "        self.Wx = theano.shared(Wx)\n",
    "        self.Wh = theano.shared(Wh)\n",
    "        self.bh = theano.shared(bh)\n",
    "        self.h0 = theano.shared(h0)\n",
    "        self.Wo = theano.shared(Wo)\n",
    "        self.bo = theano.shared(bo)\n",
    "        self.params = [self.Wx, self.Wh, self.bh, self.h0, self.Wo, self.bo]\n",
    "        \n",
    "        thX = T.fmatrix('X')\n",
    "        thY = T.ivector('Y')\n",
    "        \n",
    "        def recurrence(x_t, h_t1): # x(t), h(t-1)\n",
    "            # returns h(t), y(t)\n",
    "            h_t = self.f(x_t.dot(self.Wx) + h_t1.dot(self.Wh) + self.bh)\n",
    "            y_t = T.nnet.softmax(h_t.dot(self.Wo) + self.bo)\n",
    "            return h_t, y_t\n",
    "        \n",
    "        [h, y], _ = theano.scan(\n",
    "            fn=recurrence,\n",
    "            sequences=thX,\n",
    "            outputs_info=[self.h0, None],\n",
    "            n_steps=thX.shape[0],\n",
    "        )\n",
    "\n",
    "        py_x = y[:, 0, :]\n",
    "        prediction = T.argmax(py_x, axis=1)\n",
    "        \n",
    "        cost = -T.mean(T.log(py_x[T.arange(thY.shape[0]), thY]))\n",
    "        grads = T.grad(cost, self.params)\n",
    "        dparams = [theano.shared(p.get_value()*0) for p in self.params]\n",
    "        \n",
    "        updates = [\n",
    "            (p, p + mu*dp - learning_rate*g) for p, dp, g in zip(self.params, dparams, grads)\n",
    "        ] + [ # momentum updates\n",
    "            (dp, mu*dp - learning_rate*g) for dp, g in zip(dparams, grads)\n",
    "        ]\n",
    "        \n",
    "        self.predict_op = theano.function(\n",
    "            inputs=[thX],\n",
    "            outputs=prediction\n",
    "        )\n",
    "        self.train_op = theano.function(\n",
    "            inputs=[thX, thY],\n",
    "            outputs=[cost, prediction, y],\n",
    "            updates=updates\n",
    "        )\n",
    "        \n",
    "        costs = []\n",
    "        for i in range(epochs):\n",
    "            X, Y = shuffle(X, Y)\n",
    "            n_correct = 0\n",
    "            cost = 0\n",
    "            for j in range(N):\n",
    "                c, p, rout = self.train_op(X[j], Y[j])\n",
    "                cost += c\n",
    "                if p[-1]==Y[j,-1]:\n",
    "                    n_correct += 1\n",
    "            if i%print_period==0:\n",
    "                print('Cost: {:.3f}, error: {:.3f}'.format(cost, float(n_correct)/N))\n",
    "            costs.append(cost)\n",
    "            if n_correct==N:\n",
    "                break\n",
    "        if show_fig:\n",
    "            plt.plot(costs)\n",
    "            plt.show()"
   ]
  },
  {
   "cell_type": "code",
   "execution_count": 166,
   "metadata": {
    "collapsed": false
   },
   "outputs": [
    {
     "name": "stdout",
     "output_type": "stream",
     "text": [
      "Cost: 2851.615, error: 0.504\n",
      "Cost: 2826.450, error: 0.500\n",
      "Cost: 2680.538, error: 0.501\n",
      "Cost: 2620.988, error: 0.493\n",
      "Cost: 2613.769, error: 0.487\n",
      "Cost: 2609.107, error: 0.488\n",
      "Cost: 2569.162, error: 0.507\n"
     ]
    },
    {
     "data": {
      "image/png": "[encoded data removed]",
      "text/plain": [
       "<matplotlib.figure.Figure at 0x7f577814c6a0>"
      ]
     },
     "metadata": {},
     "output_type": "display_data"
    }
   ],
   "source": [
    "X, Y = all_parity_pairs_with_sequence_labels(12)\n",
    "rnn = SimpleRNN(4) # 4 hidden units\n",
    "rnn.fit(X, Y, learning_rate=10e-5, epochs=200, activation=T.nnet.sigmoid, show_fig=True)"
   ]
  },
  {
   "cell_type": "code",
   "execution_count": null,
   "metadata": {
    "collapsed": true
   },
   "outputs": [],
   "source": []
  }
 ],
 "metadata": {
  "kernelspec": {
   "display_name": "Python 3",
   "language": "python",
   "name": "python3"
  },
  "language_info": {
   "codemirror_mode": {
    "name": "ipython",
    "version": 3
   },
   "file_extension": ".py",
   "mimetype": "text/x-python",
   "name": "python",
   "nbconvert_exporter": "python",
   "pygments_lexer": "ipython3",
   "version": "3.6.0"
  }
 },
 "nbformat": 4,
 "nbformat_minor": 2
}
