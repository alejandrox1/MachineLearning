{
 "cells": [
  {
   "cell_type": "code",
   "execution_count": 22,
   "metadata": {
    "collapsed": true
   },
   "outputs": [],
   "source": [
    "import collections\n",
    "import numpy as np\n",
    "import pandas as pd\n",
    "import matplotlib.pyplot as plt\n",
    "\n",
    "import sklearn as sk\n",
    "import tensorflow as tf"
   ]
  },
  {
   "cell_type": "code",
   "execution_count": 41,
   "metadata": {
    "collapsed": true
   },
   "outputs": [],
   "source": [
    "def get_normalized_data():\n",
    "    df = pd.read_csv('../datasets/mnist/train.csv')\n",
    "    data = df.as_matrix().astype(np.float32)\n",
    "    np.random.shuffle(data)\n",
    "    Y = data[:,0]\n",
    "    X = data[:,1:]\n",
    "    mu = X.mean(axis=0)\n",
    "    std = X.std(axis=0)\n",
    "    np.place(std, std==0, 1)\n",
    "    X = (X-mu)/std\n",
    "    return X, Y"
   ]
  },
  {
   "cell_type": "code",
   "execution_count": 39,
   "metadata": {
    "collapsed": true
   },
   "outputs": [],
   "source": [
    "class HiddenLayer:\n",
    "    def __init__(self, M1, M2):\n",
    "        self.M1 = M1\n",
    "        self.M2 = M2\n",
    "        W, b = HiddenLayer.xavier_init([self.M1, self.M2])\n",
    "        self.W = tf.Variable(W)\n",
    "        self.b = tf.Variable(b)\n",
    "        self.params = [self.W, self.b]\n",
    "        \n",
    "    def forward(self, X):\n",
    "        return tf.nn.relu( tf.matmul(X,self.W)+self.b )\n",
    "    \n",
    "    @staticmethod\n",
    "    def xavier_init(size):\n",
    "        if isinstance(size, collections.Iterable):\n",
    "            xavier_stddev = 1.0 / tf.sqrt(size[0]/2.0)\n",
    "            W = tf.random_normal(shape=size, stddev=xavier_stddev)\n",
    "            W = tf.cast(W, tf.float32)\n",
    "            b = tf.zeros(size[1])\n",
    "            b = tf.cast(b, tf.float32)\n",
    "            return W, b"
   ]
  },
  {
   "cell_type": "code",
   "execution_count": 99,
   "metadata": {
    "collapsed": false
   },
   "outputs": [],
   "source": [
    "class ANN:\n",
    "    def __init__(self, hidden_layers, p_keep):\n",
    "        self.hidden_layers_sizes = hidden_layers\n",
    "        self.dropout_rates = p_keep\n",
    "        \n",
    "    def fit(self, X, Y, lr=1.0e-3, decay=0.999, momentum=0.9, epochs=300, batch_size=300, \n",
    "            split=True, print_period=50):\n",
    "        # model validation\n",
    "        X, Y = sk.utils.shuffle(X, Y)\n",
    "        X = X.astype(np.float32)\n",
    "        K = len(set(Y))\n",
    "        if split:\n",
    "            Xtrain = X[:-1000,]                                                         \n",
    "            Ytrain = Y[:-1000]                                                          \n",
    "            Xtest  = X[-1000:,]                                                         \n",
    "            Ytest  = Y[-1000:]                                                          \n",
    "            Ytrain_ind = ANN.y2indicator(Ytrain, K=K)                                            \n",
    "            Ytest_ind = ANN.y2indicator(Ytest, K=K)\n",
    "            \n",
    "        # Initialize hidden layers\n",
    "        N, D = Xtrain.shape\n",
    "        self.hidden_layers = []\n",
    "        M1 = D\n",
    "        for M2 in self.hidden_layers_sizes:\n",
    "            h = HiddenLayer(M1, M2)\n",
    "            self.hidden_layers.append(h)\n",
    "            M1 = M2\n",
    "        W, b = HiddenLayer.xavier_init([M1, K])\n",
    "        self.W = tf.Variable(W)\n",
    "        self.b = tf.Variable(b)\n",
    "        \n",
    "        # collect params\n",
    "        self.params = [self.W, self.b]\n",
    "        for h in self.hidden_layers:\n",
    "            self.params += h.params\n",
    "          \n",
    "        # set up \n",
    "        inputs = tf.placeholder(tf.float32, shape=[None, D], name='inputs')\n",
    "        labels_ind = tf.placeholder(tf.int64, shape=[None, K], name='labels_ind')\n",
    "        logits = self.forward(inputs)\n",
    "        \n",
    "        cost = tf.reduce_mean(\n",
    "            tf.nn.softmax_cross_entropy_with_logits(logits=logits, labels=labels_ind))\n",
    "        #train_op = tf.train.GradientDescentOptimizer(0.001).minimize(cost)\n",
    "        #train_op = tf.train.MomentumOptimizer(lr, momentum=mu).minimize(cost)\n",
    "        train_op = tf.train.RMSPropOptimizer(lr, decay=decay, momentum=momentum).minimize(cost)\n",
    "        prediction = self.predict(inputs)\n",
    "        \n",
    "        costs = []\n",
    "        n_batches = N//batch_size\n",
    "        init = tf.global_variables_initializer()\n",
    "        with tf.Session() as session:\n",
    "            session.run(init)\n",
    "            for i in range(epochs):\n",
    "                for j in range(n_batches):\n",
    "                    batch_range = (j*batch_size, j*batch_size + batch_size)\n",
    "                    Xbatch = Xtrain[batch_range[0]:batch_range[1], ]                \n",
    "                    Ybatch = Ytrain_ind[batch_range[0]:batch_range[1], ]\n",
    "\n",
    "                    session.run(train_op, feed_dict={inputs: Xbatch, labels_ind: Ybatch})\n",
    "                    \n",
    "                if i % print_period == 0:\n",
    "                    test_cost = session.run(cost, feed_dict={inputs: Xtest, labels_ind: Ytest_ind})\n",
    "                    predictions = session.run(prediction, feed_dict={inputs: Xtest})\n",
    "                    costs.append(test_cost)\n",
    "                    err = ANN.error(predictions, Ytest)\n",
    "                    print(\"Iteration {} out of {}. Cost: {:.3f},  err: {:.3f}\"\n",
    "                          .format(i, epochs, test_cost, err))\n",
    "        return costs\n",
    "        \n",
    "    def forward(self, X):\n",
    "        Z = X\n",
    "        Z = tf.nn.dropout(Z, self.dropout_rates[0])\n",
    "        for h, p in zip(self.hidden_layers, self.dropout_rates[1:]):\n",
    "            Z = h.forward(Z)\n",
    "            Z = tf.nn.dropout(Z, p)\n",
    "        return tf.matmul(Z,self.W)+self.b\n",
    "    \n",
    "    def predict(self, X):\n",
    "        pY = self.forward(X)\n",
    "        return tf.argmax(pY, 1)\n",
    "    \n",
    "    @staticmethod\n",
    "    def error(p, t):\n",
    "        return np.mean(p!=t)\n",
    "    \n",
    "    @staticmethod\n",
    "    def y2indicator(Y, K=10): # K=10 for MNIST\n",
    "        N = len(Y)\n",
    "        Y = Y.astype(np.int32)\n",
    "        ind = np.zeros((N, K))\n",
    "        for i in range(N):\n",
    "            ind[i, Y[i]] = 1\n",
    "        return ind"
   ]
  },
  {
   "cell_type": "code",
   "execution_count": 100,
   "metadata": {
    "collapsed": false,
    "scrolled": false
   },
   "outputs": [
    {
     "name": "stdout",
     "output_type": "stream",
     "text": [
      "Iteration 0 out of 100. Cost: 4.042,  err: 0.900\n",
      "Iteration 10 out of 100. Cost: 1.714,  err: 0.525\n",
      "Iteration 20 out of 100. Cost: 0.661,  err: 0.212\n",
      "Iteration 30 out of 100. Cost: 0.516,  err: 0.139\n",
      "Iteration 40 out of 100. Cost: 0.443,  err: 0.127\n",
      "Iteration 50 out of 100. Cost: 0.413,  err: 0.108\n",
      "Iteration 60 out of 100. Cost: 0.332,  err: 0.105\n",
      "Iteration 70 out of 100. Cost: 0.292,  err: 0.093\n",
      "Iteration 80 out of 100. Cost: 0.297,  err: 0.076\n",
      "Iteration 90 out of 100. Cost: 0.276,  err: 0.081\n"
     ]
    }
   ],
   "source": [
    "X, Y = get_normalized_data()\n",
    "ann = ANN([300, 100], [0.8, 0.5, 0.5])\n",
    "costs = ann.fit(X, Y, lr=1.0e-5, decay=0.99, momentum=0.9, epochs=100, batch_size=500, print_period=10)"
   ]
  },
  {
   "cell_type": "code",
   "execution_count": 101,
   "metadata": {
    "collapsed": false
   },
   "outputs": [
    {
     "data": {
      "image/png": "[encoded data removed]",
      "text/plain": [
       "<matplotlib.figure.Figure at 0x7fd1ca953898>"
      ]
     },
     "metadata": {},
     "output_type": "display_data"
    }
   ],
   "source": [
    "plt.plot(costs)\n",
    "plt.show()"
   ]
  }
 ],
 "metadata": {
  "kernelspec": {
   "display_name": "Python 3",
   "language": "python",
   "name": "python3"
  },
  "language_info": {
   "codemirror_mode": {
    "name": "ipython",
    "version": 3
   },
   "file_extension": ".py",
   "mimetype": "text/x-python",
   "name": "python",
   "nbconvert_exporter": "python",
   "pygments_lexer": "ipython3",
   "version": "3.6.0"
  }
 },
 "nbformat": 4,
 "nbformat_minor": 2
}
